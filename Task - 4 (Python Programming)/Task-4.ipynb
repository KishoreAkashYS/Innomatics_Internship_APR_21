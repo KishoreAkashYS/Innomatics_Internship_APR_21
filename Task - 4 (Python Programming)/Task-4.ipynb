{
 "cells": [
  {
   "cell_type": "code",
   "execution_count": 1,
   "metadata": {},
   "outputs": [
    {
     "name": "stdout",
     "output_type": "stream",
     "text": [
      "KIshOre AkaSH\n",
      "kiSHoRE aKAsh\n"
     ]
    }
   ],
   "source": [
    "#Ques-1 Swap case\n",
    "def swap_case(s):\n",
    "    c=s.swapcase()\n",
    "    return c\n",
    "\n",
    "if __name__ == '__main__':\n",
    "    s = input()\n",
    "    result = swap_case(s)\n",
    "    print(result)"
   ]
  },
  {
   "cell_type": "code",
   "execution_count": 2,
   "metadata": {},
   "outputs": [
    {
     "name": "stdout",
     "output_type": "stream",
     "text": [
      "My name is kishore akash\n",
      "My-name-is-kishore-akash\n"
     ]
    }
   ],
   "source": [
    "#Ques-2 String split and join\n",
    "def split_and_join(line):\n",
    "    c=line.split(\" \")\n",
    "    c=\"-\".join(c)\n",
    "    return c\n",
    "\n",
    "if __name__ == '__main__':\n",
    "    line = input()\n",
    "    result = split_and_join(line)\n",
    "    print(result)"
   ]
  },
  {
   "cell_type": "code",
   "execution_count": 4,
   "metadata": {},
   "outputs": [
    {
     "name": "stdout",
     "output_type": "stream",
     "text": [
      "Kishore \n",
      "Akash\n",
      "Hello Kishore  Akash! You just delved into python.\n"
     ]
    }
   ],
   "source": [
    "#Ques-3 What's your name?\n",
    "def print_full_name(first, last):\n",
    "    d= first+\" \"+last\n",
    "    print(\"Hello \"+d+\"! You just delved into python.\")\n",
    "\n",
    "if __name__ == '__main__':\n",
    "    first_name = input()\n",
    "    last_name = input()\n",
    "    print_full_name(first_name, last_name)"
   ]
  },
  {
   "cell_type": "code",
   "execution_count": 5,
   "metadata": {},
   "outputs": [
    {
     "name": "stdout",
     "output_type": "stream",
     "text": [
      "kisoreakash\n",
      "3 h\n",
      "kishreakash\n"
     ]
    }
   ],
   "source": [
    "#Ques-4 Mutations\n",
    "def mutate_string(string, position, character):\n",
    "    a_list=list(string)\n",
    "    a_list[position]=c\n",
    "    b_list=''.join(a_list)\n",
    "    return b_list\n",
    "\n",
    "if __name__ == '__main__':\n",
    "    s = input()\n",
    "    i, c = input().split()\n",
    "    s_new = mutate_string(s, int(i), c)\n",
    "    print(s_new)"
   ]
  },
  {
   "cell_type": "code",
   "execution_count": 12,
   "metadata": {},
   "outputs": [
    {
     "name": "stdout",
     "output_type": "stream",
     "text": [
      "LUCIKEKEKRP\n",
      "KEK\n",
      "2\n"
     ]
    }
   ],
   "source": [
    "#Ques-5 Find a string\n",
    "def count_substring(string, sub_string):\n",
    "    cnt=0\n",
    "    for i in range(len(string)-len(sub_string)+1):\n",
    "        if string[i:i+len(sub_string)]==sub_string:\n",
    "            cnt+=1\n",
    "    return cnt\n",
    "\n",
    "if __name__ == '__main__':\n",
    "    string = input().strip()\n",
    "    sub_string = input().strip()\n",
    "    \n",
    "    count = count_substring(string, sub_string)\n",
    "    print(count)"
   ]
  },
  {
   "cell_type": "code",
   "execution_count": 13,
   "metadata": {},
   "outputs": [
    {
     "name": "stdout",
     "output_type": "stream",
     "text": [
      "qA2\n",
      "True\n",
      "True\n",
      "True\n"
     ]
    }
   ],
   "source": [
    "#Ques-6 String validators\n",
    "s = input()\n",
    "for i in range(0,len(s)):\n",
    "    if s[i].isalnum()==True:\n",
    "        print(True)\n",
    "    elif s[i].isalpha()==True:\n",
    "        print(True)\n",
    "    elif s[i].isdigit()==True:\n",
    "        print(True)\n",
    "    elif s[i].islower()==True:\n",
    "        print(True)\n",
    "    elif s[i].isupper()==True:\n",
    "        print(True)\n",
    "    else:\n",
    "        print(False)"
   ]
  },
  {
   "cell_type": "code",
   "execution_count": 15,
   "metadata": {},
   "outputs": [
    {
     "name": "stdout",
     "output_type": "stream",
     "text": [
      "Ka12\n",
      "True\n",
      "True\n",
      "True\n",
      "True\n",
      "True\n"
     ]
    }
   ],
   "source": [
    "#Ques-7 String validators\n",
    "s = input()\n",
    "print(any([i.isalnum() for i in s]))\n",
    "print(any([i.isalpha() for i in s]))\n",
    "print(any([i.isdigit() for i in s]))\n",
    "print(any([i.islower() for i in s]))\n",
    "print(any([i.isupper() for i in s]))"
   ]
  },
  {
   "cell_type": "code",
   "execution_count": 6,
   "metadata": {},
   "outputs": [
    {
     "name": "stdout",
     "output_type": "stream",
     "text": [
      "11\n",
      "          H          \n",
      "         HHH         \n",
      "        HHHHH        \n",
      "       HHHHHHH       \n",
      "      HHHHHHHHH      \n",
      "     HHHHHHHHHHH     \n",
      "    HHHHHHHHHHHHH    \n",
      "   HHHHHHHHHHHHHHH   \n",
      "  HHHHHHHHHHHHHHHHH  \n",
      " HHHHHHHHHHHHHHHHHHH \n",
      "HHHHHHHHHHHHHHHHHHHHH\n",
      "     HHHHHHHHHHH                                 HHHHHHHHHHH                            \n",
      "     HHHHHHHHHHH                                 HHHHHHHHHHH                            \n",
      "     HHHHHHHHHHH                                 HHHHHHHHHHH                            \n",
      "     HHHHHHHHHHH                                 HHHHHHHHHHH                            \n",
      "     HHHHHHHHHHH                                 HHHHHHHHHHH                            \n",
      "     HHHHHHHHHHH                                 HHHHHHHHHHH                            \n",
      "     HHHHHHHHHHH                                 HHHHHHHHHHH                            \n",
      "     HHHHHHHHHHH                                 HHHHHHHHHHH                            \n",
      "     HHHHHHHHHHH                                 HHHHHHHHHHH                            \n",
      "     HHHHHHHHHHH                                 HHHHHHHHHHH                            \n",
      "     HHHHHHHHHHH                                 HHHHHHHHHHH                            \n",
      "     HHHHHHHHHHH                                 HHHHHHHHHHH                            \n",
      "     HHHHHHHHHHHHHHHHHHHHHHHHHHHHHHHHHHHHHHHHHHHHHHHHHHHHHHH      \n",
      "     HHHHHHHHHHHHHHHHHHHHHHHHHHHHHHHHHHHHHHHHHHHHHHHHHHHHHHH      \n",
      "     HHHHHHHHHHHHHHHHHHHHHHHHHHHHHHHHHHHHHHHHHHHHHHHHHHHHHHH      \n",
      "     HHHHHHHHHHHHHHHHHHHHHHHHHHHHHHHHHHHHHHHHHHHHHHHHHHHHHHH      \n",
      "     HHHHHHHHHHHHHHHHHHHHHHHHHHHHHHHHHHHHHHHHHHHHHHHHHHHHHHH      \n",
      "     HHHHHHHHHHHHHHHHHHHHHHHHHHHHHHHHHHHHHHHHHHHHHHHHHHHHHHH      \n",
      "     HHHHHHHHHHH                                 HHHHHHHHHHH                            \n",
      "     HHHHHHHHHHH                                 HHHHHHHHHHH                            \n",
      "     HHHHHHHHHHH                                 HHHHHHHHHHH                            \n",
      "     HHHHHHHHHHH                                 HHHHHHHHHHH                            \n",
      "     HHHHHHHHHHH                                 HHHHHHHHHHH                            \n",
      "     HHHHHHHHHHH                                 HHHHHHHHHHH                            \n",
      "     HHHHHHHHHHH                                 HHHHHHHHHHH                            \n",
      "     HHHHHHHHHHH                                 HHHHHHHHHHH                            \n",
      "     HHHHHHHHHHH                                 HHHHHHHHHHH                            \n",
      "     HHHHHHHHHHH                                 HHHHHHHHHHH                            \n",
      "     HHHHHHHHHHH                                 HHHHHHHHHHH                            \n",
      "     HHHHHHHHHHH                                 HHHHHHHHHHH                            \n",
      "                                            HHHHHHHHHHHHHHHHHHHHH \n",
      "                                             HHHHHHHHHHHHHHHHHHH  \n",
      "                                              HHHHHHHHHHHHHHHHH   \n",
      "                                               HHHHHHHHHHHHHHH    \n",
      "                                                HHHHHHHHHHHHH     \n",
      "                                                 HHHHHHHHHHH      \n",
      "                                                  HHHHHHHHH       \n",
      "                                                   HHHHHHH        \n",
      "                                                    HHHHH         \n",
      "                                                     HHH          \n",
      "                                                      H           \n"
     ]
    }
   ],
   "source": [
    "#Ques-8 Text allignment\n",
    "thickness = int(input())\n",
    "c = 'H'\n",
    "#Top Cone\n",
    "for i in range(thickness):\n",
    "    print((c*i).rjust(thickness-1)+c+(c*i).ljust(thickness-1))\n",
    "#Top Pillars\n",
    "for i in range(thickness+1):\n",
    "    print((c*thickness).center(thickness*2)+(c*thickness).center(thickness*6))\n",
    "#Middle Belt\n",
    "for i in range((thickness+1)//2):\n",
    "    print((c*thickness*5).center(thickness*6))    \n",
    "#Bottom Pillars\n",
    "for i in range(thickness+1):\n",
    "    print((c*thickness).center(thickness*2)+(c*thickness).center(thickness*6))    \n",
    "#Bottom Cone\n",
    "for i in range(thickness):\n",
    "    print(((c*(thickness-i-1)).rjust(thickness)+c+(c*(thickness-i-1)).ljust(thickness)).rjust(thickness*6))"
   ]
  },
  {
   "cell_type": "code",
   "execution_count": 8,
   "metadata": {},
   "outputs": [
    {
     "name": "stdout",
     "output_type": "stream",
     "text": [
      "ANCDEFGHIJKLNMOPQRSTUVWXYZ\n",
      "4\n",
      "ANCD\n",
      "EFGH\n",
      "IJKL\n",
      "NMOP\n",
      "QRST\n",
      "UVWX\n",
      "YZ\n"
     ]
    }
   ],
   "source": [
    "#Ques-9 Text Wrap\n",
    "import textwrap\n",
    "def wrap(string, max_width):\n",
    "    value = textwrap.TextWrapper(width=max_width)\n",
    "    wrapper = value.wrap(text=string)\n",
    "    for i in wrapper:\n",
    "        print(i)\n",
    "if __name__ == '__main__':\n",
    "    string, max_width = input(), int(input())\n",
    "    result = wrap(string, max_width)"
   ]
  },
  {
   "cell_type": "code",
   "execution_count": 10,
   "metadata": {},
   "outputs": [
    {
     "name": "stdout",
     "output_type": "stream",
     "text": [
      "11 33\n",
      "---------------.|.---------------\n",
      "------------.|..|..|.------------\n",
      "---------.|..|..|..|..|.---------\n",
      "------.|..|..|..|..|..|..|.------\n",
      "---.|..|..|..|..|..|..|..|..|.---\n",
      "-------------WELCOME-------------\n",
      "---.|..|..|..|..|..|..|..|..|.---\n",
      "------.|..|..|..|..|..|..|.------\n",
      "---------.|..|..|..|..|.---------\n",
      "------------.|..|..|.------------\n",
      "---------------.|.---------------\n"
     ]
    }
   ],
   "source": [
    "#Ques-10 Designing door mat\n",
    "n,m=map(int,input().split())\n",
    "for i in range(1,n,2):\n",
    "    print (str('.|.'*i).center(m,'-'))\n",
    "print(str('WELCOME').center(m,'-'))\n",
    "for i in range(n-2,-1,-2):\n",
    "    print (str('.|.'*i).center(m,'-'))"
   ]
  },
  {
   "cell_type": "code",
   "execution_count": 12,
   "metadata": {},
   "outputs": [
    {
     "name": "stdout",
     "output_type": "stream",
     "text": [
      "kishore akash \n",
      "Kishore Akash \n"
     ]
    }
   ],
   "source": [
    "#Ques-11 Capitalize\n",
    "s = input()\n",
    "c = s.title()\n",
    "print(c)"
   ]
  },
  {
   "cell_type": "code",
   "execution_count": 13,
   "metadata": {},
   "outputs": [
    {
     "name": "stdout",
     "output_type": "stream",
     "text": [
      "MALAYALAM\n",
      "Stuart 25\n"
     ]
    }
   ],
   "source": [
    "#Ques-12 The minion game\n",
    "def minion_game(string):\n",
    "    kevin=0\n",
    "    stuart=0\n",
    "    for i in range(len(string)):\n",
    "        if string[i] in 'AEIOU':\n",
    "            kevin+=len(string)-i\n",
    "        else:\n",
    "            stuart+=len(string)-i\n",
    "    if stuart>kevin:\n",
    "        print(\"Stuart\",stuart)\n",
    "    elif kevin>stuart:\n",
    "        print(\"Kevin\",kevin)\n",
    "    else:\n",
    "        print(\"Draw\")\n",
    "if __name__ == '__main__':\n",
    "    s = input()\n",
    "    minion_game(s)"
   ]
  },
  {
   "cell_type": "code",
   "execution_count": 25,
   "metadata": {},
   "outputs": [
    {
     "name": "stdout",
     "output_type": "stream",
     "text": [
      "5\n",
      "  1   1   1   1\n",
      "  2   2   2  10\n",
      "  3   3   3  11\n",
      "  4   4   4 100\n",
      "  5   5   5 101\n"
     ]
    }
   ],
   "source": [
    "#Ques-13 String formatting\n",
    "n = int(input())\n",
    "width = len(\"{0:b}\".format(n))\n",
    "for i in range(1,n+1):\n",
    "  print(\"{0:{width}d} {0:{width}o} {0:{width}X} {0:{width}b}\".format(i, width=width))"
   ]
  },
  {
   "cell_type": "code",
   "execution_count": 31,
   "metadata": {},
   "outputs": [
    {
     "name": "stdout",
     "output_type": "stream",
     "text": [
      "ABBADAACBD\n",
      "3\n",
      "AB\n",
      "AD\n",
      "ACB\n",
      "D\n"
     ]
    }
   ],
   "source": [
    "#Ques-14 Merge the tools\n",
    "from collections import OrderedDict as od\n",
    "def merge_the_tools(string, k):\n",
    "    for i in range(0,len(string),k):\n",
    "         print(''.join(od.fromkeys(string[i:i + k])))\n",
    "if __name__ == '__main__':\n",
    "    string, k = input(), int(input())\n",
    "    merge_the_tools(string, k)"
   ]
  },
  {
   "cell_type": "code",
   "execution_count": 32,
   "metadata": {},
   "outputs": [
    {
     "name": "stdout",
     "output_type": "stream",
     "text": [
      "10\n",
      "------------------j------------------\n",
      "----------------j-i-j----------------\n",
      "--------------j-i-h-i-j--------------\n",
      "------------j-i-h-g-h-i-j------------\n",
      "----------j-i-h-g-f-g-h-i-j----------\n",
      "--------j-i-h-g-f-e-f-g-h-i-j--------\n",
      "------j-i-h-g-f-e-d-e-f-g-h-i-j------\n",
      "----j-i-h-g-f-e-d-c-d-e-f-g-h-i-j----\n",
      "--j-i-h-g-f-e-d-c-b-c-d-e-f-g-h-i-j--\n",
      "j-i-h-g-f-e-d-c-b-a-b-c-d-e-f-g-h-i-j\n",
      "--j-i-h-g-f-e-d-c-b-c-d-e-f-g-h-i-j--\n",
      "----j-i-h-g-f-e-d-c-d-e-f-g-h-i-j----\n",
      "------j-i-h-g-f-e-d-e-f-g-h-i-j------\n",
      "--------j-i-h-g-f-e-f-g-h-i-j--------\n",
      "----------j-i-h-g-f-g-h-i-j----------\n",
      "------------j-i-h-g-h-i-j------------\n",
      "--------------j-i-h-i-j--------------\n",
      "----------------j-i-j----------------\n",
      "------------------j------------------\n"
     ]
    }
   ],
   "source": [
    "#Ques-15 Alphabet rangoli\n",
    "import string\n",
    "def print_rangoli(size):\n",
    "    width = 4 * size - 3\n",
    "    alpha = string.ascii_lowercase\n",
    "    for i in list(range(size))[::-1] + list(range(1, size)):\n",
    "        print('-'.join(alpha[size-1:i:-1] + alpha[i:size]).center(width, '-'))\n",
    "if __name__ == '__main__':\n",
    "    n = int(input())\n",
    "    print_rangoli(n)"
   ]
  }
 ],
 "metadata": {
  "kernelspec": {
   "display_name": "Python 3",
   "language": "python",
   "name": "python3"
  },
  "language_info": {
   "codemirror_mode": {
    "name": "ipython",
    "version": 3
   },
   "file_extension": ".py",
   "mimetype": "text/x-python",
   "name": "python",
   "nbconvert_exporter": "python",
   "pygments_lexer": "ipython3",
   "version": "3.8.3"
  }
 },
 "nbformat": 4,
 "nbformat_minor": 4
}
