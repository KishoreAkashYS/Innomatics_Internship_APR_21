{
 "cells": [
  {
   "cell_type": "markdown",
   "metadata": {},
   "source": [
    "1. The ratio of boys to girls for babies born in Russia is 1.09:1 . If there is 1 child born per birth, what proportion of Russian families with exactly 6 children will have at least 3 boys?"
   ]
  },
  {
   "cell_type": "code",
   "execution_count": 4,
   "metadata": {},
   "outputs": [
    {
     "name": "stdout",
     "output_type": "stream",
     "text": [
      "1.09 1\n",
      "0.696\n"
     ]
    }
   ],
   "source": [
    "#Ques-1 Binomial distribution-1\n",
    "import math\n",
    "def comb(n, r):\n",
    "    return  math.factorial(n) / ( math.factorial(r) *  math.factorial(n-r))\n",
    "def bino(n, r, p):\n",
    "    return comb(n, r) * p**r * (1-p)**(n-r)\n",
    "a, b = list(map(float, input().split()))\n",
    "odds = a / b\n",
    "print(round(sum([bino(6, i, odds / (1 + odds)) for i in range(3, 7)]), 3))"
   ]
  },
  {
   "cell_type": "markdown",
   "metadata": {},
   "source": [
    "2. A manufacturer of metal pistons finds that, on average, 12% of the pistons they manufacture are rejected because they are incorrectly sized. What is the probability that a batch of 10 pistons will contain: (i) No more than 2 rejects? (ii)At least 2 rejects?"
   ]
  },
  {
   "cell_type": "code",
   "execution_count": 10,
   "metadata": {},
   "outputs": [
    {
     "name": "stdout",
     "output_type": "stream",
     "text": [
      "12 10\n",
      "0.891\n",
      "0.342\n"
     ]
    }
   ],
   "source": [
    "#Ques-2 Binomial distribution-2\n",
    "import math\n",
    "def comb(n, r):\n",
    "    return math.factorial(n) / (math.factorial(r) * math.factorial(n-r))\n",
    "def bino(n, r, p):\n",
    "    return comb(n,r) * p**r * (1-p)**(n-r)\n",
    "a, b = list(map(int, input().split()))\n",
    "print(round(sum([bino(b,i,a/100) for i in range(3)]),3))\n",
    "print(round(sum([bino(b,i,a/100) for i in range(2,b+1)]),3))"
   ]
  },
  {
   "cell_type": "markdown",
   "metadata": {},
   "source": [
    "3. In a certain plant, the time taken to assemble a car is a random variable, X, having a normal distribution with a mean of 20 hours and a standard deviation of 2 hours. What is the probability that a car can be assembled at this plant in:(i) Less than 19.5 hours? (ii) Between 20 and 22 hours?"
   ]
  },
  {
   "cell_type": "code",
   "execution_count": 2,
   "metadata": {
    "scrolled": true
   },
   "outputs": [
    {
     "name": "stdout",
     "output_type": "stream",
     "text": [
      "0.401\n",
      "0.341\n"
     ]
    }
   ],
   "source": [
    "#Ques-3 Normal distribution-1\n",
    "from scipy import stats\n",
    "mean, std = 20,2\n",
    "q1 = stats.norm.cdf(19.5,mean,std)\n",
    "q2 = stats.norm.cdf(22,mean,std) - stats.norm.cdf(20,mean,std)\n",
    "print(round(q1,3))\n",
    "print(round(q2,3))"
   ]
  },
  {
   "cell_type": "markdown",
   "metadata": {},
   "source": [
    "4. The final grades for a Physics exam taken by a large group of students have a mean of $\\mu=70$ and a standard deviation of $\\sigma=10$. If we can approximate the distribution of these grades by a normal distribution, what percentage of the students:(i)Scored higher than 80 (i.e., have a grade>80)? (ii)Passed the test (i.e., have a grade>=60)? (iii)Failed the test (i.e., have a grade<60)? Find and print the answer to each question on a new line, rounded to a scale of 2 decimal places."
   ]
  },
  {
   "cell_type": "code",
   "execution_count": 6,
   "metadata": {},
   "outputs": [
    {
     "name": "stdout",
     "output_type": "stream",
     "text": [
      "15.87\n",
      "84.13\n",
      "15.87\n"
     ]
    }
   ],
   "source": [
    "#Ques-4 Normal distribution-2\n",
    "from scipy import stats\n",
    "mean, std = 70, 10\n",
    "q1 = stats.norm.cdf(80,mean,std)\n",
    "q2 = stats.norm.cdf(60,mean,std)\n",
    "print(round((1-q1)*100,2))\n",
    "print(round((1-q2)*100,2))\n",
    "print(round(q2*100,2))"
   ]
  },
  {
   "cell_type": "markdown",
   "metadata": {},
   "source": [
    "5. A large elevator can transport a maximum of 9800 pounds. Suppose a load of cargo containing 49 boxes must be transported via the elevator. The box weight of this type of cargo follows a distribution with a mean of $\\mu=205$ pounds and a standard deviation of $\\sigma=15$ pounds. Based on this information, what is the probability that all 49 boxes can be safely loaded into the freight elevator and transported?"
   ]
  },
  {
   "cell_type": "code",
   "execution_count": 9,
   "metadata": {},
   "outputs": [
    {
     "name": "stdout",
     "output_type": "stream",
     "text": [
      "0.0098\n"
     ]
    }
   ],
   "source": [
    "#Ques-5 Central limit theorem -1\n",
    "import math\n",
    "from scipy import stats\n",
    "x , box = 9800,49\n",
    "mean , std = 205, 15\n",
    "mean_sum = box * mean \n",
    "std_sum = math.sqrt(box) * std\n",
    "print(round(stats.norm.cdf(x, mean_sum, std_sum), 4))"
   ]
  },
  {
   "cell_type": "markdown",
   "metadata": {},
   "source": [
    "6. The number of tickets purchased by each student for the University X vs. University Y football game follows a distribution that has a mean of $\\mu=2.4$ and a standard deviation of $\\sigma=2.0$.A few hours before the game starts, 100 eager students line up to purchase last-minute tickets. If there are only 250 tickets left, what is the probability that all 100 students will be able to purchase tickets?"
   ]
  },
  {
   "cell_type": "code",
   "execution_count": 10,
   "metadata": {},
   "outputs": [
    {
     "name": "stdout",
     "output_type": "stream",
     "text": [
      "0.6915\n"
     ]
    }
   ],
   "source": [
    "#Ques-6 Central limit theorem -2\n",
    "import math\n",
    "from scipy import stats\n",
    "x , y = 250, 100\n",
    "mean , std = 2.4, 2.0\n",
    "mean_sum = y * mean \n",
    "std_sum = math.sqrt(y) * std\n",
    "print(round(stats.norm.cdf(x, mean_sum, std_sum), 4))"
   ]
  },
  {
   "cell_type": "markdown",
   "metadata": {},
   "source": [
    "7. You have a sample of 100 values from a population with mean $\\mu=500$ and with standard deviation $\\sigma=80$. Compute the interval that covers the middle 95% of the distribution of the sample mean; in other words, compute A and B such that P(A<x<B) = 0.95. Use the value of z = 1.96. Note that  is the z-score."
   ]
  },
  {
   "cell_type": "code",
   "execution_count": 14,
   "metadata": {},
   "outputs": [
    {
     "name": "stdout",
     "output_type": "stream",
     "text": [
      "484.32\n",
      "515.68\n"
     ]
    }
   ],
   "source": [
    "#Ques-7 Central limit theorem -3\n",
    "import math\n",
    "n = 100\n",
    "mean = 500\n",
    "std = 80\n",
    "interval = 0.95\n",
    "z = 1.96\n",
    "print(round(mean - (std / math.sqrt(n))* z, 2))\n",
    "print(round(mean + (std / math.sqrt(n))* z, 2))"
   ]
  },
  {
   "cell_type": "markdown",
   "metadata": {},
   "source": [
    "8. Given two n-element data sets, X and Y, calculate the value of the Pearson correlation coefficient."
   ]
  },
  {
   "cell_type": "code",
   "execution_count": 19,
   "metadata": {},
   "outputs": [
    {
     "name": "stdout",
     "output_type": "stream",
     "text": [
      "10\n",
      "10 9.8 8 7.8 7.7 7 6 5 4 2 \n",
      "200 44 32 24 22 17 15 12 8 4\n",
      "0.612\n"
     ]
    }
   ],
   "source": [
    "#Ques-8 Pearson Coefficient\n",
    "n = int(input())\n",
    "x = list(map(float,input().split()))\n",
    "y = list(map(float,input().split()))\n",
    "mean_x = sum(x) / n\n",
    "mean_y = sum(y) / n\n",
    "std_x = math.sqrt(sum([(i - mean_x)**2 for i in x]) / n)\n",
    "std_y = math.sqrt(sum([(i - mean_y)**2 for i in y]) / n)\n",
    "covariance = sum([(x[i] - mean_x) * (y[i] -mean_y) for i in range(n)])\n",
    "correlation_coefficient = covariance / (n * std_x * std_y)\n",
    "print(round(correlation_coefficient,3))"
   ]
  },
  {
   "cell_type": "markdown",
   "metadata": {},
   "source": [
    "9. A group of five students enrolls in Statistics immediately after taking a Math aptitude test. Each student's Math aptitude test score,x , and Statistics course grade,y , can be expressed as the following list of (x,y) points:(95,85),(85,95),(80,70),(70,65),(60,70). If a student scored an 80 on the Math aptitude test, what grade would we expect them to achieve in Statistics? Determine the equation of the best-fit line using the least squares method, then compute and print the value of y when x=80."
   ]
  },
  {
   "cell_type": "code",
   "execution_count": 21,
   "metadata": {},
   "outputs": [
    {
     "name": "stdout",
     "output_type": "stream",
     "text": [
      "95 85\n",
      "85 95\n",
      "80 70\n",
      "70 65\n",
      "60 70\n",
      "78.288\n"
     ]
    }
   ],
   "source": [
    "#Ques-9 Least square regression\n",
    "n = 5\n",
    "test_grade = [map(int, input().split()) for _ in range(n)]\n",
    "sx, sy, sx2, sxy = map(sum, zip(*[(x, y, x**2, x * y) for x, y in test_grade]))\n",
    "b = (n * sxy - sx * sy) / (n * sx2 - sx**2)\n",
    "a = (sy / n) - b * (sx / n)\n",
    "print(round((a + b * 80),3))"
   ]
  },
  {
   "cell_type": "markdown",
   "metadata": {},
   "source": [
    "10. Andrea has a simple equation: Y = a + b1.f1 + b1.f2 + ..... + bm.fm  For (m+1) real constants (a,f1,f2,...,fm). We can say that the value of  depends on  features. Andrea studies this equation for n different feature sets (f1,f2,f3,...,fm) and records each respective value of Y. If she has q new feature sets, can you help Andrea find the value of Y for each of the sets?"
   ]
  },
  {
   "cell_type": "code",
   "execution_count": 22,
   "metadata": {},
   "outputs": [
    {
     "name": "stdout",
     "output_type": "stream",
     "text": [
      "2 7\n",
      "0.18 0.89 109.85\n",
      "1.0 0.26 155.72\n",
      "0.92 0.11 137.66\n",
      "0.07 0.37 76.17\n",
      "0.85 0.16 139.75\n",
      "0.99 0.41 162.6\n",
      "0.87 0.47 151.77\n",
      "4\n",
      "0.49 0.18\n",
      "0.57 0.83\n",
      "0.56 0.64\n",
      "0.76 0.18\n",
      "105.21455835106973\n",
      "142.67095130729967\n",
      "132.93605469124736\n",
      "129.70175404502484\n"
     ]
    }
   ],
   "source": [
    "#Ques-10 Multiple Linear regression\n",
    "import numpy as np\n",
    "m,n=list(map(int,input().split()))\n",
    "x=np.ones((n,m+1))\n",
    "y=np.zeros((n,1))\n",
    "for i in range(n):\n",
    "    obs=np.array(list(map(float,input().split())))\n",
    "    for j in range(m):\n",
    "        x[i,j+1]=obs[j]\n",
    "    y[i,0]=obs[m]\n",
    "q=int(input())\n",
    "xtest=np.ones((q,m+1))\n",
    "for i in range(q):\n",
    "    test=np.array(list(map(float,input().split())))\n",
    "    for j in range(m):\n",
    "        xtest[i,j+1]=test[j]\n",
    "\n",
    "a=(x.T).dot(x)\n",
    "b=np.linalg.inv(a)\n",
    "c=b.dot(x.T)\n",
    "d=c.dot(y)\n",
    "\n",
    "for i in range(q):\n",
    "    print(float(xtest[i].dot(d)))"
   ]
  },
  {
   "cell_type": "code",
   "execution_count": null,
   "metadata": {},
   "outputs": [],
   "source": []
  }
 ],
 "metadata": {
  "kernelspec": {
   "display_name": "Python 3",
   "language": "python",
   "name": "python3"
  },
  "language_info": {
   "codemirror_mode": {
    "name": "ipython",
    "version": 3
   },
   "file_extension": ".py",
   "mimetype": "text/x-python",
   "name": "python",
   "nbconvert_exporter": "python",
   "pygments_lexer": "ipython3",
   "version": "3.8.3"
  }
 },
 "nbformat": 4,
 "nbformat_minor": 4
}
