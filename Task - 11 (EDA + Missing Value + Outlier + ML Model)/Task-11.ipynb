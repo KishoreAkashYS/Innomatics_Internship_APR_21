{
 "cells": [
  {
   "cell_type": "markdown",
   "id": "2672cd0d",
   "metadata": {},
   "source": [
    "# Problem statement\n",
    "**Ques-1: Hi everyone, We are going to predict the income of the individuals with the given Adult dataset. For that we have to first do Exploratory data analysis with the given columns. And we have to remove the outliers and missing values from the dataset. ANd finally we have to preprocess the data and build a Machine leraning model to give salary prediction.**"
   ]
  },
  {
   "cell_type": "markdown",
   "id": "0857b30a",
   "metadata": {},
   "source": [
    "# Data description\n",
    "* An individual’s annual income results from various factors. Intuitively, it is influenced by the individual’s education level, age, gender, occupation, and etc.\n",
    "* This is a widely cited KNN dataset. It is a good starter example for data pre-processing and machine learning practices.\n",
    "* Fields:<br>\n",
    "  The dataset contains 16 columns<br>\n",
    "  Target filed: Income<br>\n",
    "  -- The income is divide into two classes: 50K<br>\n",
    "  Number of attributes: 14<br>\n",
    "  -- These are the demographics and other features to describe a person<br>\n",
    "* We can explore the possibility in predicting income level based on the individual’s personal information."
   ]
  },
  {
   "cell_type": "markdown",
   "id": "0d5d0bcc",
   "metadata": {},
   "source": [
    "# Importing required libraries"
   ]
  },
  {
   "cell_type": "code",
   "execution_count": 1,
   "id": "7b4e6792",
   "metadata": {},
   "outputs": [],
   "source": [
    "import warnings\n",
    "warnings.filterwarnings('ignore')"
   ]
  },
  {
   "cell_type": "code",
   "execution_count": 2,
   "id": "22a4e9d0",
   "metadata": {},
   "outputs": [],
   "source": [
    "import pandas as pd\n",
    "import numpy as np\n",
    "import matplotlib.pyplot as plt\n",
    "import seaborn as sns\n",
    "from scipy import stats"
   ]
  },
  {
   "cell_type": "markdown",
   "id": "3c7fd768",
   "metadata": {},
   "source": [
    "# Objective\n",
    "* To perform Univariate and bivariate analysis.\n",
    "* To find the outliers in each column.\n",
    "* To Understand the probability and frequency distribution of numeric and categorical columns.\n",
    "* To identify the patterns between categorical variables using various plots.\n",
    "* To create various machine learning algorithm and check the efficiency of each model"
   ]
  },
  {
   "cell_type": "code",
   "execution_count": 3,
   "id": "71eae72f",
   "metadata": {},
   "outputs": [
    {
     "data": {
      "text/plain": [
       "(48842, 15)"
      ]
     },
     "execution_count": 3,
     "metadata": {},
     "output_type": "execute_result"
    }
   ],
   "source": [
    "#loading dataset\n",
    "df = pd.read_csv(\"adult.csv\")\n",
    "df.shape"
   ]
  },
  {
   "cell_type": "code",
   "execution_count": 4,
   "id": "576a4a8e",
   "metadata": {},
   "outputs": [
    {
     "data": {
      "text/html": [
       "<div>\n",
       "<style scoped>\n",
       "    .dataframe tbody tr th:only-of-type {\n",
       "        vertical-align: middle;\n",
       "    }\n",
       "\n",
       "    .dataframe tbody tr th {\n",
       "        vertical-align: top;\n",
       "    }\n",
       "\n",
       "    .dataframe thead th {\n",
       "        text-align: right;\n",
       "    }\n",
       "</style>\n",
       "<table border=\"1\" class=\"dataframe\">\n",
       "  <thead>\n",
       "    <tr style=\"text-align: right;\">\n",
       "      <th></th>\n",
       "      <th>age</th>\n",
       "      <th>workclass</th>\n",
       "      <th>fnlwgt</th>\n",
       "      <th>education</th>\n",
       "      <th>educational-num</th>\n",
       "      <th>marital-status</th>\n",
       "      <th>occupation</th>\n",
       "      <th>relationship</th>\n",
       "      <th>race</th>\n",
       "      <th>gender</th>\n",
       "      <th>capital-gain</th>\n",
       "      <th>capital-loss</th>\n",
       "      <th>hours-per-week</th>\n",
       "      <th>native-country</th>\n",
       "      <th>income</th>\n",
       "    </tr>\n",
       "  </thead>\n",
       "  <tbody>\n",
       "    <tr>\n",
       "      <th>0</th>\n",
       "      <td>25</td>\n",
       "      <td>Private</td>\n",
       "      <td>226802</td>\n",
       "      <td>11th</td>\n",
       "      <td>7</td>\n",
       "      <td>Never-married</td>\n",
       "      <td>Machine-op-inspct</td>\n",
       "      <td>Own-child</td>\n",
       "      <td>Black</td>\n",
       "      <td>Male</td>\n",
       "      <td>0</td>\n",
       "      <td>0</td>\n",
       "      <td>40</td>\n",
       "      <td>United-States</td>\n",
       "      <td>&lt;=50K</td>\n",
       "    </tr>\n",
       "    <tr>\n",
       "      <th>1</th>\n",
       "      <td>38</td>\n",
       "      <td>Private</td>\n",
       "      <td>89814</td>\n",
       "      <td>HS-grad</td>\n",
       "      <td>9</td>\n",
       "      <td>Married-civ-spouse</td>\n",
       "      <td>Farming-fishing</td>\n",
       "      <td>Husband</td>\n",
       "      <td>White</td>\n",
       "      <td>Male</td>\n",
       "      <td>0</td>\n",
       "      <td>0</td>\n",
       "      <td>50</td>\n",
       "      <td>United-States</td>\n",
       "      <td>&lt;=50K</td>\n",
       "    </tr>\n",
       "    <tr>\n",
       "      <th>2</th>\n",
       "      <td>28</td>\n",
       "      <td>Local-gov</td>\n",
       "      <td>336951</td>\n",
       "      <td>Assoc-acdm</td>\n",
       "      <td>12</td>\n",
       "      <td>Married-civ-spouse</td>\n",
       "      <td>Protective-serv</td>\n",
       "      <td>Husband</td>\n",
       "      <td>White</td>\n",
       "      <td>Male</td>\n",
       "      <td>0</td>\n",
       "      <td>0</td>\n",
       "      <td>40</td>\n",
       "      <td>United-States</td>\n",
       "      <td>&gt;50K</td>\n",
       "    </tr>\n",
       "    <tr>\n",
       "      <th>3</th>\n",
       "      <td>44</td>\n",
       "      <td>Private</td>\n",
       "      <td>160323</td>\n",
       "      <td>Some-college</td>\n",
       "      <td>10</td>\n",
       "      <td>Married-civ-spouse</td>\n",
       "      <td>Machine-op-inspct</td>\n",
       "      <td>Husband</td>\n",
       "      <td>Black</td>\n",
       "      <td>Male</td>\n",
       "      <td>7688</td>\n",
       "      <td>0</td>\n",
       "      <td>40</td>\n",
       "      <td>United-States</td>\n",
       "      <td>&gt;50K</td>\n",
       "    </tr>\n",
       "    <tr>\n",
       "      <th>4</th>\n",
       "      <td>18</td>\n",
       "      <td>?</td>\n",
       "      <td>103497</td>\n",
       "      <td>Some-college</td>\n",
       "      <td>10</td>\n",
       "      <td>Never-married</td>\n",
       "      <td>?</td>\n",
       "      <td>Own-child</td>\n",
       "      <td>White</td>\n",
       "      <td>Female</td>\n",
       "      <td>0</td>\n",
       "      <td>0</td>\n",
       "      <td>30</td>\n",
       "      <td>United-States</td>\n",
       "      <td>&lt;=50K</td>\n",
       "    </tr>\n",
       "  </tbody>\n",
       "</table>\n",
       "</div>"
      ],
      "text/plain": [
       "   age  workclass  fnlwgt     education  educational-num      marital-status  \\\n",
       "0   25    Private  226802          11th                7       Never-married   \n",
       "1   38    Private   89814       HS-grad                9  Married-civ-spouse   \n",
       "2   28  Local-gov  336951    Assoc-acdm               12  Married-civ-spouse   \n",
       "3   44    Private  160323  Some-college               10  Married-civ-spouse   \n",
       "4   18          ?  103497  Some-college               10       Never-married   \n",
       "\n",
       "          occupation relationship   race  gender  capital-gain  capital-loss  \\\n",
       "0  Machine-op-inspct    Own-child  Black    Male             0             0   \n",
       "1    Farming-fishing      Husband  White    Male             0             0   \n",
       "2    Protective-serv      Husband  White    Male             0             0   \n",
       "3  Machine-op-inspct      Husband  Black    Male          7688             0   \n",
       "4                  ?    Own-child  White  Female             0             0   \n",
       "\n",
       "   hours-per-week native-country income  \n",
       "0              40  United-States  <=50K  \n",
       "1              50  United-States  <=50K  \n",
       "2              40  United-States   >50K  \n",
       "3              40  United-States   >50K  \n",
       "4              30  United-States  <=50K  "
      ]
     },
     "execution_count": 4,
     "metadata": {},
     "output_type": "execute_result"
    }
   ],
   "source": [
    "df.head()"
   ]
  },
  {
   "cell_type": "code",
   "execution_count": 5,
   "id": "b8277359",
   "metadata": {},
   "outputs": [
    {
     "data": {
      "text/html": [
       "<div>\n",
       "<style scoped>\n",
       "    .dataframe tbody tr th:only-of-type {\n",
       "        vertical-align: middle;\n",
       "    }\n",
       "\n",
       "    .dataframe tbody tr th {\n",
       "        vertical-align: top;\n",
       "    }\n",
       "\n",
       "    .dataframe thead th {\n",
       "        text-align: right;\n",
       "    }\n",
       "</style>\n",
       "<table border=\"1\" class=\"dataframe\">\n",
       "  <thead>\n",
       "    <tr style=\"text-align: right;\">\n",
       "      <th></th>\n",
       "      <th>age</th>\n",
       "      <th>workclass</th>\n",
       "      <th>fnlwgt</th>\n",
       "      <th>education</th>\n",
       "      <th>educational-num</th>\n",
       "      <th>marital-status</th>\n",
       "      <th>occupation</th>\n",
       "      <th>relationship</th>\n",
       "      <th>race</th>\n",
       "      <th>gender</th>\n",
       "      <th>capital-gain</th>\n",
       "      <th>capital-loss</th>\n",
       "      <th>hours-per-week</th>\n",
       "      <th>native-country</th>\n",
       "      <th>income</th>\n",
       "    </tr>\n",
       "  </thead>\n",
       "  <tbody>\n",
       "    <tr>\n",
       "      <th>48837</th>\n",
       "      <td>27</td>\n",
       "      <td>Private</td>\n",
       "      <td>257302</td>\n",
       "      <td>Assoc-acdm</td>\n",
       "      <td>12</td>\n",
       "      <td>Married-civ-spouse</td>\n",
       "      <td>Tech-support</td>\n",
       "      <td>Wife</td>\n",
       "      <td>White</td>\n",
       "      <td>Female</td>\n",
       "      <td>0</td>\n",
       "      <td>0</td>\n",
       "      <td>38</td>\n",
       "      <td>United-States</td>\n",
       "      <td>&lt;=50K</td>\n",
       "    </tr>\n",
       "    <tr>\n",
       "      <th>48838</th>\n",
       "      <td>40</td>\n",
       "      <td>Private</td>\n",
       "      <td>154374</td>\n",
       "      <td>HS-grad</td>\n",
       "      <td>9</td>\n",
       "      <td>Married-civ-spouse</td>\n",
       "      <td>Machine-op-inspct</td>\n",
       "      <td>Husband</td>\n",
       "      <td>White</td>\n",
       "      <td>Male</td>\n",
       "      <td>0</td>\n",
       "      <td>0</td>\n",
       "      <td>40</td>\n",
       "      <td>United-States</td>\n",
       "      <td>&gt;50K</td>\n",
       "    </tr>\n",
       "    <tr>\n",
       "      <th>48839</th>\n",
       "      <td>58</td>\n",
       "      <td>Private</td>\n",
       "      <td>151910</td>\n",
       "      <td>HS-grad</td>\n",
       "      <td>9</td>\n",
       "      <td>Widowed</td>\n",
       "      <td>Adm-clerical</td>\n",
       "      <td>Unmarried</td>\n",
       "      <td>White</td>\n",
       "      <td>Female</td>\n",
       "      <td>0</td>\n",
       "      <td>0</td>\n",
       "      <td>40</td>\n",
       "      <td>United-States</td>\n",
       "      <td>&lt;=50K</td>\n",
       "    </tr>\n",
       "    <tr>\n",
       "      <th>48840</th>\n",
       "      <td>22</td>\n",
       "      <td>Private</td>\n",
       "      <td>201490</td>\n",
       "      <td>HS-grad</td>\n",
       "      <td>9</td>\n",
       "      <td>Never-married</td>\n",
       "      <td>Adm-clerical</td>\n",
       "      <td>Own-child</td>\n",
       "      <td>White</td>\n",
       "      <td>Male</td>\n",
       "      <td>0</td>\n",
       "      <td>0</td>\n",
       "      <td>20</td>\n",
       "      <td>United-States</td>\n",
       "      <td>&lt;=50K</td>\n",
       "    </tr>\n",
       "    <tr>\n",
       "      <th>48841</th>\n",
       "      <td>52</td>\n",
       "      <td>Self-emp-inc</td>\n",
       "      <td>287927</td>\n",
       "      <td>HS-grad</td>\n",
       "      <td>9</td>\n",
       "      <td>Married-civ-spouse</td>\n",
       "      <td>Exec-managerial</td>\n",
       "      <td>Wife</td>\n",
       "      <td>White</td>\n",
       "      <td>Female</td>\n",
       "      <td>15024</td>\n",
       "      <td>0</td>\n",
       "      <td>40</td>\n",
       "      <td>United-States</td>\n",
       "      <td>&gt;50K</td>\n",
       "    </tr>\n",
       "  </tbody>\n",
       "</table>\n",
       "</div>"
      ],
      "text/plain": [
       "       age     workclass  fnlwgt   education  educational-num  \\\n",
       "48837   27       Private  257302  Assoc-acdm               12   \n",
       "48838   40       Private  154374     HS-grad                9   \n",
       "48839   58       Private  151910     HS-grad                9   \n",
       "48840   22       Private  201490     HS-grad                9   \n",
       "48841   52  Self-emp-inc  287927     HS-grad                9   \n",
       "\n",
       "           marital-status         occupation relationship   race  gender  \\\n",
       "48837  Married-civ-spouse       Tech-support         Wife  White  Female   \n",
       "48838  Married-civ-spouse  Machine-op-inspct      Husband  White    Male   \n",
       "48839             Widowed       Adm-clerical    Unmarried  White  Female   \n",
       "48840       Never-married       Adm-clerical    Own-child  White    Male   \n",
       "48841  Married-civ-spouse    Exec-managerial         Wife  White  Female   \n",
       "\n",
       "       capital-gain  capital-loss  hours-per-week native-country income  \n",
       "48837             0             0              38  United-States  <=50K  \n",
       "48838             0             0              40  United-States   >50K  \n",
       "48839             0             0              40  United-States  <=50K  \n",
       "48840             0             0              20  United-States  <=50K  \n",
       "48841         15024             0              40  United-States   >50K  "
      ]
     },
     "execution_count": 5,
     "metadata": {},
     "output_type": "execute_result"
    }
   ],
   "source": [
    "df.tail()"
   ]
  },
  {
   "cell_type": "code",
   "execution_count": 6,
   "id": "1f746432",
   "metadata": {},
   "outputs": [
    {
     "name": "stdout",
     "output_type": "stream",
     "text": [
      "<class 'pandas.core.frame.DataFrame'>\n",
      "RangeIndex: 48842 entries, 0 to 48841\n",
      "Data columns (total 15 columns):\n",
      " #   Column           Non-Null Count  Dtype \n",
      "---  ------           --------------  ----- \n",
      " 0   age              48842 non-null  int64 \n",
      " 1   workclass        48842 non-null  object\n",
      " 2   fnlwgt           48842 non-null  int64 \n",
      " 3   education        48842 non-null  object\n",
      " 4   educational-num  48842 non-null  int64 \n",
      " 5   marital-status   48842 non-null  object\n",
      " 6   occupation       48842 non-null  object\n",
      " 7   relationship     48842 non-null  object\n",
      " 8   race             48842 non-null  object\n",
      " 9   gender           48842 non-null  object\n",
      " 10  capital-gain     48842 non-null  int64 \n",
      " 11  capital-loss     48842 non-null  int64 \n",
      " 12  hours-per-week   48842 non-null  int64 \n",
      " 13  native-country   48842 non-null  object\n",
      " 14  income           48842 non-null  object\n",
      "dtypes: int64(6), object(9)\n",
      "memory usage: 5.6+ MB\n"
     ]
    }
   ],
   "source": [
    "df.info()"
   ]
  },
  {
   "cell_type": "code",
   "execution_count": 7,
   "id": "25840b96",
   "metadata": {},
   "outputs": [
    {
     "data": {
      "text/plain": [
       "age                0.0\n",
       "workclass          0.0\n",
       "fnlwgt             0.0\n",
       "education          0.0\n",
       "educational-num    0.0\n",
       "marital-status     0.0\n",
       "occupation         0.0\n",
       "relationship       0.0\n",
       "race               0.0\n",
       "gender             0.0\n",
       "capital-gain       0.0\n",
       "capital-loss       0.0\n",
       "hours-per-week     0.0\n",
       "native-country     0.0\n",
       "income             0.0\n",
       "dtype: float64"
      ]
     },
     "execution_count": 7,
     "metadata": {},
     "output_type": "execute_result"
    }
   ],
   "source": [
    "#Calculating ratio of null values\n",
    "df.isnull().sum()/df.shape[0]*100"
   ]
  },
  {
   "cell_type": "code",
   "execution_count": 8,
   "id": "51990fcd",
   "metadata": {},
   "outputs": [
    {
     "name": "stdout",
     "output_type": "stream",
     "text": [
      "Number of categorical values: 9\n",
      "Number of numerical values: 6\n"
     ]
    }
   ],
   "source": [
    "#checking the number of categorical and numerical varibles\n",
    "cat = df.select_dtypes(include=[np.object])\n",
    "print(\"Number of categorical values:\",cat.shape[1])\n",
    "num = df.select_dtypes(include=[np.float64,np.int64])\n",
    "print(\"Number of numerical values:\",num.shape[1])"
   ]
  },
  {
   "cell_type": "code",
   "execution_count": 9,
   "id": "531a70f9",
   "metadata": {},
   "outputs": [
    {
     "data": {
      "text/plain": [
       "Male      32650\n",
       "Female    16192\n",
       "Name: gender, dtype: int64"
      ]
     },
     "execution_count": 9,
     "metadata": {},
     "output_type": "execute_result"
    }
   ],
   "source": [
    "df['gender'].value_counts()"
   ]
  },
  {
   "cell_type": "code",
   "execution_count": 10,
   "id": "57c24a7f",
   "metadata": {},
   "outputs": [
    {
     "data": {
      "text/plain": [
       "White                 41762\n",
       "Black                  4685\n",
       "Asian-Pac-Islander     1519\n",
       "Amer-Indian-Eskimo      470\n",
       "Other                   406\n",
       "Name: race, dtype: int64"
      ]
     },
     "execution_count": 10,
     "metadata": {},
     "output_type": "execute_result"
    }
   ],
   "source": [
    "df['race'].value_counts()"
   ]
  },
  {
   "cell_type": "code",
   "execution_count": 11,
   "id": "f44f3f23",
   "metadata": {},
   "outputs": [
    {
     "data": {
      "text/plain": [
       "Private             33906\n",
       "Self-emp-not-inc     3862\n",
       "Local-gov            3136\n",
       "?                    2799\n",
       "State-gov            1981\n",
       "Self-emp-inc         1695\n",
       "Federal-gov          1432\n",
       "Without-pay            21\n",
       "Never-worked           10\n",
       "Name: workclass, dtype: int64"
      ]
     },
     "execution_count": 11,
     "metadata": {},
     "output_type": "execute_result"
    }
   ],
   "source": [
    "df['workclass'].value_counts()"
   ]
  },
  {
   "cell_type": "code",
   "execution_count": 12,
   "id": "6589f93e",
   "metadata": {},
   "outputs": [
    {
     "data": {
      "text/html": [
       "<div>\n",
       "<style scoped>\n",
       "    .dataframe tbody tr th:only-of-type {\n",
       "        vertical-align: middle;\n",
       "    }\n",
       "\n",
       "    .dataframe tbody tr th {\n",
       "        vertical-align: top;\n",
       "    }\n",
       "\n",
       "    .dataframe thead th {\n",
       "        text-align: right;\n",
       "    }\n",
       "</style>\n",
       "<table border=\"1\" class=\"dataframe\">\n",
       "  <thead>\n",
       "    <tr style=\"text-align: right;\">\n",
       "      <th></th>\n",
       "      <th>age</th>\n",
       "      <th>workclass</th>\n",
       "      <th>fnlwgt</th>\n",
       "      <th>education</th>\n",
       "      <th>educational-num</th>\n",
       "      <th>marital-status</th>\n",
       "      <th>occupation</th>\n",
       "      <th>relationship</th>\n",
       "      <th>race</th>\n",
       "      <th>gender</th>\n",
       "      <th>capital-gain</th>\n",
       "      <th>capital-loss</th>\n",
       "      <th>hours-per-week</th>\n",
       "      <th>native-country</th>\n",
       "      <th>income</th>\n",
       "    </tr>\n",
       "  </thead>\n",
       "  <tbody>\n",
       "    <tr>\n",
       "      <th>count</th>\n",
       "      <td>48842.000000</td>\n",
       "      <td>48842</td>\n",
       "      <td>4.884200e+04</td>\n",
       "      <td>48842</td>\n",
       "      <td>48842.000000</td>\n",
       "      <td>48842</td>\n",
       "      <td>48842</td>\n",
       "      <td>48842</td>\n",
       "      <td>48842</td>\n",
       "      <td>48842</td>\n",
       "      <td>48842.000000</td>\n",
       "      <td>48842.000000</td>\n",
       "      <td>48842.000000</td>\n",
       "      <td>48842</td>\n",
       "      <td>48842</td>\n",
       "    </tr>\n",
       "    <tr>\n",
       "      <th>unique</th>\n",
       "      <td>NaN</td>\n",
       "      <td>9</td>\n",
       "      <td>NaN</td>\n",
       "      <td>16</td>\n",
       "      <td>NaN</td>\n",
       "      <td>7</td>\n",
       "      <td>15</td>\n",
       "      <td>6</td>\n",
       "      <td>5</td>\n",
       "      <td>2</td>\n",
       "      <td>NaN</td>\n",
       "      <td>NaN</td>\n",
       "      <td>NaN</td>\n",
       "      <td>42</td>\n",
       "      <td>2</td>\n",
       "    </tr>\n",
       "    <tr>\n",
       "      <th>top</th>\n",
       "      <td>NaN</td>\n",
       "      <td>Private</td>\n",
       "      <td>NaN</td>\n",
       "      <td>HS-grad</td>\n",
       "      <td>NaN</td>\n",
       "      <td>Married-civ-spouse</td>\n",
       "      <td>Prof-specialty</td>\n",
       "      <td>Husband</td>\n",
       "      <td>White</td>\n",
       "      <td>Male</td>\n",
       "      <td>NaN</td>\n",
       "      <td>NaN</td>\n",
       "      <td>NaN</td>\n",
       "      <td>United-States</td>\n",
       "      <td>&lt;=50K</td>\n",
       "    </tr>\n",
       "    <tr>\n",
       "      <th>freq</th>\n",
       "      <td>NaN</td>\n",
       "      <td>33906</td>\n",
       "      <td>NaN</td>\n",
       "      <td>15784</td>\n",
       "      <td>NaN</td>\n",
       "      <td>22379</td>\n",
       "      <td>6172</td>\n",
       "      <td>19716</td>\n",
       "      <td>41762</td>\n",
       "      <td>32650</td>\n",
       "      <td>NaN</td>\n",
       "      <td>NaN</td>\n",
       "      <td>NaN</td>\n",
       "      <td>43832</td>\n",
       "      <td>37155</td>\n",
       "    </tr>\n",
       "    <tr>\n",
       "      <th>mean</th>\n",
       "      <td>38.643585</td>\n",
       "      <td>NaN</td>\n",
       "      <td>1.896641e+05</td>\n",
       "      <td>NaN</td>\n",
       "      <td>10.078089</td>\n",
       "      <td>NaN</td>\n",
       "      <td>NaN</td>\n",
       "      <td>NaN</td>\n",
       "      <td>NaN</td>\n",
       "      <td>NaN</td>\n",
       "      <td>1079.067626</td>\n",
       "      <td>87.502314</td>\n",
       "      <td>40.422382</td>\n",
       "      <td>NaN</td>\n",
       "      <td>NaN</td>\n",
       "    </tr>\n",
       "    <tr>\n",
       "      <th>std</th>\n",
       "      <td>13.710510</td>\n",
       "      <td>NaN</td>\n",
       "      <td>1.056040e+05</td>\n",
       "      <td>NaN</td>\n",
       "      <td>2.570973</td>\n",
       "      <td>NaN</td>\n",
       "      <td>NaN</td>\n",
       "      <td>NaN</td>\n",
       "      <td>NaN</td>\n",
       "      <td>NaN</td>\n",
       "      <td>7452.019058</td>\n",
       "      <td>403.004552</td>\n",
       "      <td>12.391444</td>\n",
       "      <td>NaN</td>\n",
       "      <td>NaN</td>\n",
       "    </tr>\n",
       "    <tr>\n",
       "      <th>min</th>\n",
       "      <td>17.000000</td>\n",
       "      <td>NaN</td>\n",
       "      <td>1.228500e+04</td>\n",
       "      <td>NaN</td>\n",
       "      <td>1.000000</td>\n",
       "      <td>NaN</td>\n",
       "      <td>NaN</td>\n",
       "      <td>NaN</td>\n",
       "      <td>NaN</td>\n",
       "      <td>NaN</td>\n",
       "      <td>0.000000</td>\n",
       "      <td>0.000000</td>\n",
       "      <td>1.000000</td>\n",
       "      <td>NaN</td>\n",
       "      <td>NaN</td>\n",
       "    </tr>\n",
       "    <tr>\n",
       "      <th>25%</th>\n",
       "      <td>28.000000</td>\n",
       "      <td>NaN</td>\n",
       "      <td>1.175505e+05</td>\n",
       "      <td>NaN</td>\n",
       "      <td>9.000000</td>\n",
       "      <td>NaN</td>\n",
       "      <td>NaN</td>\n",
       "      <td>NaN</td>\n",
       "      <td>NaN</td>\n",
       "      <td>NaN</td>\n",
       "      <td>0.000000</td>\n",
       "      <td>0.000000</td>\n",
       "      <td>40.000000</td>\n",
       "      <td>NaN</td>\n",
       "      <td>NaN</td>\n",
       "    </tr>\n",
       "    <tr>\n",
       "      <th>50%</th>\n",
       "      <td>37.000000</td>\n",
       "      <td>NaN</td>\n",
       "      <td>1.781445e+05</td>\n",
       "      <td>NaN</td>\n",
       "      <td>10.000000</td>\n",
       "      <td>NaN</td>\n",
       "      <td>NaN</td>\n",
       "      <td>NaN</td>\n",
       "      <td>NaN</td>\n",
       "      <td>NaN</td>\n",
       "      <td>0.000000</td>\n",
       "      <td>0.000000</td>\n",
       "      <td>40.000000</td>\n",
       "      <td>NaN</td>\n",
       "      <td>NaN</td>\n",
       "    </tr>\n",
       "    <tr>\n",
       "      <th>75%</th>\n",
       "      <td>48.000000</td>\n",
       "      <td>NaN</td>\n",
       "      <td>2.376420e+05</td>\n",
       "      <td>NaN</td>\n",
       "      <td>12.000000</td>\n",
       "      <td>NaN</td>\n",
       "      <td>NaN</td>\n",
       "      <td>NaN</td>\n",
       "      <td>NaN</td>\n",
       "      <td>NaN</td>\n",
       "      <td>0.000000</td>\n",
       "      <td>0.000000</td>\n",
       "      <td>45.000000</td>\n",
       "      <td>NaN</td>\n",
       "      <td>NaN</td>\n",
       "    </tr>\n",
       "    <tr>\n",
       "      <th>max</th>\n",
       "      <td>90.000000</td>\n",
       "      <td>NaN</td>\n",
       "      <td>1.490400e+06</td>\n",
       "      <td>NaN</td>\n",
       "      <td>16.000000</td>\n",
       "      <td>NaN</td>\n",
       "      <td>NaN</td>\n",
       "      <td>NaN</td>\n",
       "      <td>NaN</td>\n",
       "      <td>NaN</td>\n",
       "      <td>99999.000000</td>\n",
       "      <td>4356.000000</td>\n",
       "      <td>99.000000</td>\n",
       "      <td>NaN</td>\n",
       "      <td>NaN</td>\n",
       "    </tr>\n",
       "  </tbody>\n",
       "</table>\n",
       "</div>"
      ],
      "text/plain": [
       "                 age workclass        fnlwgt education  educational-num  \\\n",
       "count   48842.000000     48842  4.884200e+04     48842     48842.000000   \n",
       "unique           NaN         9           NaN        16              NaN   \n",
       "top              NaN   Private           NaN   HS-grad              NaN   \n",
       "freq             NaN     33906           NaN     15784              NaN   \n",
       "mean       38.643585       NaN  1.896641e+05       NaN        10.078089   \n",
       "std        13.710510       NaN  1.056040e+05       NaN         2.570973   \n",
       "min        17.000000       NaN  1.228500e+04       NaN         1.000000   \n",
       "25%        28.000000       NaN  1.175505e+05       NaN         9.000000   \n",
       "50%        37.000000       NaN  1.781445e+05       NaN        10.000000   \n",
       "75%        48.000000       NaN  2.376420e+05       NaN        12.000000   \n",
       "max        90.000000       NaN  1.490400e+06       NaN        16.000000   \n",
       "\n",
       "            marital-status      occupation relationship   race gender  \\\n",
       "count                48842           48842        48842  48842  48842   \n",
       "unique                   7              15            6      5      2   \n",
       "top     Married-civ-spouse  Prof-specialty      Husband  White   Male   \n",
       "freq                 22379            6172        19716  41762  32650   \n",
       "mean                   NaN             NaN          NaN    NaN    NaN   \n",
       "std                    NaN             NaN          NaN    NaN    NaN   \n",
       "min                    NaN             NaN          NaN    NaN    NaN   \n",
       "25%                    NaN             NaN          NaN    NaN    NaN   \n",
       "50%                    NaN             NaN          NaN    NaN    NaN   \n",
       "75%                    NaN             NaN          NaN    NaN    NaN   \n",
       "max                    NaN             NaN          NaN    NaN    NaN   \n",
       "\n",
       "        capital-gain  capital-loss  hours-per-week native-country income  \n",
       "count   48842.000000  48842.000000    48842.000000          48842  48842  \n",
       "unique           NaN           NaN             NaN             42      2  \n",
       "top              NaN           NaN             NaN  United-States  <=50K  \n",
       "freq             NaN           NaN             NaN          43832  37155  \n",
       "mean     1079.067626     87.502314       40.422382            NaN    NaN  \n",
       "std      7452.019058    403.004552       12.391444            NaN    NaN  \n",
       "min         0.000000      0.000000        1.000000            NaN    NaN  \n",
       "25%         0.000000      0.000000       40.000000            NaN    NaN  \n",
       "50%         0.000000      0.000000       40.000000            NaN    NaN  \n",
       "75%         0.000000      0.000000       45.000000            NaN    NaN  \n",
       "max     99999.000000   4356.000000       99.000000            NaN    NaN  "
      ]
     },
     "execution_count": 12,
     "metadata": {},
     "output_type": "execute_result"
    }
   ],
   "source": [
    "df.describe(include=\"all\")"
   ]
  },
  {
   "cell_type": "code",
   "execution_count": 13,
   "id": "51453500",
   "metadata": {},
   "outputs": [
    {
     "data": {
      "text/plain": [
       "Index(['age', 'workclass', 'fnlwgt', 'education', 'educational-num',\n",
       "       'marital-status', 'occupation', 'relationship', 'race', 'gender',\n",
       "       'capital-gain', 'capital-loss', 'hours-per-week', 'native-country',\n",
       "       'income'],\n",
       "      dtype='object')"
      ]
     },
     "execution_count": 13,
     "metadata": {},
     "output_type": "execute_result"
    }
   ],
   "source": [
    "df.columns"
   ]
  },
  {
   "cell_type": "code",
   "execution_count": 14,
   "id": "7ce9cb4d",
   "metadata": {},
   "outputs": [
    {
     "data": {
      "text/plain": [
       "United-States                 43832\n",
       "Mexico                          951\n",
       "?                               857\n",
       "Philippines                     295\n",
       "Germany                         206\n",
       "Puerto-Rico                     184\n",
       "Canada                          182\n",
       "El-Salvador                     155\n",
       "India                           151\n",
       "Cuba                            138\n",
       "England                         127\n",
       "China                           122\n",
       "South                           115\n",
       "Jamaica                         106\n",
       "Italy                           105\n",
       "Dominican-Republic              103\n",
       "Japan                            92\n",
       "Guatemala                        88\n",
       "Poland                           87\n",
       "Vietnam                          86\n",
       "Columbia                         85\n",
       "Haiti                            75\n",
       "Portugal                         67\n",
       "Taiwan                           65\n",
       "Iran                             59\n",
       "Nicaragua                        49\n",
       "Greece                           49\n",
       "Peru                             46\n",
       "Ecuador                          45\n",
       "France                           38\n",
       "Ireland                          37\n",
       "Thailand                         30\n",
       "Hong                             30\n",
       "Cambodia                         28\n",
       "Trinadad&Tobago                  27\n",
       "Yugoslavia                       23\n",
       "Laos                             23\n",
       "Outlying-US(Guam-USVI-etc)       23\n",
       "Scotland                         21\n",
       "Honduras                         20\n",
       "Hungary                          19\n",
       "Holand-Netherlands                1\n",
       "Name: native-country, dtype: int64"
      ]
     },
     "execution_count": 14,
     "metadata": {},
     "output_type": "execute_result"
    }
   ],
   "source": [
    "df['native-country'].value_counts()"
   ]
  },
  {
   "cell_type": "code",
   "execution_count": 15,
   "id": "9eb300a6",
   "metadata": {},
   "outputs": [
    {
     "data": {
      "text/plain": [
       "HS-grad         15784\n",
       "Some-college    10878\n",
       "Bachelors        8025\n",
       "Masters          2657\n",
       "Assoc-voc        2061\n",
       "11th             1812\n",
       "Assoc-acdm       1601\n",
       "10th             1389\n",
       "7th-8th           955\n",
       "Prof-school       834\n",
       "9th               756\n",
       "12th              657\n",
       "Doctorate         594\n",
       "5th-6th           509\n",
       "1st-4th           247\n",
       "Preschool          83\n",
       "Name: education, dtype: int64"
      ]
     },
     "execution_count": 15,
     "metadata": {},
     "output_type": "execute_result"
    }
   ],
   "source": [
    "df['education'].value_counts()"
   ]
  },
  {
   "cell_type": "code",
   "execution_count": 16,
   "id": "aca07c32",
   "metadata": {},
   "outputs": [
    {
     "data": {
      "text/plain": [
       "Prof-specialty       6172\n",
       "Craft-repair         6112\n",
       "Exec-managerial      6086\n",
       "Adm-clerical         5611\n",
       "Sales                5504\n",
       "Other-service        4923\n",
       "Machine-op-inspct    3022\n",
       "?                    2809\n",
       "Transport-moving     2355\n",
       "Handlers-cleaners    2072\n",
       "Farming-fishing      1490\n",
       "Tech-support         1446\n",
       "Protective-serv       983\n",
       "Priv-house-serv       242\n",
       "Armed-Forces           15\n",
       "Name: occupation, dtype: int64"
      ]
     },
     "execution_count": 16,
     "metadata": {},
     "output_type": "execute_result"
    }
   ],
   "source": [
    "df['occupation'].value_counts()"
   ]
  },
  {
   "cell_type": "markdown",
   "id": "655c5a03",
   "metadata": {},
   "source": [
    "# Univariate analysis"
   ]
  },
  {
   "cell_type": "code",
   "execution_count": 17,
   "id": "5fe5cb20",
   "metadata": {},
   "outputs": [
    {
     "data": {
      "text/plain": [
       "<AxesSubplot:xlabel='gender', ylabel='count'>"
      ]
     },
     "execution_count": 17,
     "metadata": {},
     "output_type": "execute_result"
    },
    {
     "data": {
      "image/png": "[encoded data removed]",
      "text/plain": [
       "<Figure size 432x288 with 1 Axes>"
      ]
     },
     "metadata": {
      "needs_background": "light"
     },
     "output_type": "display_data"
    }
   ],
   "source": [
    "#checking count for gender\n",
    "sns.countplot(df['gender'])"
   ]
  },
  {
   "cell_type": "code",
   "execution_count": 18,
   "id": "34b2bc85",
   "metadata": {},
   "outputs": [
    {
     "data": {
      "text/plain": [
       "<AxesSubplot:xlabel='gender', ylabel='age'>"
      ]
     },
     "execution_count": 18,
     "metadata": {},
     "output_type": "execute_result"
    },
    {
     "data": {
      "image/png": "[encoded data removed]",
      "text/plain": [
       "<Figure size 432x288 with 1 Axes>"
      ]
     },
     "metadata": {
      "needs_background": "light"
     },
     "output_type": "display_data"
    }
   ],
   "source": [
    "#Plot for gender vs age\n",
    "sns.barplot(x='gender',y='age',data=df,palette='ocean')"
   ]
  },
  {
   "cell_type": "code",
   "execution_count": 19,
   "id": "57f4ef1e",
   "metadata": {},
   "outputs": [
    {
     "data": {
      "text/plain": [
       "<AxesSubplot:xlabel='race', ylabel='count'>"
      ]
     },
     "execution_count": 19,
     "metadata": {},
     "output_type": "execute_result"
    },
    {
     "data": {
      "image/png": "[encoded data removed]",
      "text/plain": [
       "<Figure size 432x288 with 1 Axes>"
      ]
     },
     "metadata": {
      "needs_background": "light"
     },
     "output_type": "display_data"
    }
   ],
   "source": [
    "#Count for race\n",
    "sns.countplot(df['race'],palette='autumn')"
   ]
  },
  {
   "cell_type": "code",
   "execution_count": 20,
   "id": "6f0298d8",
   "metadata": {},
   "outputs": [
    {
     "data": {
      "text/plain": [
       "<AxesSubplot:>"
      ]
     },
     "execution_count": 20,
     "metadata": {},
     "output_type": "execute_result"
    },
    {
     "data": {
      "image/png": "[encoded data removed]",
      "text/plain": [
       "<Figure size 1440x720 with 1 Axes>"
      ]
     },
     "metadata": {
      "needs_background": "light"
     },
     "output_type": "display_data"
    }
   ],
   "source": [
    "#lineplot for checking natives.\n",
    "native = df['native-country'].value_counts()\n",
    "native.plot(kind=\"line\",figsize=(20,10))"
   ]
  },
  {
   "cell_type": "code",
   "execution_count": 21,
   "id": "d8846420",
   "metadata": {},
   "outputs": [
    {
     "data": {
      "text/plain": [
       "<AxesSubplot:xlabel='age'>"
      ]
     },
     "execution_count": 21,
     "metadata": {},
     "output_type": "execute_result"
    },
    {
     "data": {
      "image/png": "[encoded data removed]",
      "text/plain": [
       "<Figure size 432x288 with 1 Axes>"
      ]
     },
     "metadata": {
      "needs_background": "light"
     },
     "output_type": "display_data"
    }
   ],
   "source": [
    "#boxplot for age.\n",
    "sns.boxplot(df['age'])"
   ]
  },
  {
   "cell_type": "code",
   "execution_count": 22,
   "id": "d83a59df",
   "metadata": {},
   "outputs": [
    {
     "data": {
      "text/plain": [
       "<AxesSubplot:xlabel='hours-per-week'>"
      ]
     },
     "execution_count": 22,
     "metadata": {},
     "output_type": "execute_result"
    },
    {
     "data": {
      "image/png": "[encoded data removed]",
      "text/plain": [
       "<Figure size 432x288 with 1 Axes>"
      ]
     },
     "metadata": {
      "needs_background": "light"
     },
     "output_type": "display_data"
    }
   ],
   "source": [
    "#boxplot for hours per week.\n",
    "sns.boxplot(df['hours-per-week'])"
   ]
  },
  {
   "cell_type": "code",
   "execution_count": 23,
   "id": "76f27ace",
   "metadata": {},
   "outputs": [
    {
     "data": {
      "text/plain": [
       "<AxesSubplot:xlabel='capital-gain'>"
      ]
     },
     "execution_count": 23,
     "metadata": {},
     "output_type": "execute_result"
    },
    {
     "data": {
      "image/png": "[encoded data removed]",
      "text/plain": [
       "<Figure size 432x288 with 1 Axes>"
      ]
     },
     "metadata": {
      "needs_background": "light"
     },
     "output_type": "display_data"
    }
   ],
   "source": [
    "#boxplot for capital-gain\n",
    "sns.boxplot(df['capital-gain'])"
   ]
  },
  {
   "cell_type": "code",
   "execution_count": 24,
   "id": "90d518f4",
   "metadata": {},
   "outputs": [
    {
     "data": {
      "text/plain": [
       "<AxesSubplot:xlabel='capital-loss'>"
      ]
     },
     "execution_count": 24,
     "metadata": {},
     "output_type": "execute_result"
    },
    {
     "data": {
      "image/png": "[encoded data removed]",
      "text/plain": [
       "<Figure size 432x288 with 1 Axes>"
      ]
     },
     "metadata": {
      "needs_background": "light"
     },
     "output_type": "display_data"
    }
   ],
   "source": [
    "#boxplot for capital-loss\n",
    "sns.boxplot(df['capital-loss'])"
   ]
  },
  {
   "cell_type": "code",
   "execution_count": 25,
   "id": "c9366e3f",
   "metadata": {},
   "outputs": [
    {
     "data": {
      "text/plain": [
       "<AxesSubplot:xlabel='educational-num'>"
      ]
     },
     "execution_count": 25,
     "metadata": {},
     "output_type": "execute_result"
    },
    {
     "data": {
      "image/png": "[encoded data removed]",
      "text/plain": [
       "<Figure size 432x288 with 1 Axes>"
      ]
     },
     "metadata": {
      "needs_background": "light"
     },
     "output_type": "display_data"
    }
   ],
   "source": [
    "#boxplot for educational number\n",
    "sns.boxplot(df['educational-num'])"
   ]
  },
  {
   "cell_type": "code",
   "execution_count": 26,
   "id": "6f3c2825",
   "metadata": {},
   "outputs": [
    {
     "data": {
      "text/plain": [
       "<AxesSubplot:xlabel='fnlwgt'>"
      ]
     },
     "execution_count": 26,
     "metadata": {},
     "output_type": "execute_result"
    },
    {
     "data": {
      "image/png": "[encoded data removed]",
      "text/plain": [
       "<Figure size 432x288 with 1 Axes>"
      ]
     },
     "metadata": {
      "needs_background": "light"
     },
     "output_type": "display_data"
    }
   ],
   "source": [
    "#boxplot for fnlwgt\n",
    "sns.boxplot(df['fnlwgt'])"
   ]
  },
  {
   "cell_type": "code",
   "execution_count": 27,
   "id": "155ff27d",
   "metadata": {},
   "outputs": [
    {
     "data": {
      "text/plain": [
       "<AxesSubplot:xlabel='income', ylabel='count'>"
      ]
     },
     "execution_count": 27,
     "metadata": {},
     "output_type": "execute_result"
    },
    {
     "data": {
      "image/png": "[encoded data removed]",
      "text/plain": [
       "<Figure size 432x288 with 1 Axes>"
      ]
     },
     "metadata": {
      "needs_background": "light"
     },
     "output_type": "display_data"
    }
   ],
   "source": [
    "#Countplot for income\n",
    "sns.countplot(df['income'])"
   ]
  },
  {
   "cell_type": "code",
   "execution_count": 28,
   "id": "a8eb699e",
   "metadata": {},
   "outputs": [
    {
     "data": {
      "text/plain": [
       "<AxesSubplot:title={'center':'Normal plot for age'}, xlabel='age', ylabel='Density'>"
      ]
     },
     "execution_count": 28,
     "metadata": {},
     "output_type": "execute_result"
    },
    {
     "data": {
      "image/png": "[encoded data removed]",
      "text/plain": [
       "<Figure size 432x288 with 1 Axes>"
      ]
     },
     "metadata": {
      "needs_background": "light"
     },
     "output_type": "display_data"
    }
   ],
   "source": [
    "#normal plot for age\n",
    "plt.title(\"Normal plot for age\")\n",
    "sns.distplot(df['age'])"
   ]
  },
  {
   "cell_type": "code",
   "execution_count": 29,
   "id": "aa5891eb",
   "metadata": {},
   "outputs": [
    {
     "data": {
      "text/plain": [
       "((array([-4.18606635, -3.98006955, -3.86775228, ...,  3.86775228,\n",
       "          3.98006955,  4.18606635]),\n",
       "  array([17, 17, 17, ..., 90, 90, 90], dtype=int64)),\n",
       " (13.480986919346082, 38.64358543876171, 0.9831861941673455))"
      ]
     },
     "execution_count": 29,
     "metadata": {},
     "output_type": "execute_result"
    },
    {
     "data": {
      "image/png": "[encoded data removed]",
      "text/plain": [
       "<Figure size 432x288 with 1 Axes>"
      ]
     },
     "metadata": {
      "needs_background": "light"
     },
     "output_type": "display_data"
    }
   ],
   "source": [
    "#Q-Q plot for age\n",
    "plt.title(\"Q-Q plot for age\")\n",
    "stats.probplot(df['age'],dist=\"norm\",plot=plt)"
   ]
  },
  {
   "cell_type": "code",
   "execution_count": 30,
   "id": "98140055",
   "metadata": {},
   "outputs": [
    {
     "data": {
      "text/plain": [
       "<AxesSubplot:xlabel='relationship', ylabel='count'>"
      ]
     },
     "execution_count": 30,
     "metadata": {},
     "output_type": "execute_result"
    },
    {
     "data": {
      "image/png": "[encoded data removed]",
      "text/plain": [
       "<Figure size 432x288 with 1 Axes>"
      ]
     },
     "metadata": {
      "needs_background": "light"
     },
     "output_type": "display_data"
    }
   ],
   "source": [
    "#Countplot for relationship\n",
    "sns.countplot(df['relationship'])"
   ]
  },
  {
   "cell_type": "code",
   "execution_count": 31,
   "id": "3994750c",
   "metadata": {},
   "outputs": [
    {
     "data": {
      "text/plain": [
       "<AxesSubplot:>"
      ]
     },
     "execution_count": 31,
     "metadata": {},
     "output_type": "execute_result"
    },
    {
     "data": {
      "image/png": "[encoded data removed]",
      "text/plain": [
       "<Figure size 1440x720 with 1 Axes>"
      ]
     },
     "metadata": {
      "needs_background": "light"
     },
     "output_type": "display_data"
    }
   ],
   "source": [
    "#barplot for education.\n",
    "edu = df['education'].value_counts()\n",
    "edu.plot(kind=\"bar\",figsize=(20,10))"
   ]
  },
  {
   "cell_type": "code",
   "execution_count": 32,
   "id": "c9c41344",
   "metadata": {},
   "outputs": [
    {
     "data": {
      "text/plain": [
       "<AxesSubplot:ylabel='workclass'>"
      ]
     },
     "execution_count": 32,
     "metadata": {},
     "output_type": "execute_result"
    },
    {
     "data": {
      "image/png": "[encoded data removed]",
      "text/plain": [
       "<Figure size 1440x720 with 1 Axes>"
      ]
     },
     "metadata": {},
     "output_type": "display_data"
    }
   ],
   "source": [
    "#pie plot for workclass\n",
    "wc = df['workclass'].value_counts()\n",
    "wc.plot(kind='pie',figsize=(20,10))"
   ]
  },
  {
   "cell_type": "code",
   "execution_count": 33,
   "id": "ade49c5b",
   "metadata": {},
   "outputs": [
    {
     "data": {
      "text/plain": [
       "<AxesSubplot:>"
      ]
     },
     "execution_count": 33,
     "metadata": {},
     "output_type": "execute_result"
    },
    {
     "data": {
      "image/png": "[encoded data removed]",
      "text/plain": [
       "<Figure size 1440x720 with 1 Axes>"
      ]
     },
     "metadata": {
      "needs_background": "light"
     },
     "output_type": "display_data"
    }
   ],
   "source": [
    "#barplot for occupation\n",
    "occ = df['occupation'].value_counts()\n",
    "occ.plot(kind='bar',figsize=(20,10))"
   ]
  },
  {
   "cell_type": "markdown",
   "id": "9ee241ce",
   "metadata": {},
   "source": [
    "# Observations:\n",
    "* In this dataset, Most of the income earners are male compared to female.\n",
    "* Maximum age for a men is 40 and for a women is 37.\n",
    "* The white race people are found to be more compared to other races.\n",
    "* Most of the people are from USA.\n",
    "* The age column has positive outliers.\n",
    "* Atrributes such as capital-gain,capital-loss,educational-num and fnlwgt has so many outliers which has to be treated.\n",
    "* Most of their income are above 50k.\n",
    "* Many people completed their High school grade and start working in their specific roles.\n",
    "* People are working more in private sectors compared to public sectors.\n",
    "* There are 6 different categories in relationship attribute.\n",
    "* Many people are found to choosen their profession as prof-speciality.\n",
    "* Detected many outliers in categorical columns."
   ]
  },
  {
   "cell_type": "markdown",
   "id": "ac4aa452",
   "metadata": {},
   "source": [
    "# Bivariate analysis:"
   ]
  },
  {
   "cell_type": "code",
   "execution_count": 34,
   "id": "acdac01c",
   "metadata": {},
   "outputs": [
    {
     "data": {
      "text/plain": [
       "<=50K    37155\n",
       ">50K     11687\n",
       "Name: income, dtype: int64"
      ]
     },
     "execution_count": 34,
     "metadata": {},
     "output_type": "execute_result"
    }
   ],
   "source": [
    "#Replacing values for income attributes.\n",
    "df['income'].value_counts()"
   ]
  },
  {
   "cell_type": "code",
   "execution_count": 35,
   "id": "1b74583e",
   "metadata": {},
   "outputs": [
    {
     "data": {
      "text/plain": [
       "0    37155\n",
       "1    11687\n",
       "Name: income, dtype: int64"
      ]
     },
     "execution_count": 35,
     "metadata": {},
     "output_type": "execute_result"
    }
   ],
   "source": [
    "df['income'].replace(['<=50K','>50K'],['0','1'],inplace=True)\n",
    "df['income'].value_counts()"
   ]
  },
  {
   "cell_type": "code",
   "execution_count": 36,
   "id": "f84ca16f",
   "metadata": {},
   "outputs": [
    {
     "data": {
      "text/plain": [
       "<AxesSubplot:xlabel='income', ylabel='age'>"
      ]
     },
     "execution_count": 36,
     "metadata": {},
     "output_type": "execute_result"
    },
    {
     "data": {
      "image/png": "[encoded data removed]",
      "text/plain": [
       "<Figure size 720x720 with 1 Axes>"
      ]
     },
     "metadata": {
      "needs_background": "light"
     },
     "output_type": "display_data"
    }
   ],
   "source": [
    "#checking outliers using boxplot\n",
    "plt.figure(figsize=(10,10))\n",
    "sns.boxplot(x=\"income\",y='age',data=df)"
   ]
  },
  {
   "cell_type": "code",
   "execution_count": 37,
   "id": "bf616980",
   "metadata": {},
   "outputs": [
    {
     "data": {
      "text/plain": [
       "<AxesSubplot:xlabel='occupation', ylabel='count'>"
      ]
     },
     "execution_count": 37,
     "metadata": {},
     "output_type": "execute_result"
    },
    {
     "data": {
      "image/png": "[encoded data removed]",
      "text/plain": [
       "<Figure size 1800x720 with 1 Axes>"
      ]
     },
     "metadata": {
      "needs_background": "light"
     },
     "output_type": "display_data"
    }
   ],
   "source": [
    "#Checking count for occupation vs income\n",
    "plt.figure(figsize=(25,10))\n",
    "sns.countplot(df['occupation'],hue='income',data=df)"
   ]
  },
  {
   "cell_type": "code",
   "execution_count": 38,
   "id": "72896941",
   "metadata": {},
   "outputs": [
    {
     "data": {
      "text/plain": [
       "<AxesSubplot:xlabel='education', ylabel='count'>"
      ]
     },
     "execution_count": 38,
     "metadata": {},
     "output_type": "execute_result"
    },
    {
     "data": {
      "image/png": "[encoded data removed]",
      "text/plain": [
       "<Figure size 1440x720 with 1 Axes>"
      ]
     },
     "metadata": {
      "needs_background": "light"
     },
     "output_type": "display_data"
    }
   ],
   "source": [
    "#Checking count for education vs income\n",
    "plt.figure(figsize=(20,10))\n",
    "sns.countplot(df['education'],hue='income',data=df)"
   ]
  },
  {
   "cell_type": "code",
   "execution_count": 39,
   "id": "d473fc87",
   "metadata": {},
   "outputs": [
    {
     "data": {
      "text/plain": [
       "<AxesSubplot:xlabel='workclass', ylabel='count'>"
      ]
     },
     "execution_count": 39,
     "metadata": {},
     "output_type": "execute_result"
    },
    {
     "data": {
      "image/png": "[encoded data removed]",
      "text/plain": [
       "<Figure size 1440x720 with 1 Axes>"
      ]
     },
     "metadata": {
      "needs_background": "light"
     },
     "output_type": "display_data"
    }
   ],
   "source": [
    "#Checking count for workclass vs income\n",
    "plt.figure(figsize=(20,10))\n",
    "sns.countplot(df['workclass'],hue='income',data=df)"
   ]
  },
  {
   "cell_type": "code",
   "execution_count": 40,
   "id": "39ff49ce",
   "metadata": {},
   "outputs": [
    {
     "data": {
      "text/plain": [
       "<AxesSubplot:xlabel='race', ylabel='count'>"
      ]
     },
     "execution_count": 40,
     "metadata": {},
     "output_type": "execute_result"
    },
    {
     "data": {
      "image/png": "[encoded data removed]",
      "text/plain": [
       "<Figure size 1440x720 with 1 Axes>"
      ]
     },
     "metadata": {
      "needs_background": "light"
     },
     "output_type": "display_data"
    }
   ],
   "source": [
    "#Checking count for race vs income\n",
    "plt.figure(figsize=(20,10))\n",
    "sns.countplot(df['race'],hue='income',data=df)"
   ]
  },
  {
   "cell_type": "code",
   "execution_count": 41,
   "id": "7334e06e",
   "metadata": {},
   "outputs": [
    {
     "data": {
      "text/plain": [
       "<AxesSubplot:xlabel='relationship', ylabel='count'>"
      ]
     },
     "execution_count": 41,
     "metadata": {},
     "output_type": "execute_result"
    },
    {
     "data": {
      "image/png": "[encoded data removed]",
      "text/plain": [
       "<Figure size 1440x720 with 1 Axes>"
      ]
     },
     "metadata": {
      "needs_background": "light"
     },
     "output_type": "display_data"
    }
   ],
   "source": [
    "#Checking count for relationship vs income\n",
    "plt.figure(figsize=(20,10))\n",
    "sns.countplot(df['relationship'],hue='income',data=df)"
   ]
  },
  {
   "cell_type": "code",
   "execution_count": 42,
   "id": "e2032731",
   "metadata": {},
   "outputs": [
    {
     "data": {
      "text/plain": [
       "<AxesSubplot:xlabel='gender', ylabel='count'>"
      ]
     },
     "execution_count": 42,
     "metadata": {},
     "output_type": "execute_result"
    },
    {
     "data": {
      "image/png": "[encoded data removed]",
      "text/plain": [
       "<Figure size 1440x720 with 1 Axes>"
      ]
     },
     "metadata": {
      "needs_background": "light"
     },
     "output_type": "display_data"
    }
   ],
   "source": [
    "#Checking count for gender vs income\n",
    "plt.figure(figsize=(20,10))\n",
    "sns.countplot(df['gender'],hue='income',data=df)"
   ]
  },
  {
   "cell_type": "code",
   "execution_count": 43,
   "id": "7b2a5b4a",
   "metadata": {},
   "outputs": [
    {
     "data": {
      "text/plain": [
       "<AxesSubplot:>"
      ]
     },
     "execution_count": 43,
     "metadata": {},
     "output_type": "execute_result"
    },
    {
     "data": {
      "image/png": "[encoded data removed]",
      "text/plain": [
       "<Figure size 720x720 with 2 Axes>"
      ]
     },
     "metadata": {
      "needs_background": "light"
     },
     "output_type": "display_data"
    }
   ],
   "source": [
    "#Correlation for numerical values\n",
    "plt.figure(figsize=(10,10))\n",
    "sns.heatmap(df.corr(),annot=True,cmap=\"coolwarm\")"
   ]
  },
  {
   "cell_type": "markdown",
   "id": "5205e048",
   "metadata": {},
   "source": [
    "# Observations:\n",
    "* The categorical attributes are replaced with numerical attributes for income column.\n",
    "* Outliers present in both the income group(<=50k and >50k) with respect to \"age\" attribute.\n",
    "* Prof-speciality is the highest earning group.\n",
    "* In private workclass most of the people earn <=50k whereas, self-emp-inc workclass is only where more people earn >50k.\n",
    "* Interestingly, Most of the people completed their highschool. But very few of them earn more than 50k.\n",
    "* White race people earn more income than the other race.\n",
    "* In a family, Husbands are earning more comapring to all other categories.\n",
    "* For female, Earning more than 50k is very rare. Whereas for male it is comparitvely high.\n",
    "* Correlation heat map gives the relationship between the numerical attributes. Here, Observing the heatmap it is sure that there is not a good correlation among the numerical values."
   ]
  },
  {
   "cell_type": "markdown",
   "id": "d6239f3e",
   "metadata": {},
   "source": [
    "# Outlier treatment\n",
    "**After the exploratory data analysis, it is clear that there are some outliers present in the dataset.We have to clean and replace the values using outlier treatment**"
   ]
  },
  {
   "cell_type": "code",
   "execution_count": 44,
   "id": "7214167b",
   "metadata": {},
   "outputs": [],
   "source": [
    "#First we have to replace \"?\" with the most frequent values in the column.\n",
    "df['workclass'].replace(\"?\",df['workclass'].mode()[0],inplace=True)\n",
    "df['occupation'].replace(\"?\",df['occupation'].mode()[0],inplace=True)\n",
    "df['native-country'].replace(\"?\",df['native-country'].mode()[0],inplace=True)"
   ]
  },
  {
   "cell_type": "code",
   "execution_count": 45,
   "id": "46fede05",
   "metadata": {},
   "outputs": [
    {
     "data": {
      "text/plain": [
       "Private             36705\n",
       "Self-emp-not-inc     3862\n",
       "Local-gov            3136\n",
       "State-gov            1981\n",
       "Self-emp-inc         1695\n",
       "Federal-gov          1432\n",
       "Without-pay            21\n",
       "Never-worked           10\n",
       "Name: workclass, dtype: int64"
      ]
     },
     "execution_count": 45,
     "metadata": {},
     "output_type": "execute_result"
    }
   ],
   "source": [
    "df['workclass'].value_counts()"
   ]
  },
  {
   "cell_type": "code",
   "execution_count": 46,
   "id": "3448e1b0",
   "metadata": {},
   "outputs": [
    {
     "data": {
      "text/plain": [
       "Prof-specialty       8981\n",
       "Craft-repair         6112\n",
       "Exec-managerial      6086\n",
       "Adm-clerical         5611\n",
       "Sales                5504\n",
       "Other-service        4923\n",
       "Machine-op-inspct    3022\n",
       "Transport-moving     2355\n",
       "Handlers-cleaners    2072\n",
       "Farming-fishing      1490\n",
       "Tech-support         1446\n",
       "Protective-serv       983\n",
       "Priv-house-serv       242\n",
       "Armed-Forces           15\n",
       "Name: occupation, dtype: int64"
      ]
     },
     "execution_count": 46,
     "metadata": {},
     "output_type": "execute_result"
    }
   ],
   "source": [
    "df['occupation'].value_counts()"
   ]
  },
  {
   "cell_type": "code",
   "execution_count": 47,
   "id": "f47ca6ad",
   "metadata": {},
   "outputs": [
    {
     "data": {
      "text/plain": [
       "United-States                 44689\n",
       "Mexico                          951\n",
       "Philippines                     295\n",
       "Germany                         206\n",
       "Puerto-Rico                     184\n",
       "Canada                          182\n",
       "El-Salvador                     155\n",
       "India                           151\n",
       "Cuba                            138\n",
       "England                         127\n",
       "China                           122\n",
       "South                           115\n",
       "Jamaica                         106\n",
       "Italy                           105\n",
       "Dominican-Republic              103\n",
       "Japan                            92\n",
       "Guatemala                        88\n",
       "Poland                           87\n",
       "Vietnam                          86\n",
       "Columbia                         85\n",
       "Haiti                            75\n",
       "Portugal                         67\n",
       "Taiwan                           65\n",
       "Iran                             59\n",
       "Nicaragua                        49\n",
       "Greece                           49\n",
       "Peru                             46\n",
       "Ecuador                          45\n",
       "France                           38\n",
       "Ireland                          37\n",
       "Thailand                         30\n",
       "Hong                             30\n",
       "Cambodia                         28\n",
       "Trinadad&Tobago                  27\n",
       "Yugoslavia                       23\n",
       "Laos                             23\n",
       "Outlying-US(Guam-USVI-etc)       23\n",
       "Scotland                         21\n",
       "Honduras                         20\n",
       "Hungary                          19\n",
       "Holand-Netherlands                1\n",
       "Name: native-country, dtype: int64"
      ]
     },
     "execution_count": 47,
     "metadata": {},
     "output_type": "execute_result"
    }
   ],
   "source": [
    "df['native-country'].value_counts()"
   ]
  },
  {
   "cell_type": "markdown",
   "id": "306df507",
   "metadata": {},
   "source": [
    "# One hot encoding"
   ]
  },
  {
   "cell_type": "markdown",
   "id": "e8af6ee6",
   "metadata": {},
   "source": [
    "**Changing values for Gender attribute**"
   ]
  },
  {
   "cell_type": "code",
   "execution_count": 48,
   "id": "0194a812",
   "metadata": {},
   "outputs": [],
   "source": [
    "#replacing gender values\n",
    "df['gender'].replace(['Male','Female'],['0','1'],inplace=True)"
   ]
  },
  {
   "cell_type": "code",
   "execution_count": 49,
   "id": "a9ba30f9",
   "metadata": {},
   "outputs": [
    {
     "data": {
      "text/plain": [
       "0    32650\n",
       "1    16192\n",
       "Name: gender, dtype: int64"
      ]
     },
     "execution_count": 49,
     "metadata": {},
     "output_type": "execute_result"
    }
   ],
   "source": [
    "df['gender'].value_counts()"
   ]
  },
  {
   "cell_type": "markdown",
   "id": "eef01cb8",
   "metadata": {},
   "source": [
    "**Categorise Workclass attribute**"
   ]
  },
  {
   "cell_type": "code",
   "execution_count": 50,
   "id": "8b6d8965",
   "metadata": {},
   "outputs": [],
   "source": [
    "#converting the work class values.\n",
    "df['workclass'].replace(['Private','Self-emp-not-inc','Local-gov','State-gov','Self-emp-inc','Federal-gov','Without-pay','Never-worked'],\\\n",
    "                       ['Private','Self emp','Gov','Gov','Self emp','Gov','Without-pay','Never-worked'],inplace=True)"
   ]
  },
  {
   "cell_type": "code",
   "execution_count": 51,
   "id": "8b02a61f",
   "metadata": {},
   "outputs": [],
   "source": [
    "#Hot coding the values.\n",
    "work_map={'Private':'0','Gov':'1','Self emp':'2','Without-pay':'3','Never-worked':'4'}\n",
    "df['workclass']=df['workclass'].map(work_map)"
   ]
  },
  {
   "cell_type": "markdown",
   "id": "66dbcc29",
   "metadata": {},
   "source": [
    "**Categorise Marital-Status attribute**"
   ]
  },
  {
   "cell_type": "code",
   "execution_count": 52,
   "id": "9f3dcec6",
   "metadata": {},
   "outputs": [],
   "source": [
    "#Converting Marital values.\n",
    "df['marital-status'].replace(['Married-civ-spouse','Never-married','Divorced','Separated','Widowed','Married-spouse-absent','Married-AF-spouse'],\\\n",
    "                             ['Married','Single','Single','Single','Single','Single','Married'],inplace=True)"
   ]
  },
  {
   "cell_type": "code",
   "execution_count": 53,
   "id": "83d61d33",
   "metadata": {},
   "outputs": [],
   "source": [
    "#Hot encoding the values.\n",
    "mar_map = {'Single':'0','Married':'1'}\n",
    "df['marital-status']=df['marital-status'].map(mar_map)"
   ]
  },
  {
   "cell_type": "markdown",
   "id": "441ae52b",
   "metadata": {},
   "source": [
    "**Encoding Relationship attribute**"
   ]
  },
  {
   "cell_type": "code",
   "execution_count": 54,
   "id": "7dcb1b16",
   "metadata": {},
   "outputs": [],
   "source": [
    "#Encoding the relationship values\n",
    "rel_map = {'Husband':'0','Not-in-family':'1','Own-child':'2','Unmarried':'3','Wife':'4','Other-relative':'5'}\n",
    "df['relationship']=df['relationship'].map(rel_map)"
   ]
  },
  {
   "cell_type": "markdown",
   "id": "913338d0",
   "metadata": {},
   "source": [
    "**Encoding Race attribute**"
   ]
  },
  {
   "cell_type": "code",
   "execution_count": 55,
   "id": "2b0893a1",
   "metadata": {},
   "outputs": [],
   "source": [
    "#Encoding race attributes.\n",
    "race_map = {'White':'0','Black':'1','Asian-Pac-Islander':'2','Amer-Indian-Eskimo':'3','Other':'4'}\n",
    "df['race'] = df['race'].map(race_map)"
   ]
  },
  {
   "cell_type": "markdown",
   "id": "63db511c",
   "metadata": {},
   "source": [
    "**Dropping unwanted column for model building**"
   ]
  },
  {
   "cell_type": "code",
   "execution_count": 56,
   "id": "9b578af1",
   "metadata": {},
   "outputs": [],
   "source": [
    "#removing unwanted attributes.\n",
    "df.drop(['education','occupation'],axis=1,inplace=True)"
   ]
  },
  {
   "cell_type": "markdown",
   "id": "06b167e6",
   "metadata": {},
   "source": [
    "**Coding Capital value attributes**"
   ]
  },
  {
   "cell_type": "code",
   "execution_count": 57,
   "id": "99a5e415",
   "metadata": {},
   "outputs": [],
   "source": [
    "#replacing values in capital-gain and capital-loss\n",
    "df.loc[(df['capital-gain']>0),'capital-gain']=1\n",
    "df.loc[(df['capital-gain']==0),'capital-gain']=0\n",
    "\n",
    "df.loc[(df['capital-loss']>0),'capital-loss']=1\n",
    "df.loc[(df['capital-loss']==0),'capital-loss']=0"
   ]
  },
  {
   "cell_type": "markdown",
   "id": "0ebb1ed8",
   "metadata": {},
   "source": [
    "**Changing the native-country attribute**"
   ]
  },
  {
   "cell_type": "code",
   "execution_count": 58,
   "id": "a888e4cb",
   "metadata": {},
   "outputs": [],
   "source": [
    "nat_map=\\\n",
    "{'United-States':'US',\n",
    "'Mexico':'Non-US',\n",
    "'Philippines': 'Non-US',                    \n",
    "'Germany':'Non-US',                         \n",
    "'Puerto-Rico':'Non-US',                     \n",
    "'Canada':'Non-US',                          \n",
    "'El-Salvador':'Non-US',                     \n",
    "'India':'Non-US',                           \n",
    "'Cuba':'Non-US',                            \n",
    "'England':'Non-US',                         \n",
    "'China':'Non-US',                           \n",
    "'South':'Non-US',                           \n",
    "'Jamaica':'Non-US',                         \n",
    "'Italy':'Non-US',                           \n",
    "'Dominican-Republic':'Non-US',              \n",
    "'Japan':'Non-US',                            \n",
    "'Guatemala':'Non-US',                        \n",
    "'Poland':'Non-US',                           \n",
    "'Vietnam':'Non-US',                          \n",
    "'Columbia':'Non-US',                         \n",
    "'Haiti':'Non-US',                           \n",
    "'Portugal':'Non-US',                         \n",
    "'Taiwan':'Non-US',                           \n",
    "'Iran':'Non-US',                            \n",
    "'Greece':'Non-US',                           \n",
    "'Nicaragua':'Non-US',                        \n",
    "'Peru':'Non-US',                             \n",
    "'Ecuador':'Non-US',                          \n",
    "'France':'Non-US',                           \n",
    "'Ireland':'Non-US',                          \n",
    "'Hong':'Non-US',                            \n",
    "'Thailand':'Non-US',                         \n",
    "'Cambodia':'Non-US' ,                        \n",
    "'Trinadad&Tobago':'Non-US',                  \n",
    "'Laos':'Non-US',                             \n",
    "'Outlying-US(Guam-USVI-etc)':'Non-US',       \n",
    "'Yugoslavia':'Non-US',                       \n",
    "'Scotland':'Non-US',                         \n",
    "'Honduras':'Non-US',                         \n",
    "'Hungary':'Non-US' ,                         \n",
    "'Holand-Netherlands':'Non-US'}"
   ]
  },
  {
   "cell_type": "code",
   "execution_count": 59,
   "id": "f7d5a0c6",
   "metadata": {},
   "outputs": [],
   "source": [
    "df['native-country']=df['native-country'].map(nat_map)"
   ]
  },
  {
   "cell_type": "code",
   "execution_count": 60,
   "id": "3904d86b",
   "metadata": {},
   "outputs": [
    {
     "data": {
      "text/plain": [
       "US        44689\n",
       "Non-US     4153\n",
       "Name: native-country, dtype: int64"
      ]
     },
     "execution_count": 60,
     "metadata": {},
     "output_type": "execute_result"
    }
   ],
   "source": [
    "df['native-country'].value_counts()"
   ]
  },
  {
   "cell_type": "code",
   "execution_count": 61,
   "id": "958e49f8",
   "metadata": {},
   "outputs": [],
   "source": [
    "df['native-country'].replace(['Non-US','US'],['0','1'],inplace=True)"
   ]
  },
  {
   "cell_type": "markdown",
   "id": "9e0d8ff1",
   "metadata": {},
   "source": [
    "# Fully transformed dataset:"
   ]
  },
  {
   "cell_type": "code",
   "execution_count": 62,
   "id": "23c97654",
   "metadata": {},
   "outputs": [
    {
     "data": {
      "text/html": [
       "<div>\n",
       "<style scoped>\n",
       "    .dataframe tbody tr th:only-of-type {\n",
       "        vertical-align: middle;\n",
       "    }\n",
       "\n",
       "    .dataframe tbody tr th {\n",
       "        vertical-align: top;\n",
       "    }\n",
       "\n",
       "    .dataframe thead th {\n",
       "        text-align: right;\n",
       "    }\n",
       "</style>\n",
       "<table border=\"1\" class=\"dataframe\">\n",
       "  <thead>\n",
       "    <tr style=\"text-align: right;\">\n",
       "      <th></th>\n",
       "      <th>age</th>\n",
       "      <th>workclass</th>\n",
       "      <th>fnlwgt</th>\n",
       "      <th>educational-num</th>\n",
       "      <th>marital-status</th>\n",
       "      <th>relationship</th>\n",
       "      <th>race</th>\n",
       "      <th>gender</th>\n",
       "      <th>capital-gain</th>\n",
       "      <th>capital-loss</th>\n",
       "      <th>hours-per-week</th>\n",
       "      <th>native-country</th>\n",
       "      <th>income</th>\n",
       "    </tr>\n",
       "  </thead>\n",
       "  <tbody>\n",
       "    <tr>\n",
       "      <th>0</th>\n",
       "      <td>25</td>\n",
       "      <td>0</td>\n",
       "      <td>226802</td>\n",
       "      <td>7</td>\n",
       "      <td>0</td>\n",
       "      <td>2</td>\n",
       "      <td>1</td>\n",
       "      <td>0</td>\n",
       "      <td>0</td>\n",
       "      <td>0</td>\n",
       "      <td>40</td>\n",
       "      <td>1</td>\n",
       "      <td>0</td>\n",
       "    </tr>\n",
       "    <tr>\n",
       "      <th>1</th>\n",
       "      <td>38</td>\n",
       "      <td>0</td>\n",
       "      <td>89814</td>\n",
       "      <td>9</td>\n",
       "      <td>1</td>\n",
       "      <td>0</td>\n",
       "      <td>0</td>\n",
       "      <td>0</td>\n",
       "      <td>0</td>\n",
       "      <td>0</td>\n",
       "      <td>50</td>\n",
       "      <td>1</td>\n",
       "      <td>0</td>\n",
       "    </tr>\n",
       "    <tr>\n",
       "      <th>2</th>\n",
       "      <td>28</td>\n",
       "      <td>1</td>\n",
       "      <td>336951</td>\n",
       "      <td>12</td>\n",
       "      <td>1</td>\n",
       "      <td>0</td>\n",
       "      <td>0</td>\n",
       "      <td>0</td>\n",
       "      <td>0</td>\n",
       "      <td>0</td>\n",
       "      <td>40</td>\n",
       "      <td>1</td>\n",
       "      <td>1</td>\n",
       "    </tr>\n",
       "    <tr>\n",
       "      <th>3</th>\n",
       "      <td>44</td>\n",
       "      <td>0</td>\n",
       "      <td>160323</td>\n",
       "      <td>10</td>\n",
       "      <td>1</td>\n",
       "      <td>0</td>\n",
       "      <td>1</td>\n",
       "      <td>0</td>\n",
       "      <td>1</td>\n",
       "      <td>0</td>\n",
       "      <td>40</td>\n",
       "      <td>1</td>\n",
       "      <td>1</td>\n",
       "    </tr>\n",
       "    <tr>\n",
       "      <th>4</th>\n",
       "      <td>18</td>\n",
       "      <td>0</td>\n",
       "      <td>103497</td>\n",
       "      <td>10</td>\n",
       "      <td>0</td>\n",
       "      <td>2</td>\n",
       "      <td>0</td>\n",
       "      <td>1</td>\n",
       "      <td>0</td>\n",
       "      <td>0</td>\n",
       "      <td>30</td>\n",
       "      <td>1</td>\n",
       "      <td>0</td>\n",
       "    </tr>\n",
       "    <tr>\n",
       "      <th>5</th>\n",
       "      <td>34</td>\n",
       "      <td>0</td>\n",
       "      <td>198693</td>\n",
       "      <td>6</td>\n",
       "      <td>0</td>\n",
       "      <td>1</td>\n",
       "      <td>0</td>\n",
       "      <td>0</td>\n",
       "      <td>0</td>\n",
       "      <td>0</td>\n",
       "      <td>30</td>\n",
       "      <td>1</td>\n",
       "      <td>0</td>\n",
       "    </tr>\n",
       "    <tr>\n",
       "      <th>6</th>\n",
       "      <td>29</td>\n",
       "      <td>0</td>\n",
       "      <td>227026</td>\n",
       "      <td>9</td>\n",
       "      <td>0</td>\n",
       "      <td>3</td>\n",
       "      <td>1</td>\n",
       "      <td>0</td>\n",
       "      <td>0</td>\n",
       "      <td>0</td>\n",
       "      <td>40</td>\n",
       "      <td>1</td>\n",
       "      <td>0</td>\n",
       "    </tr>\n",
       "    <tr>\n",
       "      <th>7</th>\n",
       "      <td>63</td>\n",
       "      <td>2</td>\n",
       "      <td>104626</td>\n",
       "      <td>15</td>\n",
       "      <td>1</td>\n",
       "      <td>0</td>\n",
       "      <td>0</td>\n",
       "      <td>0</td>\n",
       "      <td>1</td>\n",
       "      <td>0</td>\n",
       "      <td>32</td>\n",
       "      <td>1</td>\n",
       "      <td>1</td>\n",
       "    </tr>\n",
       "    <tr>\n",
       "      <th>8</th>\n",
       "      <td>24</td>\n",
       "      <td>0</td>\n",
       "      <td>369667</td>\n",
       "      <td>10</td>\n",
       "      <td>0</td>\n",
       "      <td>3</td>\n",
       "      <td>0</td>\n",
       "      <td>1</td>\n",
       "      <td>0</td>\n",
       "      <td>0</td>\n",
       "      <td>40</td>\n",
       "      <td>1</td>\n",
       "      <td>0</td>\n",
       "    </tr>\n",
       "    <tr>\n",
       "      <th>9</th>\n",
       "      <td>55</td>\n",
       "      <td>0</td>\n",
       "      <td>104996</td>\n",
       "      <td>4</td>\n",
       "      <td>1</td>\n",
       "      <td>0</td>\n",
       "      <td>0</td>\n",
       "      <td>0</td>\n",
       "      <td>0</td>\n",
       "      <td>0</td>\n",
       "      <td>10</td>\n",
       "      <td>1</td>\n",
       "      <td>0</td>\n",
       "    </tr>\n",
       "    <tr>\n",
       "      <th>10</th>\n",
       "      <td>65</td>\n",
       "      <td>0</td>\n",
       "      <td>184454</td>\n",
       "      <td>9</td>\n",
       "      <td>1</td>\n",
       "      <td>0</td>\n",
       "      <td>0</td>\n",
       "      <td>0</td>\n",
       "      <td>1</td>\n",
       "      <td>0</td>\n",
       "      <td>40</td>\n",
       "      <td>1</td>\n",
       "      <td>1</td>\n",
       "    </tr>\n",
       "    <tr>\n",
       "      <th>11</th>\n",
       "      <td>36</td>\n",
       "      <td>1</td>\n",
       "      <td>212465</td>\n",
       "      <td>13</td>\n",
       "      <td>1</td>\n",
       "      <td>0</td>\n",
       "      <td>0</td>\n",
       "      <td>0</td>\n",
       "      <td>0</td>\n",
       "      <td>0</td>\n",
       "      <td>40</td>\n",
       "      <td>1</td>\n",
       "      <td>0</td>\n",
       "    </tr>\n",
       "    <tr>\n",
       "      <th>12</th>\n",
       "      <td>26</td>\n",
       "      <td>0</td>\n",
       "      <td>82091</td>\n",
       "      <td>9</td>\n",
       "      <td>0</td>\n",
       "      <td>1</td>\n",
       "      <td>0</td>\n",
       "      <td>1</td>\n",
       "      <td>0</td>\n",
       "      <td>0</td>\n",
       "      <td>39</td>\n",
       "      <td>1</td>\n",
       "      <td>0</td>\n",
       "    </tr>\n",
       "    <tr>\n",
       "      <th>13</th>\n",
       "      <td>58</td>\n",
       "      <td>0</td>\n",
       "      <td>299831</td>\n",
       "      <td>9</td>\n",
       "      <td>1</td>\n",
       "      <td>0</td>\n",
       "      <td>0</td>\n",
       "      <td>0</td>\n",
       "      <td>0</td>\n",
       "      <td>0</td>\n",
       "      <td>35</td>\n",
       "      <td>1</td>\n",
       "      <td>0</td>\n",
       "    </tr>\n",
       "    <tr>\n",
       "      <th>14</th>\n",
       "      <td>48</td>\n",
       "      <td>0</td>\n",
       "      <td>279724</td>\n",
       "      <td>9</td>\n",
       "      <td>1</td>\n",
       "      <td>0</td>\n",
       "      <td>0</td>\n",
       "      <td>0</td>\n",
       "      <td>1</td>\n",
       "      <td>0</td>\n",
       "      <td>48</td>\n",
       "      <td>1</td>\n",
       "      <td>1</td>\n",
       "    </tr>\n",
       "    <tr>\n",
       "      <th>15</th>\n",
       "      <td>43</td>\n",
       "      <td>0</td>\n",
       "      <td>346189</td>\n",
       "      <td>14</td>\n",
       "      <td>1</td>\n",
       "      <td>0</td>\n",
       "      <td>0</td>\n",
       "      <td>0</td>\n",
       "      <td>0</td>\n",
       "      <td>0</td>\n",
       "      <td>50</td>\n",
       "      <td>1</td>\n",
       "      <td>1</td>\n",
       "    </tr>\n",
       "    <tr>\n",
       "      <th>16</th>\n",
       "      <td>20</td>\n",
       "      <td>1</td>\n",
       "      <td>444554</td>\n",
       "      <td>10</td>\n",
       "      <td>0</td>\n",
       "      <td>2</td>\n",
       "      <td>0</td>\n",
       "      <td>0</td>\n",
       "      <td>0</td>\n",
       "      <td>0</td>\n",
       "      <td>25</td>\n",
       "      <td>1</td>\n",
       "      <td>0</td>\n",
       "    </tr>\n",
       "    <tr>\n",
       "      <th>17</th>\n",
       "      <td>43</td>\n",
       "      <td>0</td>\n",
       "      <td>128354</td>\n",
       "      <td>9</td>\n",
       "      <td>1</td>\n",
       "      <td>4</td>\n",
       "      <td>0</td>\n",
       "      <td>1</td>\n",
       "      <td>0</td>\n",
       "      <td>0</td>\n",
       "      <td>30</td>\n",
       "      <td>1</td>\n",
       "      <td>0</td>\n",
       "    </tr>\n",
       "    <tr>\n",
       "      <th>18</th>\n",
       "      <td>37</td>\n",
       "      <td>0</td>\n",
       "      <td>60548</td>\n",
       "      <td>9</td>\n",
       "      <td>0</td>\n",
       "      <td>3</td>\n",
       "      <td>0</td>\n",
       "      <td>1</td>\n",
       "      <td>0</td>\n",
       "      <td>0</td>\n",
       "      <td>20</td>\n",
       "      <td>1</td>\n",
       "      <td>0</td>\n",
       "    </tr>\n",
       "    <tr>\n",
       "      <th>19</th>\n",
       "      <td>40</td>\n",
       "      <td>0</td>\n",
       "      <td>85019</td>\n",
       "      <td>16</td>\n",
       "      <td>1</td>\n",
       "      <td>0</td>\n",
       "      <td>2</td>\n",
       "      <td>0</td>\n",
       "      <td>0</td>\n",
       "      <td>0</td>\n",
       "      <td>45</td>\n",
       "      <td>1</td>\n",
       "      <td>1</td>\n",
       "    </tr>\n",
       "  </tbody>\n",
       "</table>\n",
       "</div>"
      ],
      "text/plain": [
       "    age workclass  fnlwgt  educational-num marital-status relationship race  \\\n",
       "0    25         0  226802                7              0            2    1   \n",
       "1    38         0   89814                9              1            0    0   \n",
       "2    28         1  336951               12              1            0    0   \n",
       "3    44         0  160323               10              1            0    1   \n",
       "4    18         0  103497               10              0            2    0   \n",
       "5    34         0  198693                6              0            1    0   \n",
       "6    29         0  227026                9              0            3    1   \n",
       "7    63         2  104626               15              1            0    0   \n",
       "8    24         0  369667               10              0            3    0   \n",
       "9    55         0  104996                4              1            0    0   \n",
       "10   65         0  184454                9              1            0    0   \n",
       "11   36         1  212465               13              1            0    0   \n",
       "12   26         0   82091                9              0            1    0   \n",
       "13   58         0  299831                9              1            0    0   \n",
       "14   48         0  279724                9              1            0    0   \n",
       "15   43         0  346189               14              1            0    0   \n",
       "16   20         1  444554               10              0            2    0   \n",
       "17   43         0  128354                9              1            4    0   \n",
       "18   37         0   60548                9              0            3    0   \n",
       "19   40         0   85019               16              1            0    2   \n",
       "\n",
       "   gender  capital-gain  capital-loss  hours-per-week native-country income  \n",
       "0       0             0             0              40              1      0  \n",
       "1       0             0             0              50              1      0  \n",
       "2       0             0             0              40              1      1  \n",
       "3       0             1             0              40              1      1  \n",
       "4       1             0             0              30              1      0  \n",
       "5       0             0             0              30              1      0  \n",
       "6       0             0             0              40              1      0  \n",
       "7       0             1             0              32              1      1  \n",
       "8       1             0             0              40              1      0  \n",
       "9       0             0             0              10              1      0  \n",
       "10      0             1             0              40              1      1  \n",
       "11      0             0             0              40              1      0  \n",
       "12      1             0             0              39              1      0  \n",
       "13      0             0             0              35              1      0  \n",
       "14      0             1             0              48              1      1  \n",
       "15      0             0             0              50              1      1  \n",
       "16      0             0             0              25              1      0  \n",
       "17      1             0             0              30              1      0  \n",
       "18      1             0             0              20              1      0  \n",
       "19      0             0             0              45              1      1  "
      ]
     },
     "execution_count": 62,
     "metadata": {},
     "output_type": "execute_result"
    }
   ],
   "source": [
    "df.head(20)"
   ]
  },
  {
   "cell_type": "markdown",
   "id": "a224a85b",
   "metadata": {},
   "source": [
    "# Data preparation"
   ]
  },
  {
   "cell_type": "code",
   "execution_count": 63,
   "id": "2b6a7cc5",
   "metadata": {},
   "outputs": [],
   "source": [
    "target = df['income']\n",
    "data = df.drop(\"income\",axis=1)"
   ]
  },
  {
   "cell_type": "code",
   "execution_count": 64,
   "id": "ef2ac1dc",
   "metadata": {},
   "outputs": [
    {
     "data": {
      "text/html": [
       "<div>\n",
       "<style scoped>\n",
       "    .dataframe tbody tr th:only-of-type {\n",
       "        vertical-align: middle;\n",
       "    }\n",
       "\n",
       "    .dataframe tbody tr th {\n",
       "        vertical-align: top;\n",
       "    }\n",
       "\n",
       "    .dataframe thead th {\n",
       "        text-align: right;\n",
       "    }\n",
       "</style>\n",
       "<table border=\"1\" class=\"dataframe\">\n",
       "  <thead>\n",
       "    <tr style=\"text-align: right;\">\n",
       "      <th></th>\n",
       "      <th>age</th>\n",
       "      <th>workclass</th>\n",
       "      <th>fnlwgt</th>\n",
       "      <th>educational-num</th>\n",
       "      <th>marital-status</th>\n",
       "      <th>relationship</th>\n",
       "      <th>race</th>\n",
       "      <th>gender</th>\n",
       "      <th>capital-gain</th>\n",
       "      <th>capital-loss</th>\n",
       "      <th>hours-per-week</th>\n",
       "      <th>native-country</th>\n",
       "    </tr>\n",
       "  </thead>\n",
       "  <tbody>\n",
       "    <tr>\n",
       "      <th>0</th>\n",
       "      <td>25</td>\n",
       "      <td>0</td>\n",
       "      <td>226802</td>\n",
       "      <td>7</td>\n",
       "      <td>0</td>\n",
       "      <td>2</td>\n",
       "      <td>1</td>\n",
       "      <td>0</td>\n",
       "      <td>0</td>\n",
       "      <td>0</td>\n",
       "      <td>40</td>\n",
       "      <td>1</td>\n",
       "    </tr>\n",
       "    <tr>\n",
       "      <th>1</th>\n",
       "      <td>38</td>\n",
       "      <td>0</td>\n",
       "      <td>89814</td>\n",
       "      <td>9</td>\n",
       "      <td>1</td>\n",
       "      <td>0</td>\n",
       "      <td>0</td>\n",
       "      <td>0</td>\n",
       "      <td>0</td>\n",
       "      <td>0</td>\n",
       "      <td>50</td>\n",
       "      <td>1</td>\n",
       "    </tr>\n",
       "    <tr>\n",
       "      <th>2</th>\n",
       "      <td>28</td>\n",
       "      <td>1</td>\n",
       "      <td>336951</td>\n",
       "      <td>12</td>\n",
       "      <td>1</td>\n",
       "      <td>0</td>\n",
       "      <td>0</td>\n",
       "      <td>0</td>\n",
       "      <td>0</td>\n",
       "      <td>0</td>\n",
       "      <td>40</td>\n",
       "      <td>1</td>\n",
       "    </tr>\n",
       "    <tr>\n",
       "      <th>3</th>\n",
       "      <td>44</td>\n",
       "      <td>0</td>\n",
       "      <td>160323</td>\n",
       "      <td>10</td>\n",
       "      <td>1</td>\n",
       "      <td>0</td>\n",
       "      <td>1</td>\n",
       "      <td>0</td>\n",
       "      <td>1</td>\n",
       "      <td>0</td>\n",
       "      <td>40</td>\n",
       "      <td>1</td>\n",
       "    </tr>\n",
       "    <tr>\n",
       "      <th>4</th>\n",
       "      <td>18</td>\n",
       "      <td>0</td>\n",
       "      <td>103497</td>\n",
       "      <td>10</td>\n",
       "      <td>0</td>\n",
       "      <td>2</td>\n",
       "      <td>0</td>\n",
       "      <td>1</td>\n",
       "      <td>0</td>\n",
       "      <td>0</td>\n",
       "      <td>30</td>\n",
       "      <td>1</td>\n",
       "    </tr>\n",
       "  </tbody>\n",
       "</table>\n",
       "</div>"
      ],
      "text/plain": [
       "   age workclass  fnlwgt  educational-num marital-status relationship race  \\\n",
       "0   25         0  226802                7              0            2    1   \n",
       "1   38         0   89814                9              1            0    0   \n",
       "2   28         1  336951               12              1            0    0   \n",
       "3   44         0  160323               10              1            0    1   \n",
       "4   18         0  103497               10              0            2    0   \n",
       "\n",
       "  gender  capital-gain  capital-loss  hours-per-week native-country  \n",
       "0      0             0             0              40              1  \n",
       "1      0             0             0              50              1  \n",
       "2      0             0             0              40              1  \n",
       "3      0             1             0              40              1  \n",
       "4      1             0             0              30              1  "
      ]
     },
     "execution_count": 64,
     "metadata": {},
     "output_type": "execute_result"
    }
   ],
   "source": [
    "data.head()"
   ]
  },
  {
   "cell_type": "code",
   "execution_count": 65,
   "id": "759f6022",
   "metadata": {},
   "outputs": [
    {
     "data": {
      "text/plain": [
       "(48842,)"
      ]
     },
     "execution_count": 65,
     "metadata": {},
     "output_type": "execute_result"
    }
   ],
   "source": [
    "target.shape"
   ]
  },
  {
   "cell_type": "code",
   "execution_count": 66,
   "id": "92e2d5dd",
   "metadata": {},
   "outputs": [
    {
     "data": {
      "text/plain": [
       "(48842, 12)"
      ]
     },
     "execution_count": 66,
     "metadata": {},
     "output_type": "execute_result"
    }
   ],
   "source": [
    "data.shape"
   ]
  },
  {
   "cell_type": "code",
   "execution_count": 67,
   "id": "663e256a",
   "metadata": {},
   "outputs": [],
   "source": [
    "#Data standardization\n",
    "from sklearn.preprocessing import StandardScaler\n",
    "std_data = StandardScaler().fit_transform(data)"
   ]
  },
  {
   "cell_type": "code",
   "execution_count": 68,
   "id": "d6c7fd7b",
   "metadata": {},
   "outputs": [
    {
     "data": {
      "text/plain": [
       "(48842, 12)"
      ]
     },
     "execution_count": 68,
     "metadata": {},
     "output_type": "execute_result"
    }
   ],
   "source": [
    "std_data.shape"
   ]
  },
  {
   "cell_type": "markdown",
   "id": "396acc99",
   "metadata": {},
   "source": [
    "# Applying model for training:\n",
    "**Dividing into train and test data**"
   ]
  },
  {
   "cell_type": "code",
   "execution_count": 69,
   "id": "19a6ed1a",
   "metadata": {},
   "outputs": [],
   "source": [
    "from sklearn.model_selection import train_test_split\n",
    "x_train,x_test,y_train,y_test=train_test_split(std_data,target,test_size=0.25,random_state=0)"
   ]
  },
  {
   "cell_type": "code",
   "execution_count": 70,
   "id": "44ee01bc",
   "metadata": {},
   "outputs": [
    {
     "name": "stdout",
     "output_type": "stream",
     "text": [
      "(36631, 12)\n",
      "(12211, 12)\n",
      "(36631,)\n",
      "(12211,)\n"
     ]
    }
   ],
   "source": [
    "print(x_train.shape)\n",
    "print(x_test.shape)\n",
    "print(y_train.shape)\n",
    "print(y_test.shape)"
   ]
  },
  {
   "cell_type": "markdown",
   "id": "8281803f",
   "metadata": {},
   "source": [
    "# 1. Training using Logistic regression"
   ]
  },
  {
   "cell_type": "code",
   "execution_count": 71,
   "id": "4003a3d7",
   "metadata": {},
   "outputs": [
    {
     "data": {
      "text/plain": [
       "LogisticRegression()"
      ]
     },
     "execution_count": 71,
     "metadata": {},
     "output_type": "execute_result"
    }
   ],
   "source": [
    "from sklearn.linear_model import LogisticRegression\n",
    "classifier1 = LogisticRegression()\n",
    "classifier1.fit(x_train,y_train)"
   ]
  },
  {
   "cell_type": "markdown",
   "id": "f9a45a36",
   "metadata": {},
   "source": [
    "# Prediction and Accuracy of Logistic regression"
   ]
  },
  {
   "cell_type": "code",
   "execution_count": 72,
   "id": "ce8e38f3",
   "metadata": {},
   "outputs": [],
   "source": [
    "y_pred = classifier1.predict(x_test)"
   ]
  },
  {
   "cell_type": "code",
   "execution_count": 73,
   "id": "b3cb1199",
   "metadata": {},
   "outputs": [
    {
     "data": {
      "text/plain": [
       "0.8337564491032675"
      ]
     },
     "execution_count": 73,
     "metadata": {},
     "output_type": "execute_result"
    }
   ],
   "source": [
    "#Checking accuracy\n",
    "from sklearn import metrics\n",
    "a1=metrics.accuracy_score(y_test,y_pred)\n",
    "a1"
   ]
  },
  {
   "cell_type": "markdown",
   "id": "814f61bb",
   "metadata": {},
   "source": [
    "# 2. Training using Random Forest Classifier"
   ]
  },
  {
   "cell_type": "code",
   "execution_count": 74,
   "id": "f8a4fb64",
   "metadata": {},
   "outputs": [
    {
     "data": {
      "text/plain": [
       "RandomForestClassifier()"
      ]
     },
     "execution_count": 74,
     "metadata": {},
     "output_type": "execute_result"
    }
   ],
   "source": [
    "from sklearn.ensemble import RandomForestClassifier\n",
    "classifier2 = RandomForestClassifier(n_estimators=100)\n",
    "classifier2.fit(x_train,y_train)"
   ]
  },
  {
   "cell_type": "markdown",
   "id": "886e1ea8",
   "metadata": {},
   "source": [
    "# Prediction and Accuracy of Random Forest Classifier"
   ]
  },
  {
   "cell_type": "code",
   "execution_count": 75,
   "id": "f6d7454d",
   "metadata": {},
   "outputs": [],
   "source": [
    "y_pred = classifier2.predict(x_test)"
   ]
  },
  {
   "cell_type": "code",
   "execution_count": 76,
   "id": "f3cc71ae",
   "metadata": {},
   "outputs": [
    {
     "data": {
      "text/plain": [
       "0.8272049791171894"
      ]
     },
     "execution_count": 76,
     "metadata": {},
     "output_type": "execute_result"
    }
   ],
   "source": [
    "a2=metrics.accuracy_score(y_test,y_pred)\n",
    "a2"
   ]
  },
  {
   "cell_type": "markdown",
   "id": "c4940bec",
   "metadata": {},
   "source": [
    "# 3. Training using Support vector machines"
   ]
  },
  {
   "cell_type": "code",
   "execution_count": 77,
   "id": "5d550f0c",
   "metadata": {},
   "outputs": [
    {
     "data": {
      "text/plain": [
       "SVC()"
      ]
     },
     "execution_count": 77,
     "metadata": {},
     "output_type": "execute_result"
    }
   ],
   "source": [
    "from sklearn.svm import SVC\n",
    "classifier3 = SVC()\n",
    "classifier3.fit(x_train,y_train)"
   ]
  },
  {
   "cell_type": "markdown",
   "id": "9bed4e9c",
   "metadata": {},
   "source": [
    "# Prediction and Accuracy using Support vector Machines"
   ]
  },
  {
   "cell_type": "code",
   "execution_count": 78,
   "id": "78961f88",
   "metadata": {},
   "outputs": [],
   "source": [
    "y_pred = classifier3.predict(x_test)"
   ]
  },
  {
   "cell_type": "code",
   "execution_count": 79,
   "id": "c54f2c78",
   "metadata": {},
   "outputs": [
    {
     "data": {
      "text/plain": [
       "0.8395708787159119"
      ]
     },
     "execution_count": 79,
     "metadata": {},
     "output_type": "execute_result"
    }
   ],
   "source": [
    "a3=metrics.accuracy_score(y_test,y_pred)\n",
    "a3"
   ]
  },
  {
   "cell_type": "markdown",
   "id": "5f5f3d78",
   "metadata": {},
   "source": [
    "# 4. Training using Decision tree classifier"
   ]
  },
  {
   "cell_type": "code",
   "execution_count": 80,
   "id": "5e906808",
   "metadata": {},
   "outputs": [
    {
     "data": {
      "text/plain": [
       "DecisionTreeClassifier()"
      ]
     },
     "execution_count": 80,
     "metadata": {},
     "output_type": "execute_result"
    }
   ],
   "source": [
    "from sklearn.tree import DecisionTreeClassifier\n",
    "classifier4 = DecisionTreeClassifier()\n",
    "classifier4.fit(x_train,y_train)"
   ]
  },
  {
   "cell_type": "markdown",
   "id": "febf056f",
   "metadata": {},
   "source": [
    "# Prediction and accuracy using Decision tree classifier"
   ]
  },
  {
   "cell_type": "code",
   "execution_count": 81,
   "id": "211afeb4",
   "metadata": {},
   "outputs": [],
   "source": [
    "y_pred = classifier4.predict(x_test)"
   ]
  },
  {
   "cell_type": "code",
   "execution_count": 82,
   "id": "addd088c",
   "metadata": {},
   "outputs": [
    {
     "data": {
      "text/plain": [
       "0.7809352223405126"
      ]
     },
     "execution_count": 82,
     "metadata": {},
     "output_type": "execute_result"
    }
   ],
   "source": [
    "a4=metrics.accuracy_score(y_test,y_pred)\n",
    "a4"
   ]
  },
  {
   "cell_type": "markdown",
   "id": "5d7140f9",
   "metadata": {},
   "source": [
    "# 5.Training using Naive Bayes"
   ]
  },
  {
   "cell_type": "code",
   "execution_count": 83,
   "id": "8773ac94",
   "metadata": {},
   "outputs": [
    {
     "data": {
      "text/plain": [
       "GaussianNB()"
      ]
     },
     "execution_count": 83,
     "metadata": {},
     "output_type": "execute_result"
    }
   ],
   "source": [
    "from sklearn.naive_bayes import GaussianNB\n",
    "classifier5 = GaussianNB()\n",
    "classifier5.fit(x_train,y_train)"
   ]
  },
  {
   "cell_type": "markdown",
   "id": "e6731e4d",
   "metadata": {},
   "source": [
    "# Prediction and accuracy using Naive Bayes"
   ]
  },
  {
   "cell_type": "code",
   "execution_count": 84,
   "id": "38c6e34e",
   "metadata": {},
   "outputs": [],
   "source": [
    "y_pred = classifier5.predict(x_test)"
   ]
  },
  {
   "cell_type": "code",
   "execution_count": 85,
   "id": "3835c231",
   "metadata": {},
   "outputs": [
    {
     "data": {
      "text/plain": [
       "0.7961673900581443"
      ]
     },
     "execution_count": 85,
     "metadata": {},
     "output_type": "execute_result"
    }
   ],
   "source": [
    "a5=metrics.accuracy_score(y_test,y_pred)\n",
    "a5"
   ]
  },
  {
   "cell_type": "markdown",
   "id": "f4cf70b6",
   "metadata": {},
   "source": [
    "# 6. Training using Neural networks"
   ]
  },
  {
   "cell_type": "code",
   "execution_count": 86,
   "id": "211be52c",
   "metadata": {},
   "outputs": [
    {
     "data": {
      "text/plain": [
       "MLPClassifier()"
      ]
     },
     "execution_count": 86,
     "metadata": {},
     "output_type": "execute_result"
    }
   ],
   "source": [
    "from sklearn.neural_network import MLPClassifier\n",
    "classifier6 = MLPClassifier()\n",
    "classifier6.fit(x_train,y_train)"
   ]
  },
  {
   "cell_type": "markdown",
   "id": "a763d16d",
   "metadata": {},
   "source": [
    "# Prediction and accuracy using Neural networks"
   ]
  },
  {
   "cell_type": "code",
   "execution_count": 87,
   "id": "36ee7bef",
   "metadata": {},
   "outputs": [],
   "source": [
    "y_pred = classifier6.predict(x_test)"
   ]
  },
  {
   "cell_type": "code",
   "execution_count": 88,
   "id": "63257fa3",
   "metadata": {},
   "outputs": [
    {
     "data": {
      "text/plain": [
       "0.83940709196626"
      ]
     },
     "execution_count": 88,
     "metadata": {},
     "output_type": "execute_result"
    }
   ],
   "source": [
    "a6=metrics.accuracy_score(y_test,y_pred)\n",
    "a6"
   ]
  },
  {
   "cell_type": "markdown",
   "id": "0390e2e2",
   "metadata": {},
   "source": [
    "# Conclusion:"
   ]
  },
  {
   "cell_type": "code",
   "execution_count": 89,
   "id": "ceebf673",
   "metadata": {},
   "outputs": [
    {
     "name": "stdout",
     "output_type": "stream",
     "text": [
      "                      Model   Accuracy\n",
      "0       Logistic Regression  83.375645\n",
      "1   Support vector machines  83.957088\n",
      "2  Random Forest Classifier  82.720498\n",
      "3               Naive Bayes  79.616739\n",
      "4  Decision Tree classifier  78.093522\n",
      "5           Neural networks  83.940709\n"
     ]
    }
   ],
   "source": [
    "models = {'Model':['Logistic Regression','Support vector machines','Random Forest Classifier',\\\n",
    "                   'Naive Bayes','Decision Tree classifier','Neural networks'],\\\n",
    "         'Accuracy':[a1*100,a3*100,a2*100,a5*100,a4*100,a6*100]}\n",
    "tab = pd.DataFrame(models,columns=['Model','Accuracy'])\n",
    "print(tab)"
   ]
  },
  {
   "cell_type": "markdown",
   "id": "79b425e3",
   "metadata": {},
   "source": [
    "**Points to note:**\n",
    "* 6 different classifier models are used to predict the income attributes.\n",
    "* The first model is Logistic Regression.\n",
    "* It gives an accuracy of 83 percentage and also performing good.\n",
    "* The next model is Support Vector Machine.\n",
    "* It gives an high accuracy of 83.95 percentage, a very good performing model.\n",
    "* The next model is Random Forest Classifier.\n",
    "* It gives an accuracy of 82.5 percentage, performing resonably good.\n",
    "* The next model is Naive Bayes.\n",
    "* It gives an accuracy of only 79 percentage.\n",
    "* The next model is Decision Tree classifier.\n",
    "* It gives an accuracy of only 78 percentage.\n",
    "* Our Last and final model is Neural networks.\n",
    "* It gives an High accuracy of 83.94 percentage comparing to other working models.\n",
    "* From the table, It is clear that SVM and Neural Network has high accuracy,whereas Logistic regression and RFC has approximately equal accuracy.\n",
    "* Naive bayes and Decison tree algorithm produces low accuracy compared to other algorithms."
   ]
  },
  {
   "cell_type": "markdown",
   "id": "d485202f",
   "metadata": {},
   "source": [
    "# Learnings from research paper:\n",
    "* The research papers helped me to understand about outliers and missing value treatment.\n",
    "* I came to know about the normalization and standardization of the dataset, which results in more accuracy in creating model.\n",
    "* After doing the above mentioned steps, I got an accuracy of 84 percentage in neural network classifier model.\n",
    "* In the second research paper, I came to know about the importance of using Data visualization as a tool to detect the outliers.\n",
    "* It also helps me to understand Data Preprocessing techniques such as Handling missing values, encoding categorical and numerical values.\n",
    "* From this I learned how to manage, treat outliers and earned some valuable insights to use algorithm suitable for the dataset."
   ]
  },
  {
   "cell_type": "markdown",
   "id": "86b74efa",
   "metadata": {},
   "source": [
    "# Reference:\n",
    "* [Research paper-1](https://drive.google.com/file/d/1rfTR8bgYPSV8LlpPpsMNBTa4FM2LafZ6/view?usp=sharing)\n",
    "* [Research paper-2](https://drive.google.com/file/d/1nXBcKeYFtgQvGjj2QxYngn7zvqKAB12f/view?usp=sharing)\n",
    "* [Outliers-The silent killers](https://www.kaggle.com/nareshbhat/outlier-the-silent-killer)"
   ]
  },
  {
   "cell_type": "code",
   "execution_count": null,
   "id": "707b1d7b",
   "metadata": {},
   "outputs": [],
   "source": []
  }
 ],
 "metadata": {
  "kernelspec": {
   "display_name": "Python 3",
   "language": "python",
   "name": "python3"
  },
  "language_info": {
   "codemirror_mode": {
    "name": "ipython",
    "version": 3
   },
   "file_extension": ".py",
   "mimetype": "text/x-python",
   "name": "python",
   "nbconvert_exporter": "python",
   "pygments_lexer": "ipython3",
   "version": "3.8.8"
  }
 },
 "nbformat": 4,
 "nbformat_minor": 5
}
