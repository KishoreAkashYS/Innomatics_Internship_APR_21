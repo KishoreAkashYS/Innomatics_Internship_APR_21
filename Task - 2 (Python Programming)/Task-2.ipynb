{
 "cells": [
  {
   "cell_type": "code",
   "execution_count": 1,
   "metadata": {},
   "outputs": [
    {
     "name": "stdout",
     "output_type": "stream",
     "text": [
      "1\n",
      "1\n",
      "1\n",
      "2\n",
      "[[0, 0, 0], [0, 0, 1], [0, 1, 0], [1, 0, 0], [1, 1, 1]]\n"
     ]
    }
   ],
   "source": [
    "#Ques-1 List Comprehension\n",
    "x = int(input())\n",
    "y = int(input())\n",
    "z = int(input())\n",
    "n = int(input())\n",
    "a=[]\n",
    "for i in range(x+1):\n",
    "    for j in range(y+1):\n",
    "        for k in range(z+1):\n",
    "            c=[i,j,k]\n",
    "            a.append(c)\n",
    "i=0\n",
    "while i<len(a):\n",
    "    h=sum(a[i])\n",
    "    if(n==h):\n",
    "        a.remove(a[i])\n",
    "    else:\n",
    "        i=i+1\n",
    "print(a)"
   ]
  },
  {
   "cell_type": "code",
   "execution_count": 2,
   "metadata": {},
   "outputs": [
    {
     "name": "stdout",
     "output_type": "stream",
     "text": [
      "5\n",
      "[48, 16, 3, 11, 22]\n",
      "22\n"
     ]
    }
   ],
   "source": [
    "#Ques-2 Finding 2nd runner up\n",
    "import random\n",
    "n = int(input())\n",
    "rand=[]\n",
    "for i in range(0,n):\n",
    "    b=random.randint(1,50)\n",
    "    rand.append(b)\n",
    "print(rand)\n",
    "max1 = max(rand)\n",
    "max2 = -100\n",
    "for i in range(n):\n",
    "    if(rand[i]!= max1 and rand[i] > max2):\n",
    "        max2 = rand[i]\n",
    "    else:\n",
    "        i=i+1\n",
    "print(max2)"
   ]
  },
  {
   "cell_type": "code",
   "execution_count": 3,
   "metadata": {},
   "outputs": [
    {
     "name": "stdout",
     "output_type": "stream",
     "text": [
      "13\n"
     ]
    }
   ],
   "source": [
    "#Ques-3 Set union\n",
    "a_set={1,2,3,4,5,6,7,8,9}\n",
    "b_set={10,1,2,3,11,21,55,6,8}\n",
    "c=a_set.union(b_set)\n",
    "print(len(c))"
   ]
  },
  {
   "cell_type": "code",
   "execution_count": 4,
   "metadata": {},
   "outputs": [
    {
     "name": "stdout",
     "output_type": "stream",
     "text": [
      "5\n",
      "6\n",
      "7\n",
      "8\n",
      "9\n",
      "10\n",
      "5\n"
     ]
    }
   ],
   "source": [
    "#Ques-4 Set add\n",
    "n=int(input())\n",
    "a_set=set()\n",
    "for i in range(n):\n",
    "    a_set.add(input())\n",
    "print(len(a_set))"
   ]
  },
  {
   "cell_type": "code",
   "execution_count": 5,
   "metadata": {},
   "outputs": [
    {
     "name": "stdout",
     "output_type": "stream",
     "text": [
      "5\n",
      "2 4 8 1 3\n",
      "3\n",
      "pop\n",
      "discard 3\n",
      "remove 2\n",
      "12\n"
     ]
    }
   ],
   "source": [
    "#Ques-5 Set discard remove and pop\n",
    "n = int(input())\n",
    "s = set(map(int, input().split()))\n",
    "c = int(input())\n",
    "for i in range(0,c):\n",
    "    a=list(input().strip().split())\n",
    "    if a[0] == 'pop':\n",
    "        s.pop()\n",
    "    elif a[0] == 'discard':\n",
    "        s.discard(int(a[1]))\n",
    "    else:\n",
    "        s.remove(int(a[1]))\n",
    "print(sum(s))"
   ]
  },
  {
   "cell_type": "code",
   "execution_count": 7,
   "metadata": {},
   "outputs": [
    {
     "name": "stdout",
     "output_type": "stream",
     "text": [
      "5\n",
      "insert 0 3\n",
      "insert 1 4\n",
      "append 4\n",
      "insert 0 6\n",
      "pop\n",
      "[6, 3, 4]\n"
     ]
    }
   ],
   "source": [
    "#Ques-6 list\n",
    "n= int(input())\n",
    "arr=[]\n",
    "for i in range(n):\n",
    "    a=list(input().strip().split())\n",
    "    if a[0]=='insert':\n",
    "        arr.insert(int(a[1]),int(a[2]))\n",
    "    elif a[0]=='print':\n",
    "        print(arr)\n",
    "    elif a[0]=='sort':\n",
    "        arr.sort()\n",
    "    elif a[0]=='reverse':\n",
    "        arr.reverse()\n",
    "    elif a[0]=='remove':\n",
    "        arr.remove(int(a[1]))\n",
    "    elif a[0]=='append':\n",
    "        arr.append(int(a[1]))\n",
    "    elif a[0]=='pop':\n",
    "        arr.pop()\n",
    "print(arr)"
   ]
  },
  {
   "cell_type": "code",
   "execution_count": 8,
   "metadata": {},
   "outputs": [
    {
     "name": "stdout",
     "output_type": "stream",
     "text": [
      "5\n",
      "4 3\n",
      "-2624276368889032825\n"
     ]
    }
   ],
   "source": [
    "#Ques-7 Tuple\n",
    "n = int(input())\n",
    "integer_list = tuple(map(int, input().split()))\n",
    "h=hash(integer_list)\n",
    "print(h)"
   ]
  },
  {
   "cell_type": "code",
   "execution_count": 9,
   "metadata": {},
   "outputs": [
    {
     "name": "stdout",
     "output_type": "stream",
     "text": [
      "5\n",
      "2 4 3 3 1\n",
      "2.5\n"
     ]
    }
   ],
   "source": [
    "#Ques-8 Introduction to sets\n",
    "def average(array):\n",
    "    array=set(array)\n",
    "    return sum(array)/len(array)\n",
    "n = int(input())\n",
    "arr = list(map(int, input().split()))\n",
    "result = average(arr)\n",
    "print(result)"
   ]
  },
  {
   "cell_type": "code",
   "execution_count": 10,
   "metadata": {},
   "outputs": [
    {
     "name": "stdout",
     "output_type": "stream",
     "text": [
      "5\n",
      "1 5 6 9 3\n",
      "5 \n",
      "2 3 8 1 2\n",
      "2\n"
     ]
    }
   ],
   "source": [
    "#Ques-9 Set intersection\n",
    "n=int(input())\n",
    "a_set=set(map(int,input().split()))\n",
    "k=int(input())\n",
    "b_set=set(map(int,input().split()))\n",
    "l=a_set.intersection(b_set)\n",
    "print(len(l))"
   ]
  },
  {
   "cell_type": "code",
   "execution_count": 11,
   "metadata": {},
   "outputs": [
    {
     "name": "stdout",
     "output_type": "stream",
     "text": [
      "5\n",
      "1 5 6 9 3\n",
      "5\n",
      "2 3 8 1 2\n",
      "3\n"
     ]
    }
   ],
   "source": [
    "#Ques-10 Set differerence\n",
    "n=int(input())\n",
    "a_set=set(map(int,input().split()))\n",
    "k=int(input())\n",
    "b_set=set(map(int,input().split()))\n",
    "l=a_set.difference(b_set)\n",
    "print(len(l))"
   ]
  },
  {
   "cell_type": "code",
   "execution_count": 12,
   "metadata": {},
   "outputs": [
    {
     "name": "stdout",
     "output_type": "stream",
     "text": [
      "5\n",
      "1 5 6 9 3\n",
      "5\n",
      "2 3 8 1 2\n",
      "5\n"
     ]
    }
   ],
   "source": [
    "#Ques-11 Set symmetric difference\n",
    "n=int(input())\n",
    "a_set=set(map(int,input().split()))\n",
    "k=int(input())\n",
    "b_set=set(map(int,input().split()))\n",
    "l=a_set.symmetric_difference(b_set)\n",
    "print(len(l))"
   ]
  },
  {
   "cell_type": "code",
   "execution_count": 13,
   "metadata": {},
   "outputs": [
    {
     "name": "stdout",
     "output_type": "stream",
     "text": [
      "5\n",
      "2 3 4 5 6\n",
      "5 \n",
      "2 4 6 8 9\n",
      "3\n",
      "5\n",
      "8\n",
      "9\n"
     ]
    }
   ],
   "source": [
    "#Ques-12 Symmetric differerence\n",
    "n=int(input())\n",
    "a_set=set(map(int,input().split()))\n",
    "k=int(input())\n",
    "b_set=set(map(int,input().split()))\n",
    "l=list(a_set.symmetric_difference(b_set))\n",
    "l.sort()\n",
    "for i in range(len(l)):\n",
    "    print(l[i])"
   ]
  },
  {
   "cell_type": "code",
   "execution_count": 14,
   "metadata": {},
   "outputs": [
    {
     "name": "stdout",
     "output_type": "stream",
     "text": [
      "5\n",
      "2 3 4 5 6\n",
      "1\n",
      "update 3\n",
      "89 14 56\n",
      "179\n"
     ]
    }
   ],
   "source": [
    "#Ques-13 Set mutation\n",
    "n=int(input())\n",
    "b=set(map(int,input().split()))\n",
    "c=int(input())\n",
    "for i in range(0,c):\n",
    "    a=list(input().strip().split())\n",
    "    if a[0]=='intersection_update':\n",
    "        a_set = set(map(int,input().split()))\n",
    "        b.intersection_update(a_set)\n",
    "    elif a[0]=='update':\n",
    "        a_set = set(map(int,input().split()))\n",
    "        b.update(a_set)\n",
    "    elif a[0]=='symmetric_difference_update':\n",
    "        a_set = set(map(int,input().split()))\n",
    "        b.symmetric_difference_update(a_set)\n",
    "    elif a[0]=='difference_update':\n",
    "        a_set = set(map(int,input().split()))\n",
    "        b.difference_update(a_set)    \n",
    "print(sum(b))"
   ]
  },
  {
   "cell_type": "code",
   "execution_count": 15,
   "metadata": {},
   "outputs": [
    {
     "name": "stdout",
     "output_type": "stream",
     "text": [
      "2\n",
      "3\n",
      "5 6 4\n",
      "3\n",
      "7 6 8\n",
      "False\n",
      "3\n",
      "5 6 4\n",
      "5 6 4\n",
      "5 6 4\n",
      "True\n"
     ]
    }
   ],
   "source": [
    "#Ques-14 Check subset\n",
    "n=int(input())\n",
    "for i in range(n):\n",
    "    a=input()\n",
    "    a_set=set(map(int,input().split()))\n",
    "    b=input()\n",
    "    b_set=set(map(int,input().split()))\n",
    "    print(a_set.issubset(b_set))"
   ]
  },
  {
   "cell_type": "code",
   "execution_count": 1,
   "metadata": {},
   "outputs": [
    {
     "name": "stdout",
     "output_type": "stream",
     "text": [
      "5\n",
      "1 2 3 6 5 4 4 2 5 3 6 1 6 5 3 2 4 1 2 5 1 4 3 6 8 4 3 1 5 6 2\n",
      "8\n"
     ]
    }
   ],
   "source": [
    "#Ques-15 Captain's room\n",
    "n=int(input())\n",
    "a_list=list(map(int,input().split()))\n",
    "a_list.sort()\n",
    "for i in range(len(a_list)):\n",
    "    if (i != len(a_list)-1):\n",
    "        if(a_list[i]!=a_list[i-1] and a_list[i]!=a_list[i+1]):\n",
    "            print(a_list[i])\n",
    "            break;\n",
    "    else:\n",
    "        print(a_list[i])"
   ]
  },
  {
   "cell_type": "code",
   "execution_count": 2,
   "metadata": {},
   "outputs": [
    {
     "name": "stdout",
     "output_type": "stream",
     "text": [
      "2\n",
      "kishore 23.5 45 67\n",
      "Ashwin 26.96 24 89\n",
      "kishore\n",
      "45.17\n"
     ]
    }
   ],
   "source": [
    "#Ques-16 Finding the percentage\n",
    "n = int(input())\n",
    "student_marks = {}\n",
    "for i in range(n):\n",
    "    name, *line = input().split()\n",
    "    scores = list(map(float, line))\n",
    "    scores = sum(scores)/3\n",
    "    student_marks[name] = scores\n",
    "query_name = input()\n",
    "print('%.2f'%student_marks[query_name])"
   ]
  },
  {
   "cell_type": "code",
   "execution_count": 3,
   "metadata": {},
   "outputs": [
    {
     "name": "stdout",
     "output_type": "stream",
     "text": [
      "1 2 3 4 5 6 7 8 9 10 11 12 23 45 84 78\n",
      "2\n",
      "1 2 3 4 5\n",
      "100 11 10\n",
      "False\n"
     ]
    }
   ],
   "source": [
    "#Ques-17 Check strict superset\n",
    "a_set=set(map(int,input().split()))\n",
    "n=int(input()) \n",
    "for i in range(n):\n",
    "    c_set=set(map(int,input().split()))\n",
    "print(c_set.issuperset(a_set))"
   ]
  },
  {
   "cell_type": "code",
   "execution_count": 8,
   "metadata": {},
   "outputs": [
    {
     "name": "stdout",
     "output_type": "stream",
     "text": [
      "5\n",
      "Harry\n",
      "37.21\n",
      "Berry\n",
      "37.21\n",
      "Asha\n",
      "37.2\n",
      "saila\n",
      "40.25\n",
      "Asarf\n",
      "39.89\n",
      "Berry\n",
      "Harry\n"
     ]
    }
   ],
   "source": [
    "#Ques-18 Nested lists\n",
    "n=int(input())\n",
    "d=[]\n",
    "k=[]\n",
    "for i in range(n):\n",
    "    name = input()\n",
    "    score = float(input())\n",
    "    stud = [name,score]\n",
    "    d.append(stud)\n",
    "    k.append(score)\n",
    "d.sort()\n",
    "second_lowest = sorted(set(k))[1]\n",
    "for i,j in d:\n",
    "    if j == second_lowest:\n",
    "        print(i)"
   ]
  },
  {
   "cell_type": "code",
   "execution_count": 9,
   "metadata": {},
   "outputs": [
    {
     "name": "stdout",
     "output_type": "stream",
     "text": [
      "3 2\n",
      "1 5 3\n",
      "5 3\n",
      "5 6\n",
      "1\n"
     ]
    }
   ],
   "source": [
    "#Ques-19 No idea\n",
    "a=input().split()\n",
    "a_list=list(map(int,input().strip().split()))\n",
    "a_set=set(map(int,input().strip().split()))\n",
    "b_set=set(map(int,input().strip().split()))\n",
    "happiness=0\n",
    "for i in a_list:\n",
    "    if i in a_set:\n",
    "        happiness+=1\n",
    "    if i in b_set:\n",
    "        happiness-=1\n",
    "print(happiness)"
   ]
  }
 ],
 "metadata": {
  "kernelspec": {
   "display_name": "Python 3",
   "language": "python",
   "name": "python3"
  },
  "language_info": {
   "codemirror_mode": {
    "name": "ipython",
    "version": 3
   },
   "file_extension": ".py",
   "mimetype": "text/x-python",
   "name": "python",
   "nbconvert_exporter": "python",
   "pygments_lexer": "ipython3",
   "version": "3.8.3"
  }
 },
 "nbformat": 4,
 "nbformat_minor": 4
}
