{
 "cells": [
  {
   "cell_type": "code",
   "execution_count": 1,
   "metadata": {},
   "outputs": [
    {
     "name": "stdout",
     "output_type": "stream",
     "text": [
      "Hello, World!\n"
     ]
    }
   ],
   "source": [
    "#Ques-1 Printing Hello world \n",
    "print(\"Hello, World!\")"
   ]
  },
  {
   "cell_type": "code",
   "execution_count": 3,
   "metadata": {},
   "outputs": [
    {
     "name": "stdout",
     "output_type": "stream",
     "text": [
      "Hello, World\n"
     ]
    }
   ],
   "source": [
    "my_ty=\"Hello, World\"\n",
    "print(my_ty)"
   ]
  },
  {
   "cell_type": "code",
   "execution_count": 4,
   "metadata": {},
   "outputs": [
    {
     "name": "stdout",
     "output_type": "stream",
     "text": [
      "23\n",
      "Weird\n"
     ]
    }
   ],
   "source": [
    "#Ques-2 Finding odd or even to print weird and not weird statements\n",
    "n = int(input())\n",
    "if (n%2==0 and 2<n<=5):\n",
    "    print(\"Not Weird\")\n",
    "elif (n%2==0 and 6<n<=20):\n",
    "    print(\"Weird\")\n",
    "elif (n%2==0 and n>20):\n",
    "    print(\"Not Weird\")\n",
    "else:\n",
    "    print(\"Weird\")"
   ]
  },
  {
   "cell_type": "code",
   "execution_count": 5,
   "metadata": {},
   "outputs": [
    {
     "name": "stdout",
     "output_type": "stream",
     "text": [
      "4\n",
      "5\n",
      "9\n",
      "-1\n",
      "20\n"
     ]
    }
   ],
   "source": [
    "#Ques-3 Finding sum,difference and multiplication of two numbers\n",
    "a = int(input())\n",
    "b = int(input())\n",
    "print(a+b)\n",
    "print(a-b)\n",
    "print(a*b)"
   ]
  },
  {
   "cell_type": "code",
   "execution_count": 7,
   "metadata": {},
   "outputs": [
    {
     "name": "stdout",
     "output_type": "stream",
     "text": [
      "10\n",
      "9\n",
      "1\n",
      "1.1111111111111112\n"
     ]
    }
   ],
   "source": [
    "#Ques-4 Division and floor division of two numbers\n",
    "a = int(input())\n",
    "b = int(input())\n",
    "print(a//b)\n",
    "print(a/b)"
   ]
  },
  {
   "cell_type": "code",
   "execution_count": 10,
   "metadata": {},
   "outputs": [
    {
     "name": "stdout",
     "output_type": "stream",
     "text": [
      "5\n",
      "0\n",
      "1\n",
      "4\n",
      "9\n",
      "16\n"
     ]
    }
   ],
   "source": [
    "#Ques-5 Using of loop statements\n",
    "n = int(input())\n",
    "for i in range(0,n):\n",
    "    c=i*i\n",
    "    print(c)"
   ]
  },
  {
   "cell_type": "code",
   "execution_count": 11,
   "metadata": {},
   "outputs": [
    {
     "name": "stdout",
     "output_type": "stream",
     "text": [
      "Enter the leap year2004\n",
      "True\n"
     ]
    }
   ],
   "source": [
    "#Ques-6 Finding Leap year\n",
    "def is_leap(year):\n",
    "    leap = False\n",
    "    if (year%4==0):\n",
    "        if(year%100==0):\n",
    "            if(year%400==0):\n",
    "                leap=True\n",
    "            else:\n",
    "                leap=False\n",
    "        else:\n",
    "            leap=True\n",
    "    else:\n",
    "         leap=False   \n",
    "                \n",
    "    return leap\n",
    "\n",
    "year = int(input(\"Enter the leap year\"))\n",
    "print(is_leap(year))"
   ]
  },
  {
   "cell_type": "code",
   "execution_count": 12,
   "metadata": {},
   "outputs": [
    {
     "name": "stdout",
     "output_type": "stream",
     "text": [
      "5\n",
      "12345"
     ]
    }
   ],
   "source": [
    "#Ques-7 Print Function\n",
    "def loop(n):\n",
    "    for i in range(1,n+1):\n",
    "        print(i,end=\"\")\n",
    "n = int(input())\n",
    "loop(n)"
   ]
  }
 ],
 "metadata": {
  "kernelspec": {
   "display_name": "Python 3",
   "language": "python",
   "name": "python3"
  },
  "language_info": {
   "codemirror_mode": {
    "name": "ipython",
    "version": 3
   },
   "file_extension": ".py",
   "mimetype": "text/x-python",
   "name": "python",
   "nbconvert_exporter": "python",
   "pygments_lexer": "ipython3",
   "version": "3.8.3"
  }
 },
 "nbformat": 4,
 "nbformat_minor": 4
}
