{
 "cells": [
  {
   "cell_type": "code",
   "execution_count": 1,
   "metadata": {},
   "outputs": [
    {
     "name": "stdout",
     "output_type": "stream",
     "text": [
      "1 2 3 4 5 -8 -9\n",
      "[-9. -8.  5.  4.  3.  2.  1.]\n"
     ]
    }
   ],
   "source": [
    "#Ques-1 Arrays using numpy\n",
    "import numpy\n",
    "def arrays(arr):\n",
    "    c = numpy.array(arr[::-1],float)\n",
    "    return c\n",
    "arr = input().strip().split(' ')\n",
    "result = arrays(arr)\n",
    "print(result)"
   ]
  },
  {
   "cell_type": "code",
   "execution_count": 2,
   "metadata": {},
   "outputs": [
    {
     "name": "stdout",
     "output_type": "stream",
     "text": [
      "1 2 3 4 5 6 7 8 9\n",
      "[[1 2 3]\n",
      " [4 5 6]\n",
      " [7 8 9]]\n"
     ]
    }
   ],
   "source": [
    "#Ques-2 Shape and reshape\n",
    "import numpy as np\n",
    "a = input().split()\n",
    "b = np.array(a,int)\n",
    "c = b.reshape(3,3)\n",
    "print(c)"
   ]
  },
  {
   "cell_type": "code",
   "execution_count": 3,
   "metadata": {},
   "outputs": [
    {
     "name": "stdout",
     "output_type": "stream",
     "text": [
      "2 2\n",
      "2 3\n",
      "5 6\n",
      "[[2 5]\n",
      " [3 6]]\n",
      "[2 3 5 6]\n"
     ]
    }
   ],
   "source": [
    "#Ques-3 Transpose and flatten\n",
    "import numpy\n",
    "a,b = map(int,input().split())\n",
    "c = numpy.array([input().split() for i in range(a)],int)\n",
    "print(c.transpose())\n",
    "print(c.flatten())"
   ]
  },
  {
   "cell_type": "code",
   "execution_count": 12,
   "metadata": {},
   "outputs": [
    {
     "name": "stdout",
     "output_type": "stream",
     "text": [
      "3 3 3\n",
      "[[[0 0 0]\n",
      "  [0 0 0]\n",
      "  [0 0 0]]\n",
      "\n",
      " [[0 0 0]\n",
      "  [0 0 0]\n",
      "  [0 0 0]]\n",
      "\n",
      " [[0 0 0]\n",
      "  [0 0 0]\n",
      "  [0 0 0]]]\n",
      "[[[1 1 1]\n",
      "  [1 1 1]\n",
      "  [1 1 1]]\n",
      "\n",
      " [[1 1 1]\n",
      "  [1 1 1]\n",
      "  [1 1 1]]\n",
      "\n",
      " [[1 1 1]\n",
      "  [1 1 1]\n",
      "  [1 1 1]]]\n"
     ]
    }
   ],
   "source": [
    "#Ques-4 Zeros and ones\n",
    "import numpy as np\n",
    "a = list(map(int,input().split()))\n",
    "print(np.zeros(a,dtype=np.int))\n",
    "print(np.ones(a,dtype=np.int))"
   ]
  },
  {
   "cell_type": "code",
   "execution_count": 13,
   "metadata": {},
   "outputs": [
    {
     "name": "stdout",
     "output_type": "stream",
     "text": [
      "4 3 2\n",
      "1 2\n",
      "1 2\n",
      "1 2\n",
      "1 2\n",
      "3 4\n",
      "3 4\n",
      "3 4\n",
      "[[1 2]\n",
      " [1 2]\n",
      " [1 2]\n",
      " [1 2]\n",
      " [3 4]\n",
      " [3 4]\n",
      " [3 4]]\n"
     ]
    }
   ],
   "source": [
    "#Ques-5 Concatenate\n",
    "import numpy as np\n",
    "a,b,c = map(int,input().split())\n",
    "d = np.array([input().split() for i in range(a)],int)\n",
    "e = np.array([input().split() for i in range(b)],int)\n",
    "print(np.concatenate((d,e),axis=0))"
   ]
  },
  {
   "cell_type": "code",
   "execution_count": 17,
   "metadata": {},
   "outputs": [
    {
     "name": "stdout",
     "output_type": "stream",
     "text": [
      "3 3\n",
      "[[ 1.  0.  0.]\n",
      " [ 0.  1.  0.]\n",
      " [ 0.  0.  1.]]\n"
     ]
    }
   ],
   "source": [
    "#Ques-6 Eye and Identity\n",
    "import numpy as np\n",
    "n,m=map(int,input().split())\n",
    "np.set_printoptions(legacy='1.13')\n",
    "print(np.eye(n,m))"
   ]
  },
  {
   "cell_type": "code",
   "execution_count": 18,
   "metadata": {},
   "outputs": [
    {
     "name": "stdout",
     "output_type": "stream",
     "text": [
      "1 4 \n",
      "1 2 3 4\n",
      "5 6 7 8\n",
      "[[ 6  8 10 12]]\n",
      "[[-4 -4 -4 -4]]\n",
      "[[ 5 12 21 32]]\n",
      "[[0 0 0 0]]\n",
      "[[1 2 3 4]]\n",
      "[[    1    64  2187 65536]]\n"
     ]
    }
   ],
   "source": [
    "#Ques-7 Array Mathematics\n",
    "import numpy as np\n",
    "a,b = map(int,input().split())\n",
    "c = np.array([input().split() for i in range(a)],int)\n",
    "d = np.array([input().split() for i in range(a)],int)\n",
    "print(np.add(c,d))\n",
    "print(np.subtract(c,d))\n",
    "print(np.multiply(c,d))\n",
    "print(np.floor_divide(c,d))\n",
    "print(np.mod(c,d))\n",
    "print(np.power(c,d))"
   ]
  },
  {
   "cell_type": "code",
   "execution_count": 19,
   "metadata": {},
   "outputs": [
    {
     "name": "stdout",
     "output_type": "stream",
     "text": [
      "1.1 2.2 3.3 4.4 5.5 6.6 7.7 8.8 9.9\n",
      "[ 1.  2.  3.  4.  5.  6.  7.  8.  9.]\n",
      "[  2.   3.   4.   5.   6.   7.   8.   9.  10.]\n",
      "[  1.   2.   3.   4.   6.   7.   8.   9.  10.]\n"
     ]
    }
   ],
   "source": [
    "#Ques-8 Floor,Ceil and Rint\n",
    "import numpy as np\n",
    "n = input().split()\n",
    "a = np.array(n,float)\n",
    "np.set_printoptions(legacy='1.13')\n",
    "print(np.floor(a))\n",
    "print(np.ceil(a))\n",
    "print(np.rint(a))"
   ]
  },
  {
   "cell_type": "code",
   "execution_count": 20,
   "metadata": {},
   "outputs": [
    {
     "name": "stdout",
     "output_type": "stream",
     "text": [
      "2 2 \n",
      "1 2 \n",
      "3 4\n",
      "24\n"
     ]
    }
   ],
   "source": [
    "#Ques-9 Sum and Product\n",
    "import numpy as np\n",
    "a,b = map(int,input().split())\n",
    "my_arr = np.array([input().split() for i in range(a)],int)\n",
    "d = np.sum(my_arr,axis=0)\n",
    "print(np.prod(d))"
   ]
  },
  {
   "cell_type": "code",
   "execution_count": 22,
   "metadata": {},
   "outputs": [
    {
     "name": "stdout",
     "output_type": "stream",
     "text": [
      "4 3\n",
      "2 5 \n",
      "8 6\n",
      "9 3\n",
      "1 7\n",
      "6\n"
     ]
    }
   ],
   "source": [
    "#Ques-10 Minimum and Maximum\n",
    "import numpy as np\n",
    "a,d = map(int,input().split())\n",
    "b = np.array([input().split() for i in range(a)],int)\n",
    "c = np.min(b,axis=1)\n",
    "print(np.max(c))"
   ]
  },
  {
   "cell_type": "code",
   "execution_count": 23,
   "metadata": {},
   "outputs": [
    {
     "name": "stdout",
     "output_type": "stream",
     "text": [
      "2 2\n",
      "1 2\n",
      "3 4\n",
      "[ 1.5  3.5]\n",
      "[ 1.  1.]\n",
      "1.11803398875\n"
     ]
    }
   ],
   "source": [
    "#Ques-11 Mean,Variance and Standard variance\n",
    "import numpy as np\n",
    "a,b = map(int,input().split())\n",
    "c = np.array([input().split() for i in range(a)],int)\n",
    "print(np.mean(c,axis=1))\n",
    "print(np.var(c,axis=0))\n",
    "print(np.std(c,axis=None))"
   ]
  },
  {
   "cell_type": "code",
   "execution_count": 25,
   "metadata": {},
   "outputs": [
    {
     "name": "stdout",
     "output_type": "stream",
     "text": [
      "2\n",
      "1 2\n",
      "3 4\n",
      "1 2\n",
      "3 4\n",
      "[[ 7 10]\n",
      " [15 22]]\n"
     ]
    }
   ],
   "source": [
    "#Ques-12 Dot and Cross\n",
    "import numpy as np\n",
    "a = int(input())\n",
    "b = np.array([input().split() for i in range(a)],int)\n",
    "c = np.array([input().split() for i in range(a)],int)\n",
    "print(np.dot(b,c))"
   ]
  },
  {
   "cell_type": "code",
   "execution_count": 26,
   "metadata": {},
   "outputs": [
    {
     "name": "stdout",
     "output_type": "stream",
     "text": [
      "0 1\n",
      "3 5\n",
      "5\n",
      "[[0 0]\n",
      " [3 5]]\n"
     ]
    }
   ],
   "source": [
    "#Ques-13 Inner and Outer\n",
    "import numpy as np\n",
    "a = list(map(int,input().split()))\n",
    "b = list(map(int,input().split()))\n",
    "print(np.inner(a,b))\n",
    "print(np.outer(a,b))"
   ]
  },
  {
   "cell_type": "code",
   "execution_count": 27,
   "metadata": {},
   "outputs": [
    {
     "name": "stdout",
     "output_type": "stream",
     "text": [
      "1.1 2 3\n",
      "0\n",
      "3.0\n"
     ]
    }
   ],
   "source": [
    "#Ques-14 Polynomials\n",
    "import numpy as np\n",
    "a = list(map(float,input().split()))\n",
    "b = int(input())\n",
    "print(np.polyval(a,b))"
   ]
  },
  {
   "cell_type": "code",
   "execution_count": 28,
   "metadata": {},
   "outputs": [
    {
     "name": "stdout",
     "output_type": "stream",
     "text": [
      "2\n",
      "1.1 1.1\n",
      "1.1 1.1\n",
      "0.0\n"
     ]
    }
   ],
   "source": [
    "#Ques-15 Linear algebra\n",
    "import numpy as np\n",
    "a = int(input())\n",
    "b = np.array([input().split() for i in range(a)],float)\n",
    "print(np.linalg.det(b))"
   ]
  },
  {
   "cell_type": "code",
   "execution_count": null,
   "metadata": {},
   "outputs": [],
   "source": []
  }
 ],
 "metadata": {
  "kernelspec": {
   "display_name": "Python 3",
   "language": "python",
   "name": "python3"
  },
  "language_info": {
   "codemirror_mode": {
    "name": "ipython",
    "version": 3
   },
   "file_extension": ".py",
   "mimetype": "text/x-python",
   "name": "python",
   "nbconvert_exporter": "python",
   "pygments_lexer": "ipython3",
   "version": "3.8.3"
  }
 },
 "nbformat": 4,
 "nbformat_minor": 4
}
