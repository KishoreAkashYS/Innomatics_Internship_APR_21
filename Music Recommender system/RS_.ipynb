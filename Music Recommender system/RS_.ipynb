{
  "nbformat": 4,
  "nbformat_minor": 0,
  "metadata": {
    "colab": {
      "name": "RS_.ipynb",
      "provenance": [],
      "collapsed_sections": []
    },
    "kernelspec": {
      "display_name": "Python 3",
      "name": "python3"
    }
  },
  "cells": [
    {
      "cell_type": "markdown",
      "metadata": {
        "id": "kM7Ka4mA-rsl"
      },
      "source": [
        ""
      ]
    },
    {
      "cell_type": "markdown",
      "metadata": {
        "id": "cK6_Dbph3khQ"
      },
      "source": [
        "**Import Important Packages**"
      ]
    },
    {
      "cell_type": "code",
      "metadata": {
        "id": "9ao-oIzPF6xm"
      },
      "source": [
        "from datetime import datetime\n",
        "import pandas as pd\n",
        "import numpy as np\n",
        "import seaborn as sns\n",
        "import os\n",
        "import random\n",
        "import matplotlib\n",
        "import matplotlib.pyplot as plt\n",
        "from scipy import sparse\n",
        "from sklearn.metrics.pairwise import cosine_similarity\n",
        "from sklearn.metrics import mean_squared_error\n",
        "import xgboost as xgb"
      ],
      "execution_count": null,
      "outputs": []
    },
    {
      "cell_type": "code",
      "metadata": {
        "id": "JLpYwOOBO841"
      },
      "source": [
        "# data = pd.read_csv('kaggle_visible_evaluation_triplets.txt', sep=\"\\t\", header=None)\n",
        "# data.columns = [\"user_id\", \"song_id\",\"frequency\"]\n",
        "# from sklearn import preprocessing\n",
        "# le = preprocessing.LabelEncoder()\n",
        "# data['user_id'] = le.fit_transform(data['user_id'])\n",
        "# data['song_id'] = le.fit_transform(data['song_id'])\n",
        "# data.to_csv('encdata.csv',index=False)"
      ],
      "execution_count": null,
      "outputs": []
    },
    {
      "cell_type": "code",
      "metadata": {
        "colab": {
          "base_uri": "https://localhost:8080/",
          "height": 419
        },
        "id": "27luTTUCRnfs",
        "outputId": "eb4a04de-2791-4714-c78d-1a0b6760a7fd"
      },
      "source": [
        "data = pd.read_csv('encdata.csv')\n",
        "\n",
        "data"
      ],
      "execution_count": null,
      "outputs": [
        {
          "output_type": "execute_result",
          "data": {
            "text/html": [
              "<div>\n",
              "<style scoped>\n",
              "    .dataframe tbody tr th:only-of-type {\n",
              "        vertical-align: middle;\n",
              "    }\n",
              "\n",
              "    .dataframe tbody tr th {\n",
              "        vertical-align: top;\n",
              "    }\n",
              "\n",
              "    .dataframe thead th {\n",
              "        text-align: right;\n",
              "    }\n",
              "</style>\n",
              "<table border=\"1\" class=\"dataframe\">\n",
              "  <thead>\n",
              "    <tr style=\"text-align: right;\">\n",
              "      <th></th>\n",
              "      <th>user_id</th>\n",
              "      <th>song_id</th>\n",
              "      <th>frequency</th>\n",
              "    </tr>\n",
              "  </thead>\n",
              "  <tbody>\n",
              "    <tr>\n",
              "      <th>0</th>\n",
              "      <td>108811</td>\n",
              "      <td>10546</td>\n",
              "      <td>1</td>\n",
              "    </tr>\n",
              "    <tr>\n",
              "      <th>1</th>\n",
              "      <td>108811</td>\n",
              "      <td>28684</td>\n",
              "      <td>1</td>\n",
              "    </tr>\n",
              "    <tr>\n",
              "      <th>2</th>\n",
              "      <td>108811</td>\n",
              "      <td>36622</td>\n",
              "      <td>1</td>\n",
              "    </tr>\n",
              "    <tr>\n",
              "      <th>3</th>\n",
              "      <td>108811</td>\n",
              "      <td>51861</td>\n",
              "      <td>1</td>\n",
              "    </tr>\n",
              "    <tr>\n",
              "      <th>4</th>\n",
              "      <td>108811</td>\n",
              "      <td>24663</td>\n",
              "      <td>1</td>\n",
              "    </tr>\n",
              "    <tr>\n",
              "      <th>...</th>\n",
              "      <td>...</td>\n",
              "      <td>...</td>\n",
              "      <td>...</td>\n",
              "    </tr>\n",
              "    <tr>\n",
              "      <th>1450928</th>\n",
              "      <td>40490</td>\n",
              "      <td>136574</td>\n",
              "      <td>1</td>\n",
              "    </tr>\n",
              "    <tr>\n",
              "      <th>1450929</th>\n",
              "      <td>40490</td>\n",
              "      <td>134757</td>\n",
              "      <td>2</td>\n",
              "    </tr>\n",
              "    <tr>\n",
              "      <th>1450930</th>\n",
              "      <td>40490</td>\n",
              "      <td>11310</td>\n",
              "      <td>2</td>\n",
              "    </tr>\n",
              "    <tr>\n",
              "      <th>1450931</th>\n",
              "      <td>40490</td>\n",
              "      <td>80823</td>\n",
              "      <td>2</td>\n",
              "    </tr>\n",
              "    <tr>\n",
              "      <th>1450932</th>\n",
              "      <td>40490</td>\n",
              "      <td>122750</td>\n",
              "      <td>3</td>\n",
              "    </tr>\n",
              "  </tbody>\n",
              "</table>\n",
              "<p>1450933 rows × 3 columns</p>\n",
              "</div>"
            ],
            "text/plain": [
              "         user_id  song_id  frequency\n",
              "0         108811    10546          1\n",
              "1         108811    28684          1\n",
              "2         108811    36622          1\n",
              "3         108811    51861          1\n",
              "4         108811    24663          1\n",
              "...          ...      ...        ...\n",
              "1450928    40490   136574          1\n",
              "1450929    40490   134757          2\n",
              "1450930    40490    11310          2\n",
              "1450931    40490    80823          2\n",
              "1450932    40490   122750          3\n",
              "\n",
              "[1450933 rows x 3 columns]"
            ]
          },
          "metadata": {
            "tags": []
          },
          "execution_count": 32
        }
      ]
    },
    {
      "cell_type": "markdown",
      "metadata": {
        "id": "1oDcsYt6DyOA"
      },
      "source": [
        "**Check for the duplicate records**"
      ]
    },
    {
      "cell_type": "code",
      "metadata": {
        "colab": {
          "base_uri": "https://localhost:8080/"
        },
        "id": "O23LzECqSAyO",
        "outputId": "4e24f81a-1440-4cae-b17f-765a56722abe"
      },
      "source": [
        "data.duplicated([\"song_id\",\"user_id\", \"frequency\"]).sum()"
      ],
      "execution_count": null,
      "outputs": [
        {
          "output_type": "execute_result",
          "data": {
            "text/plain": [
              "0"
            ]
          },
          "metadata": {
            "tags": []
          },
          "execution_count": 33
        }
      ]
    },
    {
      "cell_type": "markdown",
      "metadata": {
        "id": "2ndyAVzTD7wc"
      },
      "source": [
        "# Split Data into Train and Test Data\n",
        "\n",
        "*   train_data = 80%\n",
        "*   test_data = 20%\n"
      ]
    },
    {
      "cell_type": "code",
      "metadata": {
        "id": "OrOLJKSuSLE-",
        "colab": {
          "base_uri": "https://localhost:8080/"
        },
        "outputId": "97021743-7bdd-4eba-bf42-00fcf09c3164"
      },
      "source": [
        "n = len(data)\n",
        "print(n)\n",
        "train_data = data[:int(0.8*n)]\n",
        "test_data = data[int(0.8*n):]\n",
        "train_data.shape,test_data.shape"
      ],
      "execution_count": null,
      "outputs": [
        {
          "output_type": "stream",
          "text": [
            "1450933\n"
          ],
          "name": "stdout"
        },
        {
          "output_type": "execute_result",
          "data": {
            "text/plain": [
              "((1160746, 3), (290187, 3))"
            ]
          },
          "metadata": {
            "tags": []
          },
          "execution_count": 34
        }
      ]
    },
    {
      "cell_type": "markdown",
      "metadata": {
        "id": "nBWlf_V9EfBv"
      },
      "source": [
        "# Create User-Item Sparse Matrix\n",
        "\n",
        "In User-Item sparse matrix, songs' values are present in the column and users' values are present in the rows. The frequency of the user is present in the cell."
      ]
    },
    {
      "cell_type": "code",
      "metadata": {
        "id": "_DMyK4KmSSTS"
      },
      "source": [
        "def get_user_item_sparse_matrix(df):\n",
        "    sparse_data = sparse.csr_matrix((df.frequency, (df.user_id, df.song_id)))\n",
        "    return sparse_data"
      ],
      "execution_count": null,
      "outputs": []
    },
    {
      "cell_type": "markdown",
      "metadata": {
        "id": "54DgUZrHE3xn"
      },
      "source": [
        "**Create Sparse Matrix from the Training Dataset**"
      ]
    },
    {
      "cell_type": "code",
      "metadata": {
        "id": "RnmzV2OaSUpp"
      },
      "source": [
        "train_sparse_data = get_user_item_sparse_matrix(train_data)"
      ],
      "execution_count": null,
      "outputs": []
    },
    {
      "cell_type": "markdown",
      "metadata": {
        "id": "_JFyIdV6E_s4"
      },
      "source": [
        "**Create Sparse Matrix from the Test Dataset**"
      ]
    },
    {
      "cell_type": "code",
      "metadata": {
        "id": "4WGZanOgSWZR"
      },
      "source": [
        "test_sparse_data = get_user_item_sparse_matrix(test_data)"
      ],
      "execution_count": null,
      "outputs": []
    },
    {
      "cell_type": "markdown",
      "metadata": {
        "id": "75gGi5wUFGc4"
      },
      "source": [
        "**Find Average Gloabal Rating of song**"
      ]
    },
    {
      "cell_type": "code",
      "metadata": {
        "colab": {
          "base_uri": "https://localhost:8080/"
        },
        "id": "nhiOxKNYSYtp",
        "outputId": "e468b601-04c7-4a2a-fba0-738d8ec69a5a"
      },
      "source": [
        "global_average_rating = train_sparse_data.sum()/train_sparse_data.count_nonzero()\n",
        "print(\"Global Average Rating: {}\".format(global_average_rating))"
      ],
      "execution_count": null,
      "outputs": [
        {
          "output_type": "stream",
          "text": [
            "Global Average Rating: 3.1815435935165834\n"
          ],
          "name": "stdout"
        }
      ]
    },
    {
      "cell_type": "markdown",
      "metadata": {
        "id": "-NTxzsxFFPcl"
      },
      "source": [
        "**A Generic Method to Calculate Average Rating from Sparse Matrix**"
      ]
    },
    {
      "cell_type": "code",
      "metadata": {
        "id": "mimrlGSYSbGR"
      },
      "source": [
        "def get_average_rating(sparse_matrix, is_user):\n",
        "    ax = 1 if is_user else 0\n",
        "    sum_of_ratings = sparse_matrix.sum(axis = ax).A1  \n",
        "    no_of_ratings = (sparse_matrix != 0).sum(axis = ax).A1 \n",
        "    rows, cols = sparse_matrix.shape\n",
        "    average_ratings = {i: sum_of_ratings[i]/no_of_ratings[i] for i in range(rows if is_user else cols) if no_of_ratings[i] != 0}\n",
        "    return average_ratings"
      ],
      "execution_count": null,
      "outputs": []
    },
    {
      "cell_type": "markdown",
      "metadata": {
        "id": "WqPE4zhRFbfU"
      },
      "source": [
        "**Calculate Average User Rating**"
      ]
    },
    {
      "cell_type": "code",
      "metadata": {
        "id": "zfeM7W2sSduc"
      },
      "source": [
        "average_rating_user = get_average_rating(train_sparse_data, True)\n",
        "t = get_average_rating(test_sparse_data, True) \n"
      ],
      "execution_count": null,
      "outputs": []
    },
    {
      "cell_type": "markdown",
      "metadata": {
        "id": "jFHKBmyrFjx-"
      },
      "source": [
        "**Calcualte Average song Rating**"
      ]
    },
    {
      "cell_type": "code",
      "metadata": {
        "id": "BQsCkuriSgD8"
      },
      "source": [
        "avg_rating_song = get_average_rating(train_sparse_data, False)\n",
        "tm = get_average_rating(test_sparse_data, False)"
      ],
      "execution_count": null,
      "outputs": []
    },
    {
      "cell_type": "code",
      "metadata": {
        "colab": {
          "base_uri": "https://localhost:8080/"
        },
        "id": "0Nfql3ysODrH",
        "outputId": "52e8a19d-ee0a-4301-bda9-14093e4a15e4"
      },
      "source": [
        "len(t),len(tm)"
      ],
      "execution_count": null,
      "outputs": [
        {
          "output_type": "execute_result",
          "data": {
            "text/plain": [
              "(22183, 77283)"
            ]
          },
          "metadata": {
            "tags": []
          },
          "execution_count": 42
        }
      ]
    },
    {
      "cell_type": "markdown",
      "metadata": {
        "id": "Zm0VBk31Fhnd"
      },
      "source": [
        "# Check Cold Start Problem for Users"
      ]
    },
    {
      "cell_type": "code",
      "metadata": {
        "colab": {
          "base_uri": "https://localhost:8080/"
        },
        "id": "au4X5qJ7SinU",
        "outputId": "61a360ec-b4d5-4a64-c300-29657bc634b4"
      },
      "source": [
        "total_users = len(np.unique(data[\"user_id\"]))\n",
        "train_users = len(average_rating_user)\n",
        "uncommonUsers = total_users - train_users\n",
        "                  \n",
        "print(\"Total no. of Users = {}\".format(total_users))\n",
        "print(\"No. of Users in train data = {}\".format(train_users))\n",
        "print(\"No. of Users not present in train data = {}({}%)\".format(uncommonUsers, np.round((uncommonUsers/total_users)*100), 2))"
      ],
      "execution_count": null,
      "outputs": [
        {
          "output_type": "stream",
          "text": [
            "Total no. of Users = 110000\n",
            "No. of Users in train data = 87818\n",
            "No. of Users not present in train data = 22182(20.0%)\n"
          ],
          "name": "stdout"
        }
      ]
    },
    {
      "cell_type": "markdown",
      "metadata": {
        "id": "ke_ulL5PF5ms"
      },
      "source": [
        "# Check Cold Start Problem for the songs\n"
      ]
    },
    {
      "cell_type": "code",
      "metadata": {
        "colab": {
          "base_uri": "https://localhost:8080/"
        },
        "id": "wcrMBwNOSkE8",
        "outputId": "69912397-af86-4c75-8053-af0b1c9a5101"
      },
      "source": [
        "total_songs = len(np.unique(data[\"song_id\"]))\n",
        "train_songs = len(avg_rating_song)\n",
        "uncommonsongs = total_songs - train_songs\n",
        "                  \n",
        "print(\"Total no. of songs = {}\".format(total_songs))\n",
        "print(\"No. of songs in train data= {}\".format(train_songs))\n",
        "print(\"No. of songs not present in train data = {}({}%)\".format(uncommonsongs, np.round((uncommonsongs/total_songs)*100), 2))"
      ],
      "execution_count": null,
      "outputs": [
        {
          "output_type": "stream",
          "text": [
            "Total no. of songs = 163206\n",
            "No. of songs in train data= 149088\n",
            "No. of songs not present in train data = 14118(9.0%)\n"
          ],
          "name": "stdout"
        }
      ]
    },
    {
      "cell_type": "markdown",
      "metadata": {
        "id": "s01GoSOAGCZc"
      },
      "source": [
        "# Computation of user similarity to find similarities of top 100 users"
      ]
    },
    {
      "cell_type": "code",
      "metadata": {
        "id": "7fsVMdurSogk"
      },
      "source": [
        "def compute_user_similarity(sparse_matrix, limit=100):\n",
        "    row_index, col_index = sparse_matrix.nonzero()\n",
        "    rows = np.unique(row_index)\n",
        "    similar_arr = np.zeros(8781800).reshape(87818,100)\n",
        "    \n",
        "    for row in rows[:limit]:\n",
        "        sim = cosine_similarity(sparse_matrix.getrow(row), train_sparse_data).ravel()\n",
        "        similar_indices = sim.argsort()[-limit:]\n",
        "        similar = sim[similar_indices]\n",
        "        similar_arr[row] = similar\n",
        "    \n",
        "    return similar_arr"
      ],
      "execution_count": null,
      "outputs": []
    },
    {
      "cell_type": "code",
      "metadata": {
        "id": "Q4RcXfCGSpoz"
      },
      "source": [
        "similar_user_matrix = compute_user_similarity(train_sparse_data, 100)"
      ],
      "execution_count": null,
      "outputs": []
    },
    {
      "cell_type": "code",
      "metadata": {
        "colab": {
          "base_uri": "https://localhost:8080/"
        },
        "id": "ZlE7H2d1SuGM",
        "outputId": "d6217074-9cfa-43ec-ffdc-4df3f8d67912"
      },
      "source": [
        "similar_user_matrix[0]"
      ],
      "execution_count": null,
      "outputs": [
        {
          "output_type": "execute_result",
          "data": {
            "text/plain": [
              "array([0.05811155, 0.05839572, 0.05839572, 0.06019293, 0.06019293,\n",
              "       0.06019293, 0.06082991, 0.06111957, 0.06165532, 0.06286946,\n",
              "       0.0635963 , 0.06384424, 0.06573295, 0.06593805, 0.06593805,\n",
              "       0.06593805, 0.06668313, 0.06747008, 0.06855912, 0.0695048 ,\n",
              "       0.0695048 , 0.0695048 , 0.07125835, 0.07151985, 0.07151985,\n",
              "       0.0725954 , 0.07372098, 0.07372098, 0.07449055, 0.07582342,\n",
              "       0.0761387 , 0.07744031, 0.07800546, 0.07819291, 0.07881104,\n",
              "       0.07881104, 0.07881104, 0.07916525, 0.07949538, 0.08178608,\n",
              "       0.08178608, 0.08178608, 0.08340577, 0.08512565, 0.08512565,\n",
              "       0.08780041, 0.08840993, 0.08840993, 0.08902332, 0.09006451,\n",
              "       0.09028939, 0.09249845, 0.09325048, 0.09362574, 0.09567297,\n",
              "       0.09567297, 0.09822191, 0.09829464, 0.09890707, 0.10147651,\n",
              "       0.10386843, 0.10425721, 0.10425721, 0.10425721, 0.10767638,\n",
              "       0.10767638, 0.10858506, 0.11280667, 0.11548545, 0.11927535,\n",
              "       0.12038585, 0.12038585, 0.12038585, 0.1246112 , 0.13187609,\n",
              "       0.13530202, 0.13689642, 0.13900961, 0.13900961, 0.13900961,\n",
              "       0.13900961, 0.13994571, 0.14116493, 0.14312564, 0.14744196,\n",
              "       0.14744196, 0.15488062, 0.15488062, 0.17025131, 0.17025131,\n",
              "       0.17294999, 0.17782169, 0.18430245, 0.18650096, 0.1933027 ,\n",
              "       0.19658927, 0.199037  , 0.22470177, 0.34698896, 1.        ])"
            ]
          },
          "metadata": {
            "tags": []
          },
          "execution_count": 48
        }
      ]
    },
    {
      "cell_type": "code",
      "metadata": {
        "id": "1DycNKoXS9pz"
      },
      "source": [
        "def get_sample_sparse_matrix(sparse_matrix, no_of_users, no_of_songs):\n",
        "    users, songs, ratings = sparse.find(sparse_matrix)\n",
        "    uniq_users = np.unique(users)\n",
        "    uniq_songs = np.unique(songs)\n",
        "    np.random.seed(15) \n",
        "    user = np.random.choice(uniq_users, no_of_users, replace = False)\n",
        "    song = np.random.choice(uniq_songs, no_of_songs, replace = True)\n",
        "    mask = np.logical_and(np.isin(users, user), np.isin(songs, song))\n",
        "    sparse_matrix = sparse.csr_matrix((ratings[mask], (users[mask], songs[mask])), \n",
        "                                                     shape = (max(user)+1, max(song)+1))\n",
        "    return sparse_matrix"
      ],
      "execution_count": null,
      "outputs": []
    },
    {
      "cell_type": "markdown",
      "metadata": {
        "id": "EuEreN6JG3r3"
      },
      "source": [
        "**Sample Sparse Matrix for the Traning Data**"
      ]
    },
    {
      "cell_type": "code",
      "metadata": {
        "id": "PHPRmO1mS_7s"
      },
      "source": [
        "train_sample_sparse_matrix = get_sample_sparse_matrix(train_sparse_data, 87818,149088)"
      ],
      "execution_count": null,
      "outputs": []
    },
    {
      "cell_type": "markdown",
      "metadata": {
        "id": "8X_cznGeG8C6"
      },
      "source": [
        "**Sample Sparse Matrix for the Test Data**"
      ]
    },
    {
      "cell_type": "code",
      "metadata": {
        "id": "_Gt99SHrTB6D"
      },
      "source": [
        "test_sample_sparse_matrix = get_sample_sparse_matrix(test_sparse_data, 22183, 77283)"
      ],
      "execution_count": null,
      "outputs": []
    },
    {
      "cell_type": "markdown",
      "metadata": {
        "id": "E-allBhSHCp5"
      },
      "source": [
        "# A Generic Method to Generate Similar Featuires.\n",
        "\n",
        "\n",
        "\n",
        "\n",
        "\n",
        "\n",
        "\n",
        "\n",
        "\n",
        "\n"
      ]
    },
    {
      "cell_type": "code",
      "metadata": {
        "id": "pRsQD14S57I6"
      },
      "source": [
        "def create_new_similar_features(sample_sparse_matrix):\n",
        "    global_avg_rating = get_average_rating(sample_sparse_matrix, False)\n",
        "    global_avg_users = get_average_rating(sample_sparse_matrix, True)\n",
        "    global_avg_songs = get_average_rating(sample_sparse_matrix, False)\n",
        "    sample_train_users, sample_train_songs, sample_train_ratings = sparse.find(sample_sparse_matrix)\n",
        " \n",
        "    new_features_csv_file = open(\"new_features.csv\", mode = \"w\")\n",
        "    \n",
        "    for user, song, rating in zip(sample_train_users, sample_train_songs, sample_train_ratings):\n",
        "        similar_arr = list()\n",
        "        similar_arr.append(user)\n",
        "        similar_arr.append(song)\n",
        "        similar_arr.append(sample_sparse_matrix.sum()/sample_sparse_matrix.count_nonzero())\n",
        "#         print(song)\n",
        "        similar_users = cosine_similarity(sample_sparse_matrix[user], sample_sparse_matrix).ravel()\n",
        "#         print(similar_users)\n",
        "        indices = np.argsort(-similar_users)[1:]\n",
        "#         print(indices)\n",
        "        ratings = sample_sparse_matrix[indices, song].toarray().ravel()\n",
        "        # print(ratings)\n",
        "        top_similar_user_ratings = list(ratings[ratings != 0][:5])\n",
        "        # print(top_similar_user_ratings)\n",
        "        top_similar_user_ratings.extend([global_avg_rating[song]] * (5 - len(ratings)))\n",
        "        similar_arr.extend(top_similar_user_ratings)\n",
        "        \n",
        "        similar_songs = cosine_similarity(sample_sparse_matrix[:,song].T, sample_sparse_matrix.T).ravel()\n",
        "        similar_songs_indices = np.argsort(-similar_songs)[1:]\n",
        "        similar_songs_ratings = sample_sparse_matrix[user, similar_songs_indices].toarray().ravel()\n",
        "        top_similar_song_ratings = list(similar_songs_ratings[similar_songs_ratings != 0][:5])\n",
        "        top_similar_song_ratings.extend([global_avg_users[user]] * (5-len(top_similar_song_ratings)))\n",
        "        similar_arr.extend(top_similar_song_ratings)\n",
        "        \n",
        "        similar_arr.append(global_avg_users[user])\n",
        "        similar_arr.append(global_avg_songs[song])\n",
        "        similar_arr.append(rating)\n",
        "        \n",
        "        new_features_csv_file.write(\",\".join(map(str, similar_arr)))\n",
        "        new_features_csv_file.write(\"\\n\")\n",
        "        \n",
        "    new_features_csv_file.close()\n",
        "    new_features_df = pd.read_csv('new_features.csv', )\n",
        "    return new_features_df\n",
        "            "
      ],
      "execution_count": null,
      "outputs": []
    },
    {
      "cell_type": "markdown",
      "metadata": {
        "id": "EWiSFPizHyw1"
      },
      "source": [
        "**Generate Similar Features for the Training Data**"
      ]
    },
    {
      "cell_type": "code",
      "metadata": {
        "id": "Jep3NIENTodX"
      },
      "source": [
        "train_new_similar_features = create_new_similar_features(train_sample_sparse_matrix[:500])"
      ],
      "execution_count": null,
      "outputs": []
    },
    {
      "cell_type": "code",
      "metadata": {
        "colab": {
          "base_uri": "https://localhost:8080/",
          "height": 204
        },
        "id": "QyNqTxtRZmvq",
        "outputId": "810cf053-4123-4e41-f045-7d2ae03eed6b"
      },
      "source": [
        "train_new_similar_features = train_new_similar_features.fillna(0)\n",
        "train_new_similar_features.columns = ['user_id','song_id','global_average','f1','f2','f3','f4','f5','f6','Frequency','f8','f9','f10','f11']\n",
        "train_new_similar_features.tail()"
      ],
      "execution_count": null,
      "outputs": [
        {
          "output_type": "execute_result",
          "data": {
            "text/html": [
              "<div>\n",
              "<style scoped>\n",
              "    .dataframe tbody tr th:only-of-type {\n",
              "        vertical-align: middle;\n",
              "    }\n",
              "\n",
              "    .dataframe tbody tr th {\n",
              "        vertical-align: top;\n",
              "    }\n",
              "\n",
              "    .dataframe thead th {\n",
              "        text-align: right;\n",
              "    }\n",
              "</style>\n",
              "<table border=\"1\" class=\"dataframe\">\n",
              "  <thead>\n",
              "    <tr style=\"text-align: right;\">\n",
              "      <th></th>\n",
              "      <th>user_id</th>\n",
              "      <th>song_id</th>\n",
              "      <th>global_average</th>\n",
              "      <th>f1</th>\n",
              "      <th>f2</th>\n",
              "      <th>f3</th>\n",
              "      <th>f4</th>\n",
              "      <th>f5</th>\n",
              "      <th>f6</th>\n",
              "      <th>Frequency</th>\n",
              "      <th>f8</th>\n",
              "      <th>f9</th>\n",
              "      <th>f10</th>\n",
              "      <th>f11</th>\n",
              "    </tr>\n",
              "  </thead>\n",
              "  <tbody>\n",
              "    <tr>\n",
              "      <th>3398</th>\n",
              "      <td>27</td>\n",
              "      <td>162735</td>\n",
              "      <td>3.085807</td>\n",
              "      <td>1.0</td>\n",
              "      <td>1.0</td>\n",
              "      <td>1.0</td>\n",
              "      <td>1.0</td>\n",
              "      <td>1.0</td>\n",
              "      <td>1.000000</td>\n",
              "      <td>1.0</td>\n",
              "      <td>1.0</td>\n",
              "      <td>0.0</td>\n",
              "      <td>0.0</td>\n",
              "      <td>0.0</td>\n",
              "    </tr>\n",
              "    <tr>\n",
              "      <th>3399</th>\n",
              "      <td>108</td>\n",
              "      <td>162998</td>\n",
              "      <td>3.085807</td>\n",
              "      <td>2.0</td>\n",
              "      <td>10.0</td>\n",
              "      <td>5.0</td>\n",
              "      <td>2.0</td>\n",
              "      <td>8.0</td>\n",
              "      <td>2.933333</td>\n",
              "      <td>10.0</td>\n",
              "      <td>10.0</td>\n",
              "      <td>0.0</td>\n",
              "      <td>0.0</td>\n",
              "      <td>0.0</td>\n",
              "    </tr>\n",
              "    <tr>\n",
              "      <th>3400</th>\n",
              "      <td>128</td>\n",
              "      <td>163025</td>\n",
              "      <td>3.085807</td>\n",
              "      <td>1.0</td>\n",
              "      <td>1.0</td>\n",
              "      <td>1.0</td>\n",
              "      <td>1.0</td>\n",
              "      <td>1.0</td>\n",
              "      <td>1.000000</td>\n",
              "      <td>1.0</td>\n",
              "      <td>1.0</td>\n",
              "      <td>0.0</td>\n",
              "      <td>0.0</td>\n",
              "      <td>0.0</td>\n",
              "    </tr>\n",
              "    <tr>\n",
              "      <th>3401</th>\n",
              "      <td>204</td>\n",
              "      <td>163054</td>\n",
              "      <td>3.085807</td>\n",
              "      <td>15.0</td>\n",
              "      <td>2.0</td>\n",
              "      <td>6.0</td>\n",
              "      <td>6.0</td>\n",
              "      <td>6.0</td>\n",
              "      <td>6.000000</td>\n",
              "      <td>2.0</td>\n",
              "      <td>2.0</td>\n",
              "      <td>0.0</td>\n",
              "      <td>0.0</td>\n",
              "      <td>0.0</td>\n",
              "    </tr>\n",
              "    <tr>\n",
              "      <th>3402</th>\n",
              "      <td>454</td>\n",
              "      <td>163171</td>\n",
              "      <td>3.085807</td>\n",
              "      <td>1.0</td>\n",
              "      <td>1.0</td>\n",
              "      <td>1.0</td>\n",
              "      <td>1.0</td>\n",
              "      <td>1.0</td>\n",
              "      <td>1.000000</td>\n",
              "      <td>1.0</td>\n",
              "      <td>1.0</td>\n",
              "      <td>0.0</td>\n",
              "      <td>0.0</td>\n",
              "      <td>0.0</td>\n",
              "    </tr>\n",
              "  </tbody>\n",
              "</table>\n",
              "</div>"
            ],
            "text/plain": [
              "      user_id  song_id  global_average    f1  ...    f8   f9  f10  f11\n",
              "3398       27   162735        3.085807   1.0  ...   1.0  0.0  0.0  0.0\n",
              "3399      108   162998        3.085807   2.0  ...  10.0  0.0  0.0  0.0\n",
              "3400      128   163025        3.085807   1.0  ...   1.0  0.0  0.0  0.0\n",
              "3401      204   163054        3.085807  15.0  ...   2.0  0.0  0.0  0.0\n",
              "3402      454   163171        3.085807   1.0  ...   1.0  0.0  0.0  0.0\n",
              "\n",
              "[5 rows x 14 columns]"
            ]
          },
          "metadata": {
            "tags": []
          },
          "execution_count": 61
        }
      ]
    },
    {
      "cell_type": "code",
      "metadata": {
        "id": "lCEcUXJXzTky"
      },
      "source": [
        "train_new_similar_features =train_new_similar_features.drop(['f8','f9','f10','f11'],axis=1)"
      ],
      "execution_count": null,
      "outputs": []
    },
    {
      "cell_type": "code",
      "metadata": {
        "colab": {
          "base_uri": "https://localhost:8080/",
          "height": 204
        },
        "id": "uBHgox1_z5iv",
        "outputId": "1be04835-625d-443b-e87b-220ede463b82"
      },
      "source": [
        "train_new_similar_features.head()"
      ],
      "execution_count": null,
      "outputs": [
        {
          "output_type": "execute_result",
          "data": {
            "text/html": [
              "<div>\n",
              "<style scoped>\n",
              "    .dataframe tbody tr th:only-of-type {\n",
              "        vertical-align: middle;\n",
              "    }\n",
              "\n",
              "    .dataframe tbody tr th {\n",
              "        vertical-align: top;\n",
              "    }\n",
              "\n",
              "    .dataframe thead th {\n",
              "        text-align: right;\n",
              "    }\n",
              "</style>\n",
              "<table border=\"1\" class=\"dataframe\">\n",
              "  <thead>\n",
              "    <tr style=\"text-align: right;\">\n",
              "      <th></th>\n",
              "      <th>user_id</th>\n",
              "      <th>song_id</th>\n",
              "      <th>global_average</th>\n",
              "      <th>f1</th>\n",
              "      <th>f2</th>\n",
              "      <th>f3</th>\n",
              "      <th>f4</th>\n",
              "      <th>f5</th>\n",
              "      <th>f6</th>\n",
              "      <th>Frequency</th>\n",
              "    </tr>\n",
              "  </thead>\n",
              "  <tbody>\n",
              "    <tr>\n",
              "      <th>0</th>\n",
              "      <td>262</td>\n",
              "      <td>22</td>\n",
              "      <td>3.085807</td>\n",
              "      <td>5.0</td>\n",
              "      <td>6.0</td>\n",
              "      <td>6.0</td>\n",
              "      <td>1.0</td>\n",
              "      <td>11.0</td>\n",
              "      <td>5.076923</td>\n",
              "      <td>1.0</td>\n",
              "    </tr>\n",
              "    <tr>\n",
              "      <th>1</th>\n",
              "      <td>166</td>\n",
              "      <td>62</td>\n",
              "      <td>3.085807</td>\n",
              "      <td>3.0</td>\n",
              "      <td>1.0</td>\n",
              "      <td>1.0</td>\n",
              "      <td>6.0</td>\n",
              "      <td>2.0</td>\n",
              "      <td>2.230769</td>\n",
              "      <td>2.0</td>\n",
              "    </tr>\n",
              "    <tr>\n",
              "      <th>2</th>\n",
              "      <td>202</td>\n",
              "      <td>206</td>\n",
              "      <td>3.085807</td>\n",
              "      <td>2.0</td>\n",
              "      <td>1.0</td>\n",
              "      <td>2.0</td>\n",
              "      <td>4.0</td>\n",
              "      <td>1.0</td>\n",
              "      <td>2.277778</td>\n",
              "      <td>3.0</td>\n",
              "    </tr>\n",
              "    <tr>\n",
              "      <th>3</th>\n",
              "      <td>22</td>\n",
              "      <td>328</td>\n",
              "      <td>3.085807</td>\n",
              "      <td>8.0</td>\n",
              "      <td>12.0</td>\n",
              "      <td>41.0</td>\n",
              "      <td>1.0</td>\n",
              "      <td>5.0</td>\n",
              "      <td>8.857143</td>\n",
              "      <td>1.0</td>\n",
              "    </tr>\n",
              "    <tr>\n",
              "      <th>4</th>\n",
              "      <td>169</td>\n",
              "      <td>462</td>\n",
              "      <td>3.085807</td>\n",
              "      <td>1.0</td>\n",
              "      <td>1.0</td>\n",
              "      <td>1.0</td>\n",
              "      <td>2.0</td>\n",
              "      <td>1.0</td>\n",
              "      <td>1.142857</td>\n",
              "      <td>1.0</td>\n",
              "    </tr>\n",
              "  </tbody>\n",
              "</table>\n",
              "</div>"
            ],
            "text/plain": [
              "   user_id  song_id  global_average   f1  ...   f4    f5        f6  Frequency\n",
              "0      262       22        3.085807  5.0  ...  1.0  11.0  5.076923        1.0\n",
              "1      166       62        3.085807  3.0  ...  6.0   2.0  2.230769        2.0\n",
              "2      202      206        3.085807  2.0  ...  4.0   1.0  2.277778        3.0\n",
              "3       22      328        3.085807  8.0  ...  1.0   5.0  8.857143        1.0\n",
              "4      169      462        3.085807  1.0  ...  2.0   1.0  1.142857        1.0\n",
              "\n",
              "[5 rows x 10 columns]"
            ]
          },
          "metadata": {
            "tags": []
          },
          "execution_count": 63
        }
      ]
    },
    {
      "cell_type": "markdown",
      "metadata": {
        "id": "zkwKfA2LH44x"
      },
      "source": [
        "**Generate Similar Features for the Test Data**"
      ]
    },
    {
      "cell_type": "code",
      "metadata": {
        "id": "K5gnOE9PTkUn"
      },
      "source": [
        "test_new_similar_features = create_new_similar_features(test_sample_sparse_matrix[:100])"
      ],
      "execution_count": null,
      "outputs": []
    },
    {
      "cell_type": "code",
      "metadata": {
        "id": "1sYyT2F81lxa",
        "colab": {
          "base_uri": "https://localhost:8080/",
          "height": 204
        },
        "outputId": "f558154f-b8fa-4e8e-cb4f-7b9e72ff740d"
      },
      "source": [
        "test_new_similar_features = test_new_similar_features.fillna(0)\n",
        "test_new_similar_features.columns = ['user_id','song_id','global_average','f1','f2','f3','f4','f5','f6','Frequency','f8','f9','f10','f11']\n",
        "test_new_similar_features.tail()"
      ],
      "execution_count": null,
      "outputs": [
        {
          "output_type": "execute_result",
          "data": {
            "text/html": [
              "<div>\n",
              "<style scoped>\n",
              "    .dataframe tbody tr th:only-of-type {\n",
              "        vertical-align: middle;\n",
              "    }\n",
              "\n",
              "    .dataframe tbody tr th {\n",
              "        vertical-align: top;\n",
              "    }\n",
              "\n",
              "    .dataframe thead th {\n",
              "        text-align: right;\n",
              "    }\n",
              "</style>\n",
              "<table border=\"1\" class=\"dataframe\">\n",
              "  <thead>\n",
              "    <tr style=\"text-align: right;\">\n",
              "      <th></th>\n",
              "      <th>user_id</th>\n",
              "      <th>song_id</th>\n",
              "      <th>global_average</th>\n",
              "      <th>f1</th>\n",
              "      <th>f2</th>\n",
              "      <th>f3</th>\n",
              "      <th>f4</th>\n",
              "      <th>f5</th>\n",
              "      <th>f6</th>\n",
              "      <th>Frequency</th>\n",
              "      <th>f8</th>\n",
              "      <th>f9</th>\n",
              "      <th>f10</th>\n",
              "      <th>f11</th>\n",
              "    </tr>\n",
              "  </thead>\n",
              "  <tbody>\n",
              "    <tr>\n",
              "      <th>222</th>\n",
              "      <td>20</td>\n",
              "      <td>158626</td>\n",
              "      <td>3.634361</td>\n",
              "      <td>1</td>\n",
              "      <td>4.0</td>\n",
              "      <td>1.000000</td>\n",
              "      <td>1.000000</td>\n",
              "      <td>1.000000</td>\n",
              "      <td>1.500000</td>\n",
              "      <td>1.0</td>\n",
              "      <td>1.0</td>\n",
              "      <td>0.0</td>\n",
              "      <td>0.0</td>\n",
              "      <td>0.0</td>\n",
              "    </tr>\n",
              "    <tr>\n",
              "      <th>223</th>\n",
              "      <td>43</td>\n",
              "      <td>158747</td>\n",
              "      <td>3.634361</td>\n",
              "      <td>1</td>\n",
              "      <td>2.0</td>\n",
              "      <td>1.333333</td>\n",
              "      <td>1.333333</td>\n",
              "      <td>1.333333</td>\n",
              "      <td>1.333333</td>\n",
              "      <td>1.0</td>\n",
              "      <td>1.0</td>\n",
              "      <td>0.0</td>\n",
              "      <td>0.0</td>\n",
              "      <td>0.0</td>\n",
              "    </tr>\n",
              "    <tr>\n",
              "      <th>224</th>\n",
              "      <td>21</td>\n",
              "      <td>159736</td>\n",
              "      <td>3.634361</td>\n",
              "      <td>2</td>\n",
              "      <td>1.0</td>\n",
              "      <td>1.000000</td>\n",
              "      <td>1.000000</td>\n",
              "      <td>1.000000</td>\n",
              "      <td>2.538462</td>\n",
              "      <td>2.0</td>\n",
              "      <td>2.0</td>\n",
              "      <td>0.0</td>\n",
              "      <td>0.0</td>\n",
              "      <td>0.0</td>\n",
              "    </tr>\n",
              "    <tr>\n",
              "      <th>225</th>\n",
              "      <td>67</td>\n",
              "      <td>160804</td>\n",
              "      <td>3.634361</td>\n",
              "      <td>2</td>\n",
              "      <td>30.0</td>\n",
              "      <td>4.000000</td>\n",
              "      <td>36.000000</td>\n",
              "      <td>1.000000</td>\n",
              "      <td>13.200000</td>\n",
              "      <td>4.0</td>\n",
              "      <td>4.0</td>\n",
              "      <td>0.0</td>\n",
              "      <td>0.0</td>\n",
              "      <td>0.0</td>\n",
              "    </tr>\n",
              "    <tr>\n",
              "      <th>226</th>\n",
              "      <td>75</td>\n",
              "      <td>161521</td>\n",
              "      <td>3.634361</td>\n",
              "      <td>1</td>\n",
              "      <td>1.0</td>\n",
              "      <td>1.000000</td>\n",
              "      <td>2.000000</td>\n",
              "      <td>1.000000</td>\n",
              "      <td>1.250000</td>\n",
              "      <td>1.0</td>\n",
              "      <td>1.0</td>\n",
              "      <td>0.0</td>\n",
              "      <td>0.0</td>\n",
              "      <td>0.0</td>\n",
              "    </tr>\n",
              "  </tbody>\n",
              "</table>\n",
              "</div>"
            ],
            "text/plain": [
              "     user_id  song_id  global_average  f1    f2  ...  Frequency   f8   f9  f10  f11\n",
              "222       20   158626        3.634361   1   4.0  ...        1.0  1.0  0.0  0.0  0.0\n",
              "223       43   158747        3.634361   1   2.0  ...        1.0  1.0  0.0  0.0  0.0\n",
              "224       21   159736        3.634361   2   1.0  ...        2.0  2.0  0.0  0.0  0.0\n",
              "225       67   160804        3.634361   2  30.0  ...        4.0  4.0  0.0  0.0  0.0\n",
              "226       75   161521        3.634361   1   1.0  ...        1.0  1.0  0.0  0.0  0.0\n",
              "\n",
              "[5 rows x 14 columns]"
            ]
          },
          "metadata": {
            "tags": []
          },
          "execution_count": 65
        }
      ]
    },
    {
      "cell_type": "code",
      "metadata": {
        "id": "5gzIl5sNWgff"
      },
      "source": [
        "test_new_similar_features =test_new_similar_features.drop(['f8','f9','f10','f11'],axis=1)"
      ],
      "execution_count": null,
      "outputs": []
    },
    {
      "cell_type": "code",
      "metadata": {
        "colab": {
          "base_uri": "https://localhost:8080/",
          "height": 204
        },
        "id": "XTHdEkSNZ8_m",
        "outputId": "e6b9bf88-7acc-4f5b-b75d-512d6bdc77d6"
      },
      "source": [
        "test_new_similar_features.head()"
      ],
      "execution_count": null,
      "outputs": [
        {
          "output_type": "execute_result",
          "data": {
            "text/html": [
              "<div>\n",
              "<style scoped>\n",
              "    .dataframe tbody tr th:only-of-type {\n",
              "        vertical-align: middle;\n",
              "    }\n",
              "\n",
              "    .dataframe tbody tr th {\n",
              "        vertical-align: top;\n",
              "    }\n",
              "\n",
              "    .dataframe thead th {\n",
              "        text-align: right;\n",
              "    }\n",
              "</style>\n",
              "<table border=\"1\" class=\"dataframe\">\n",
              "  <thead>\n",
              "    <tr style=\"text-align: right;\">\n",
              "      <th></th>\n",
              "      <th>user_id</th>\n",
              "      <th>song_id</th>\n",
              "      <th>global_average</th>\n",
              "      <th>f1</th>\n",
              "      <th>f2</th>\n",
              "      <th>f3</th>\n",
              "      <th>f4</th>\n",
              "      <th>f5</th>\n",
              "      <th>f6</th>\n",
              "      <th>Frequency</th>\n",
              "    </tr>\n",
              "  </thead>\n",
              "  <tbody>\n",
              "    <tr>\n",
              "      <th>0</th>\n",
              "      <td>61</td>\n",
              "      <td>913</td>\n",
              "      <td>3.634361</td>\n",
              "      <td>2</td>\n",
              "      <td>2.0</td>\n",
              "      <td>1.0</td>\n",
              "      <td>1.0</td>\n",
              "      <td>1.0</td>\n",
              "      <td>1.333333</td>\n",
              "      <td>1.0</td>\n",
              "    </tr>\n",
              "    <tr>\n",
              "      <th>1</th>\n",
              "      <td>48</td>\n",
              "      <td>2763</td>\n",
              "      <td>3.634361</td>\n",
              "      <td>3</td>\n",
              "      <td>4.0</td>\n",
              "      <td>1.0</td>\n",
              "      <td>6.0</td>\n",
              "      <td>3.0</td>\n",
              "      <td>3.714286</td>\n",
              "      <td>1.0</td>\n",
              "    </tr>\n",
              "    <tr>\n",
              "      <th>2</th>\n",
              "      <td>74</td>\n",
              "      <td>3500</td>\n",
              "      <td>3.634361</td>\n",
              "      <td>31</td>\n",
              "      <td>1.0</td>\n",
              "      <td>3.0</td>\n",
              "      <td>3.0</td>\n",
              "      <td>8.0</td>\n",
              "      <td>8.000000</td>\n",
              "      <td>31.0</td>\n",
              "    </tr>\n",
              "    <tr>\n",
              "      <th>3</th>\n",
              "      <td>50</td>\n",
              "      <td>3725</td>\n",
              "      <td>3.634361</td>\n",
              "      <td>3</td>\n",
              "      <td>1.0</td>\n",
              "      <td>1.0</td>\n",
              "      <td>5.0</td>\n",
              "      <td>4.0</td>\n",
              "      <td>2.500000</td>\n",
              "      <td>1.0</td>\n",
              "    </tr>\n",
              "    <tr>\n",
              "      <th>4</th>\n",
              "      <td>67</td>\n",
              "      <td>4912</td>\n",
              "      <td>3.634361</td>\n",
              "      <td>2</td>\n",
              "      <td>30.0</td>\n",
              "      <td>4.0</td>\n",
              "      <td>36.0</td>\n",
              "      <td>1.0</td>\n",
              "      <td>13.200000</td>\n",
              "      <td>30.0</td>\n",
              "    </tr>\n",
              "  </tbody>\n",
              "</table>\n",
              "</div>"
            ],
            "text/plain": [
              "   user_id  song_id  global_average  f1  ...    f4   f5         f6  Frequency\n",
              "0       61      913        3.634361   2  ...   1.0  1.0   1.333333        1.0\n",
              "1       48     2763        3.634361   3  ...   6.0  3.0   3.714286        1.0\n",
              "2       74     3500        3.634361  31  ...   3.0  8.0   8.000000       31.0\n",
              "3       50     3725        3.634361   3  ...   5.0  4.0   2.500000        1.0\n",
              "4       67     4912        3.634361   2  ...  36.0  1.0  13.200000       30.0\n",
              "\n",
              "[5 rows x 10 columns]"
            ]
          },
          "metadata": {
            "tags": []
          },
          "execution_count": 67
        }
      ]
    },
    {
      "cell_type": "markdown",
      "metadata": {
        "id": "32GFOSEhIB0D"
      },
      "source": [
        "# Building Machine Learning Model"
      ]
    },
    {
      "cell_type": "code",
      "metadata": {
        "id": "W5QZ7iO8bVU0"
      },
      "source": [
        "x_train = train_new_similar_features.drop([\"user_id\", \"song_id\", 'Frequency'], axis = 1)\n",
        "\n",
        "x_test = test_new_similar_features.drop([\"user_id\", \"song_id\", \"Frequency\"], axis = 1)\n",
        "\n",
        "y_train = train_new_similar_features[\"Frequency\"]\n",
        "\n",
        "y_test = test_new_similar_features[\"Frequency\"]"
      ],
      "execution_count": null,
      "outputs": []
    },
    {
      "cell_type": "code",
      "metadata": {
        "id": "4YpR4GntcOPk"
      },
      "source": [
        "def error_metrics(y_true, y_pred):\n",
        "    rmse = np.sqrt(mean_squared_error(y_true, y_pred))\n",
        "    return rmse"
      ],
      "execution_count": null,
      "outputs": []
    },
    {
      "cell_type": "code",
      "metadata": {
        "colab": {
          "base_uri": "https://localhost:8080/"
        },
        "id": "v_C6UlIgc6b5",
        "outputId": "0acbaec9-a04c-4632-dad6-f123fe484539"
      },
      "source": [
        "clf = xgb.XGBRegressor(n_estimators = 20, silent = False, n_jobs  = 10)\n",
        "clf.fit(x_train, y_train)"
      ],
      "execution_count": null,
      "outputs": [
        {
          "output_type": "stream",
          "text": [
            "[16:57:21] WARNING: /workspace/src/objective/regression_obj.cu:152: reg:linear is now deprecated in favor of reg:squarederror.\n"
          ],
          "name": "stdout"
        },
        {
          "output_type": "execute_result",
          "data": {
            "text/plain": [
              "XGBRegressor(base_score=0.5, booster='gbtree', colsample_bylevel=1,\n",
              "             colsample_bynode=1, colsample_bytree=1, gamma=0,\n",
              "             importance_type='gain', learning_rate=0.1, max_delta_step=0,\n",
              "             max_depth=3, min_child_weight=1, missing=None, n_estimators=20,\n",
              "             n_jobs=10, nthread=None, objective='reg:linear', random_state=0,\n",
              "             reg_alpha=0, reg_lambda=1, scale_pos_weight=1, seed=None,\n",
              "             silent=False, subsample=1, verbosity=1)"
            ]
          },
          "metadata": {
            "tags": []
          },
          "execution_count": 70
        }
      ]
    },
    {
      "cell_type": "code",
      "metadata": {
        "colab": {
          "base_uri": "https://localhost:8080/"
        },
        "id": "3NR_2iHE2rkw",
        "outputId": "843a2b85-6ad8-44cf-8486-a4cbcc9be3eb"
      },
      "source": [
        "from sklearn.ensemble import GradientBoostingRegressor\n",
        "clf1 = GradientBoostingRegressor()\n",
        "clf1.fit(x_train, y_train)"
      ],
      "execution_count": null,
      "outputs": [
        {
          "output_type": "execute_result",
          "data": {
            "text/plain": [
              "GradientBoostingRegressor(alpha=0.9, ccp_alpha=0.0, criterion='friedman_mse',\n",
              "                          init=None, learning_rate=0.1, loss='ls', max_depth=3,\n",
              "                          max_features=None, max_leaf_nodes=None,\n",
              "                          min_impurity_decrease=0.0, min_impurity_split=None,\n",
              "                          min_samples_leaf=1, min_samples_split=2,\n",
              "                          min_weight_fraction_leaf=0.0, n_estimators=100,\n",
              "                          n_iter_no_change=None, presort='deprecated',\n",
              "                          random_state=None, subsample=1.0, tol=0.0001,\n",
              "                          validation_fraction=0.1, verbose=0, warm_start=False)"
            ]
          },
          "metadata": {
            "tags": []
          },
          "execution_count": 71
        }
      ]
    },
    {
      "cell_type": "code",
      "metadata": {
        "colab": {
          "base_uri": "https://localhost:8080/"
        },
        "id": "yKIBQlgJ3PC1",
        "outputId": "9fcb9438-9a08-4a16-bc22-5311ce3e071a"
      },
      "source": [
        "from sklearn.linear_model import LinearRegression\n",
        "clf2 = LinearRegression()\n",
        "clf2.fit(x_train, y_train)"
      ],
      "execution_count": null,
      "outputs": [
        {
          "output_type": "execute_result",
          "data": {
            "text/plain": [
              "LinearRegression(copy_X=True, fit_intercept=True, n_jobs=None, normalize=False)"
            ]
          },
          "metadata": {
            "tags": []
          },
          "execution_count": 72
        }
      ]
    },
    {
      "cell_type": "code",
      "metadata": {
        "id": "LDos1-FIhbwX"
      },
      "source": [
        "y_pred_test = clf2.predict(x_test)"
      ],
      "execution_count": null,
      "outputs": []
    },
    {
      "cell_type": "code",
      "metadata": {
        "colab": {
          "base_uri": "https://localhost:8080/"
        },
        "id": "brDIFkS7e4UB",
        "outputId": "f8db06b9-0cbf-4c72-a075-4e5c5dd5fa54"
      },
      "source": [
        "rmse_test = error_metrics(y_test, y_pred_test)\n",
        "print(\"RMSE = {}\".format(rmse_test))"
      ],
      "execution_count": null,
      "outputs": [
        {
          "output_type": "stream",
          "text": [
            "RMSE = 5.1048318792536636\n"
          ],
          "name": "stdout"
        }
      ]
    },
    {
      "cell_type": "markdown",
      "metadata": {
        "id": "OOxXdPIgIKur"
      },
      "source": [
        "# Plot Feature Importance"
      ]
    },
    {
      "cell_type": "code",
      "metadata": {
        "id": "7OS3UuA5fUSO"
      },
      "source": [
        "def plot_importance(model, clf):\n",
        "    fig = plt.figure(figsize = (8, 6))\n",
        "    ax = fig.add_axes([0,0,1,1])\n",
        "    model.plot_importance(clf, ax = ax, height = 0.3)\n",
        "    plt.xlabel(\"F Score\", fontsize = 20)\n",
        "    plt.ylabel(\"Features\", fontsize = 20)\n",
        "    plt.title(\"Feature Importance\", fontsize = 20)\n",
        "    plt.tick_params(labelsize = 15)\n",
        "    \n",
        "    plt.show()"
      ],
      "execution_count": null,
      "outputs": []
    },
    {
      "cell_type": "code",
      "metadata": {
        "colab": {
          "base_uri": "https://localhost:8080/",
          "height": 529
        },
        "id": "m3vViNLjfWkS",
        "outputId": "7e4cb76c-3ab8-46f9-bb56-8fe62a9aaacc"
      },
      "source": [
        " plot_importance(xgb, clf)"
      ],
      "execution_count": null,
      "outputs": [
        {
          "output_type": "display_data",
          "data": {
            "image/png": "[encoded data removed]",
            "text/plain": [
              "<Figure size 576x432 with 1 Axes>"
            ]
          },
          "metadata": {
            "tags": [],
            "needs_background": "light"
          }
        }
      ]
    },
    {
      "cell_type": "code",
      "metadata": {
        "id": "B58pTvlEf5td"
      },
      "source": [
        "from keras.models import load_model\n",
        "from sklearn.model_selection import train_test_split\n",
        "from keras.layers import Input, Embedding, Flatten, Dot, Dense, Concatenate\n",
        "from keras.models import Model\n",
        "# warnings.filterwarnings('ignore')\n",
        "%matplotlib inline"
      ],
      "execution_count": null,
      "outputs": []
    },
    {
      "cell_type": "code",
      "metadata": {
        "colab": {
          "base_uri": "https://localhost:8080/",
          "height": 414
        },
        "id": "BCEcZerdgcug",
        "outputId": "e2baf209-96b0-4d21-c630-a66715ce9442"
      },
      "source": [
        "train"
      ],
      "execution_count": null,
      "outputs": [
        {
          "output_type": "execute_result",
          "data": {
            "text/html": [
              "<div>\n",
              "<style scoped>\n",
              "    .dataframe tbody tr th:only-of-type {\n",
              "        vertical-align: middle;\n",
              "    }\n",
              "\n",
              "    .dataframe tbody tr th {\n",
              "        vertical-align: top;\n",
              "    }\n",
              "\n",
              "    .dataframe thead th {\n",
              "        text-align: right;\n",
              "    }\n",
              "</style>\n",
              "<table border=\"1\" class=\"dataframe\">\n",
              "  <thead>\n",
              "    <tr style=\"text-align: right;\">\n",
              "      <th></th>\n",
              "      <th>user_id</th>\n",
              "      <th>song_id</th>\n",
              "      <th>frequency</th>\n",
              "    </tr>\n",
              "  </thead>\n",
              "  <tbody>\n",
              "    <tr>\n",
              "      <th>1100960</th>\n",
              "      <td>27104</td>\n",
              "      <td>108685</td>\n",
              "      <td>3</td>\n",
              "    </tr>\n",
              "    <tr>\n",
              "      <th>920137</th>\n",
              "      <td>2455</td>\n",
              "      <td>81912</td>\n",
              "      <td>1</td>\n",
              "    </tr>\n",
              "    <tr>\n",
              "      <th>851765</th>\n",
              "      <td>18437</td>\n",
              "      <td>36622</td>\n",
              "      <td>2</td>\n",
              "    </tr>\n",
              "    <tr>\n",
              "      <th>944086</th>\n",
              "      <td>2697</td>\n",
              "      <td>112296</td>\n",
              "      <td>1</td>\n",
              "    </tr>\n",
              "    <tr>\n",
              "      <th>178232</th>\n",
              "      <td>98170</td>\n",
              "      <td>82374</td>\n",
              "      <td>5</td>\n",
              "    </tr>\n",
              "    <tr>\n",
              "      <th>...</th>\n",
              "      <td>...</td>\n",
              "      <td>...</td>\n",
              "      <td>...</td>\n",
              "    </tr>\n",
              "    <tr>\n",
              "      <th>259178</th>\n",
              "      <td>11323</td>\n",
              "      <td>109642</td>\n",
              "      <td>3</td>\n",
              "    </tr>\n",
              "    <tr>\n",
              "      <th>1414414</th>\n",
              "      <td>77360</td>\n",
              "      <td>105995</td>\n",
              "      <td>3</td>\n",
              "    </tr>\n",
              "    <tr>\n",
              "      <th>131932</th>\n",
              "      <td>4467</td>\n",
              "      <td>85327</td>\n",
              "      <td>1</td>\n",
              "    </tr>\n",
              "    <tr>\n",
              "      <th>671155</th>\n",
              "      <td>43418</td>\n",
              "      <td>132977</td>\n",
              "      <td>1</td>\n",
              "    </tr>\n",
              "    <tr>\n",
              "      <th>121958</th>\n",
              "      <td>55168</td>\n",
              "      <td>34606</td>\n",
              "      <td>6</td>\n",
              "    </tr>\n",
              "  </tbody>\n",
              "</table>\n",
              "<p>1160746 rows × 3 columns</p>\n",
              "</div>"
            ],
            "text/plain": [
              "         user_id  song_id  frequency\n",
              "1100960    27104   108685          3\n",
              "920137      2455    81912          1\n",
              "851765     18437    36622          2\n",
              "944086      2697   112296          1\n",
              "178232     98170    82374          5\n",
              "...          ...      ...        ...\n",
              "259178     11323   109642          3\n",
              "1414414    77360   105995          3\n",
              "131932      4467    85327          1\n",
              "671155     43418   132977          1\n",
              "121958     55168    34606          6\n",
              "\n",
              "[1160746 rows x 3 columns]"
            ]
          },
          "metadata": {
            "tags": []
          },
          "execution_count": 83
        }
      ]
    },
    {
      "cell_type": "code",
      "metadata": {
        "id": "wy2LSEqvgpFo"
      },
      "source": [
        "n_items = len(pd.unique(data['song_id']))\n",
        "n_users = len(pd.unique(data['user_id']))"
      ],
      "execution_count": null,
      "outputs": []
    },
    {
      "cell_type": "code",
      "metadata": {
        "id": "jLGuTJQmgPEU"
      },
      "source": [
        "train, test = train_test_split(data, test_size=0.2, random_state=42)"
      ],
      "execution_count": null,
      "outputs": []
    },
    {
      "cell_type": "code",
      "metadata": {
        "id": "zjagMaMo-ADo"
      },
      "source": [
        "movie_input = Input(shape=[1], name=\"Movie-Input\")\n",
        "movie_embedding = Embedding(n_items+1, 5, name=\"Movie-Embedding\")(movie_input)\n",
        "movie_vec = Flatten(name=\"Flatten-Books\")(movie_embedding)\n",
        "# creating user embedding path\n",
        "user_input = Input(shape=[1], name=\"User-Input\")\n",
        "user_embedding = Embedding(n_users+1, 5, name=\"User-Embedding\")(user_input)\n",
        "user_vec = Flatten(name=\"Flatten-Users\")(user_embedding)\n",
        "# concatenate features\n",
        "conc = Concatenate()([movie_vec, user_vec])\n",
        "# add fully-connected-layers\n",
        "fc1 = Dense(128, activation='relu')(conc)\n",
        "fc2 = Dense(32, activation='relu')(fc1)\n",
        "out = Dense(1)(fc2)\n",
        "# Create model and compile it\n",
        "model2 = Model([user_input, movie_input], out)\n",
        "model2.compile('adam', 'mean_squared_error')\n"
      ],
      "execution_count": null,
      "outputs": []
    },
    {
      "cell_type": "code",
      "metadata": {
        "colab": {
          "background_save": true,
          "base_uri": "https://localhost:8080/"
        },
        "id": "fPaHT_xHeukG",
        "outputId": "f906b327-a13b-4e1e-8656-35e3b9cd321e"
      },
      "source": [
        "history = model2.fit([train.user_id, train.song_id], train.frequency, epochs=5, verbose=1)"
      ],
      "execution_count": null,
      "outputs": [
        {
          "output_type": "stream",
          "text": [
            "Epoch 1/5\n",
            "36274/36274 [==============================] - 541s 15ms/step - loss: 47.5822\n",
            "Epoch 2/5\n",
            "36274/36274 [==============================] - 528s 15ms/step - loss: 44.1185\n",
            "Epoch 3/5\n",
            "36274/36274 [==============================] - 530s 15ms/step - loss: 42.4767\n",
            "Epoch 4/5\n",
            "36274/36274 [==============================] - 538s 15ms/step - loss: 38.5063\n",
            "Epoch 5/5\n",
            "36274/36274 [==============================] - 523s 14ms/step - loss: 38.4402\n"
          ],
          "name": "stdout"
        }
      ]
    }
  ]
}