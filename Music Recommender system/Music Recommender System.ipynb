{
 "cells": [
  {
   "cell_type": "markdown",
   "id": "51be259f",
   "metadata": {},
   "source": [
    "# Music recommender system\n",
    "**To built a recommender system using Machine learning algorithms and to provide personalize recommendation to the users using <br> 1. Content - based filtering<br>\n",
    "2.Popularity - based filtering <br>\n",
    "3.Coloborative filtering.**"
   ]
  },
  {
   "cell_type": "code",
   "execution_count": 1,
   "id": "5f52007b",
   "metadata": {},
   "outputs": [],
   "source": [
    "import warnings\n",
    "warnings.filterwarnings(\"ignore\")"
   ]
  },
  {
   "cell_type": "markdown",
   "id": "29b95116",
   "metadata": {},
   "source": [
    "# Importing required libraries"
   ]
  },
  {
   "cell_type": "code",
   "execution_count": 2,
   "id": "3cc6793f",
   "metadata": {},
   "outputs": [],
   "source": [
    "import pandas as pd\n",
    "import numpy as np\n",
    "import seaborn as sns\n",
    "import matplotlib.pyplot as plt"
   ]
  },
  {
   "cell_type": "markdown",
   "id": "eed0acd7",
   "metadata": {},
   "source": [
    "# Converting text format to csv format"
   ]
  },
  {
   "cell_type": "code",
   "execution_count": 3,
   "id": "6ddd907d",
   "metadata": {},
   "outputs": [],
   "source": [
    "df1 = pd.read_csv(\"kaggle_visible_evaluation_triplets.txt\",header=None,delimiter='\\t')\n",
    "df1.columns = ['user_id','song_id','PlayCount']\n",
    "df1.to_csv('kaggle_visible_evaluation_triplets.csv',index=None)"
   ]
  },
  {
   "cell_type": "code",
   "execution_count": 4,
   "id": "02059a5b",
   "metadata": {},
   "outputs": [
    {
     "data": {
      "text/html": [
       "<div>\n",
       "<style scoped>\n",
       "    .dataframe tbody tr th:only-of-type {\n",
       "        vertical-align: middle;\n",
       "    }\n",
       "\n",
       "    .dataframe tbody tr th {\n",
       "        vertical-align: top;\n",
       "    }\n",
       "\n",
       "    .dataframe thead th {\n",
       "        text-align: right;\n",
       "    }\n",
       "</style>\n",
       "<table border=\"1\" class=\"dataframe\">\n",
       "  <thead>\n",
       "    <tr style=\"text-align: right;\">\n",
       "      <th></th>\n",
       "      <th>user_id</th>\n",
       "      <th>song_id</th>\n",
       "      <th>PlayCount</th>\n",
       "    </tr>\n",
       "  </thead>\n",
       "  <tbody>\n",
       "    <tr>\n",
       "      <th>0</th>\n",
       "      <td>fd50c4007b68a3737fe052d5a4f78ce8aa117f3d</td>\n",
       "      <td>SOBONKR12A58A7A7E0</td>\n",
       "      <td>1</td>\n",
       "    </tr>\n",
       "    <tr>\n",
       "      <th>1</th>\n",
       "      <td>fd50c4007b68a3737fe052d5a4f78ce8aa117f3d</td>\n",
       "      <td>SOEGIYH12A6D4FC0E3</td>\n",
       "      <td>1</td>\n",
       "    </tr>\n",
       "    <tr>\n",
       "      <th>2</th>\n",
       "      <td>fd50c4007b68a3737fe052d5a4f78ce8aa117f3d</td>\n",
       "      <td>SOFLJQZ12A6D4FADA6</td>\n",
       "      <td>1</td>\n",
       "    </tr>\n",
       "    <tr>\n",
       "      <th>3</th>\n",
       "      <td>fd50c4007b68a3737fe052d5a4f78ce8aa117f3d</td>\n",
       "      <td>SOHTKMO12AB01843B0</td>\n",
       "      <td>1</td>\n",
       "    </tr>\n",
       "    <tr>\n",
       "      <th>4</th>\n",
       "      <td>fd50c4007b68a3737fe052d5a4f78ce8aa117f3d</td>\n",
       "      <td>SODQZCY12A6D4F9D11</td>\n",
       "      <td>1</td>\n",
       "    </tr>\n",
       "  </tbody>\n",
       "</table>\n",
       "</div>"
      ],
      "text/plain": [
       "                                    user_id             song_id  PlayCount\n",
       "0  fd50c4007b68a3737fe052d5a4f78ce8aa117f3d  SOBONKR12A58A7A7E0          1\n",
       "1  fd50c4007b68a3737fe052d5a4f78ce8aa117f3d  SOEGIYH12A6D4FC0E3          1\n",
       "2  fd50c4007b68a3737fe052d5a4f78ce8aa117f3d  SOFLJQZ12A6D4FADA6          1\n",
       "3  fd50c4007b68a3737fe052d5a4f78ce8aa117f3d  SOHTKMO12AB01843B0          1\n",
       "4  fd50c4007b68a3737fe052d5a4f78ce8aa117f3d  SODQZCY12A6D4F9D11          1"
      ]
     },
     "execution_count": 4,
     "metadata": {},
     "output_type": "execute_result"
    }
   ],
   "source": [
    "df1.head()"
   ]
  },
  {
   "cell_type": "code",
   "execution_count": 5,
   "id": "ccbc6198",
   "metadata": {},
   "outputs": [
    {
     "name": "stdout",
     "output_type": "stream",
     "text": [
      "<class 'pandas.core.frame.DataFrame'>\n",
      "RangeIndex: 1450933 entries, 0 to 1450932\n",
      "Data columns (total 3 columns):\n",
      " #   Column     Non-Null Count    Dtype \n",
      "---  ------     --------------    ----- \n",
      " 0   user_id    1450933 non-null  object\n",
      " 1   song_id    1450933 non-null  object\n",
      " 2   PlayCount  1450933 non-null  int64 \n",
      "dtypes: int64(1), object(2)\n",
      "memory usage: 33.2+ MB\n"
     ]
    }
   ],
   "source": [
    "df1.info()"
   ]
  },
  {
   "cell_type": "code",
   "execution_count": 6,
   "id": "aa2fa459",
   "metadata": {},
   "outputs": [],
   "source": [
    "df2 = pd.read_csv(\"unique_tracks.txt\",header=None,delimiter='<SEP>')\n",
    "df2.columns = ['Genre','song_id','Artist Name','Title']\n",
    "df2.to_csv('unique_tracks.csv',index=None)"
   ]
  },
  {
   "cell_type": "code",
   "execution_count": 7,
   "id": "a3a984bf",
   "metadata": {},
   "outputs": [
    {
     "name": "stdout",
     "output_type": "stream",
     "text": [
      "<class 'pandas.core.frame.DataFrame'>\n",
      "RangeIndex: 1000000 entries, 0 to 999999\n",
      "Data columns (total 4 columns):\n",
      " #   Column       Non-Null Count    Dtype \n",
      "---  ------       --------------    ----- \n",
      " 0   Genre        1000000 non-null  object\n",
      " 1   song_id      1000000 non-null  object\n",
      " 2   Artist Name  1000000 non-null  object\n",
      " 3   Title        999985 non-null   object\n",
      "dtypes: object(4)\n",
      "memory usage: 30.5+ MB\n"
     ]
    }
   ],
   "source": [
    "df2.info()"
   ]
  },
  {
   "cell_type": "code",
   "execution_count": 8,
   "id": "fc7529eb",
   "metadata": {
    "scrolled": true
   },
   "outputs": [
    {
     "data": {
      "text/html": [
       "<div>\n",
       "<style scoped>\n",
       "    .dataframe tbody tr th:only-of-type {\n",
       "        vertical-align: middle;\n",
       "    }\n",
       "\n",
       "    .dataframe tbody tr th {\n",
       "        vertical-align: top;\n",
       "    }\n",
       "\n",
       "    .dataframe thead th {\n",
       "        text-align: right;\n",
       "    }\n",
       "</style>\n",
       "<table border=\"1\" class=\"dataframe\">\n",
       "  <thead>\n",
       "    <tr style=\"text-align: right;\">\n",
       "      <th></th>\n",
       "      <th>Genre</th>\n",
       "      <th>song_id</th>\n",
       "      <th>Artist Name</th>\n",
       "      <th>Title</th>\n",
       "    </tr>\n",
       "  </thead>\n",
       "  <tbody>\n",
       "    <tr>\n",
       "      <th>0</th>\n",
       "      <td>TRMMMYQ128F932D901</td>\n",
       "      <td>SOQMMHC12AB0180CB8</td>\n",
       "      <td>Faster Pussy cat</td>\n",
       "      <td>Silent Night</td>\n",
       "    </tr>\n",
       "    <tr>\n",
       "      <th>1</th>\n",
       "      <td>TRMMMKD128F425225D</td>\n",
       "      <td>SOVFVAK12A8C1350D9</td>\n",
       "      <td>Karkkiautomaatti</td>\n",
       "      <td>Tanssi vaan</td>\n",
       "    </tr>\n",
       "    <tr>\n",
       "      <th>2</th>\n",
       "      <td>TRMMMRX128F93187D9</td>\n",
       "      <td>SOGTUKN12AB017F4F1</td>\n",
       "      <td>Hudson Mohawke</td>\n",
       "      <td>No One Could Ever</td>\n",
       "    </tr>\n",
       "    <tr>\n",
       "      <th>3</th>\n",
       "      <td>TRMMMCH128F425532C</td>\n",
       "      <td>SOBNYVR12A8C13558C</td>\n",
       "      <td>Yerba Brava</td>\n",
       "      <td>Si Vos Querés</td>\n",
       "    </tr>\n",
       "    <tr>\n",
       "      <th>4</th>\n",
       "      <td>TRMMMWA128F426B589</td>\n",
       "      <td>SOHSBXH12A8C13B0DF</td>\n",
       "      <td>Der Mystic</td>\n",
       "      <td>Tangle Of Aspens</td>\n",
       "    </tr>\n",
       "  </tbody>\n",
       "</table>\n",
       "</div>"
      ],
      "text/plain": [
       "                Genre             song_id       Artist Name              Title\n",
       "0  TRMMMYQ128F932D901  SOQMMHC12AB0180CB8  Faster Pussy cat       Silent Night\n",
       "1  TRMMMKD128F425225D  SOVFVAK12A8C1350D9  Karkkiautomaatti        Tanssi vaan\n",
       "2  TRMMMRX128F93187D9  SOGTUKN12AB017F4F1    Hudson Mohawke  No One Could Ever\n",
       "3  TRMMMCH128F425532C  SOBNYVR12A8C13558C       Yerba Brava      Si Vos Querés\n",
       "4  TRMMMWA128F426B589  SOHSBXH12A8C13B0DF        Der Mystic   Tangle Of Aspens"
      ]
     },
     "execution_count": 8,
     "metadata": {},
     "output_type": "execute_result"
    }
   ],
   "source": [
    "df2.head()"
   ]
  },
  {
   "cell_type": "code",
   "execution_count": 9,
   "id": "efdfe2d7",
   "metadata": {},
   "outputs": [],
   "source": [
    "df2.drop(['Genre'],axis = 1,inplace = True)"
   ]
  },
  {
   "cell_type": "code",
   "execution_count": 10,
   "id": "e5e50b4e",
   "metadata": {},
   "outputs": [
    {
     "data": {
      "text/html": [
       "<div>\n",
       "<style scoped>\n",
       "    .dataframe tbody tr th:only-of-type {\n",
       "        vertical-align: middle;\n",
       "    }\n",
       "\n",
       "    .dataframe tbody tr th {\n",
       "        vertical-align: top;\n",
       "    }\n",
       "\n",
       "    .dataframe thead th {\n",
       "        text-align: right;\n",
       "    }\n",
       "</style>\n",
       "<table border=\"1\" class=\"dataframe\">\n",
       "  <thead>\n",
       "    <tr style=\"text-align: right;\">\n",
       "      <th></th>\n",
       "      <th>song_id</th>\n",
       "      <th>Artist Name</th>\n",
       "      <th>Title</th>\n",
       "    </tr>\n",
       "  </thead>\n",
       "  <tbody>\n",
       "    <tr>\n",
       "      <th>0</th>\n",
       "      <td>SOQMMHC12AB0180CB8</td>\n",
       "      <td>Faster Pussy cat</td>\n",
       "      <td>Silent Night</td>\n",
       "    </tr>\n",
       "    <tr>\n",
       "      <th>1</th>\n",
       "      <td>SOVFVAK12A8C1350D9</td>\n",
       "      <td>Karkkiautomaatti</td>\n",
       "      <td>Tanssi vaan</td>\n",
       "    </tr>\n",
       "    <tr>\n",
       "      <th>2</th>\n",
       "      <td>SOGTUKN12AB017F4F1</td>\n",
       "      <td>Hudson Mohawke</td>\n",
       "      <td>No One Could Ever</td>\n",
       "    </tr>\n",
       "    <tr>\n",
       "      <th>3</th>\n",
       "      <td>SOBNYVR12A8C13558C</td>\n",
       "      <td>Yerba Brava</td>\n",
       "      <td>Si Vos Querés</td>\n",
       "    </tr>\n",
       "    <tr>\n",
       "      <th>4</th>\n",
       "      <td>SOHSBXH12A8C13B0DF</td>\n",
       "      <td>Der Mystic</td>\n",
       "      <td>Tangle Of Aspens</td>\n",
       "    </tr>\n",
       "  </tbody>\n",
       "</table>\n",
       "</div>"
      ],
      "text/plain": [
       "              song_id       Artist Name              Title\n",
       "0  SOQMMHC12AB0180CB8  Faster Pussy cat       Silent Night\n",
       "1  SOVFVAK12A8C1350D9  Karkkiautomaatti        Tanssi vaan\n",
       "2  SOGTUKN12AB017F4F1    Hudson Mohawke  No One Could Ever\n",
       "3  SOBNYVR12A8C13558C       Yerba Brava      Si Vos Querés\n",
       "4  SOHSBXH12A8C13B0DF        Der Mystic   Tangle Of Aspens"
      ]
     },
     "execution_count": 10,
     "metadata": {},
     "output_type": "execute_result"
    }
   ],
   "source": [
    "df2.head()"
   ]
  },
  {
   "cell_type": "markdown",
   "id": "9b9bd510",
   "metadata": {},
   "source": [
    "# Merging the dataframes"
   ]
  },
  {
   "cell_type": "code",
   "execution_count": 11,
   "id": "31891402",
   "metadata": {},
   "outputs": [],
   "source": [
    "song_df = pd.merge(df1,df2.drop_duplicates(['song_id']),on = \"song_id\",how='left')"
   ]
  },
  {
   "cell_type": "code",
   "execution_count": 12,
   "id": "809de284",
   "metadata": {},
   "outputs": [
    {
     "data": {
      "text/plain": [
       "1450933"
      ]
     },
     "execution_count": 12,
     "metadata": {},
     "output_type": "execute_result"
    }
   ],
   "source": [
    "len(song_df)"
   ]
  },
  {
   "cell_type": "code",
   "execution_count": 13,
   "id": "09ab7409",
   "metadata": {},
   "outputs": [],
   "source": [
    "song_df.dropna(axis=0,inplace = True)"
   ]
  },
  {
   "cell_type": "code",
   "execution_count": 14,
   "id": "f038c086",
   "metadata": {},
   "outputs": [
    {
     "data": {
      "text/html": [
       "<div>\n",
       "<style scoped>\n",
       "    .dataframe tbody tr th:only-of-type {\n",
       "        vertical-align: middle;\n",
       "    }\n",
       "\n",
       "    .dataframe tbody tr th {\n",
       "        vertical-align: top;\n",
       "    }\n",
       "\n",
       "    .dataframe thead th {\n",
       "        text-align: right;\n",
       "    }\n",
       "</style>\n",
       "<table border=\"1\" class=\"dataframe\">\n",
       "  <thead>\n",
       "    <tr style=\"text-align: right;\">\n",
       "      <th></th>\n",
       "      <th>user_id</th>\n",
       "      <th>song_id</th>\n",
       "      <th>PlayCount</th>\n",
       "      <th>Artist Name</th>\n",
       "      <th>Title</th>\n",
       "    </tr>\n",
       "  </thead>\n",
       "  <tbody>\n",
       "    <tr>\n",
       "      <th>0</th>\n",
       "      <td>fd50c4007b68a3737fe052d5a4f78ce8aa117f3d</td>\n",
       "      <td>SOBONKR12A58A7A7E0</td>\n",
       "      <td>1</td>\n",
       "      <td>Dwight Yoakam</td>\n",
       "      <td>You're The One</td>\n",
       "    </tr>\n",
       "    <tr>\n",
       "      <th>1</th>\n",
       "      <td>fd50c4007b68a3737fe052d5a4f78ce8aa117f3d</td>\n",
       "      <td>SOEGIYH12A6D4FC0E3</td>\n",
       "      <td>1</td>\n",
       "      <td>Barry Tuckwell/Academy of St Martin-in-the-Fie...</td>\n",
       "      <td>Horn Concerto No. 4 in E flat K495: II. Romanc...</td>\n",
       "    </tr>\n",
       "    <tr>\n",
       "      <th>2</th>\n",
       "      <td>fd50c4007b68a3737fe052d5a4f78ce8aa117f3d</td>\n",
       "      <td>SOFLJQZ12A6D4FADA6</td>\n",
       "      <td>1</td>\n",
       "      <td>Cartola</td>\n",
       "      <td>Tive Sim</td>\n",
       "    </tr>\n",
       "    <tr>\n",
       "      <th>3</th>\n",
       "      <td>fd50c4007b68a3737fe052d5a4f78ce8aa117f3d</td>\n",
       "      <td>SOHTKMO12AB01843B0</td>\n",
       "      <td>1</td>\n",
       "      <td>Lonnie Gordon</td>\n",
       "      <td>Catch You Baby (Steve Pitron &amp; Max Sanna Radio...</td>\n",
       "    </tr>\n",
       "    <tr>\n",
       "      <th>4</th>\n",
       "      <td>fd50c4007b68a3737fe052d5a4f78ce8aa117f3d</td>\n",
       "      <td>SODQZCY12A6D4F9D11</td>\n",
       "      <td>1</td>\n",
       "      <td>Miguel Calo</td>\n",
       "      <td>El Cuatrero</td>\n",
       "    </tr>\n",
       "  </tbody>\n",
       "</table>\n",
       "</div>"
      ],
      "text/plain": [
       "                                    user_id             song_id  PlayCount  \\\n",
       "0  fd50c4007b68a3737fe052d5a4f78ce8aa117f3d  SOBONKR12A58A7A7E0          1   \n",
       "1  fd50c4007b68a3737fe052d5a4f78ce8aa117f3d  SOEGIYH12A6D4FC0E3          1   \n",
       "2  fd50c4007b68a3737fe052d5a4f78ce8aa117f3d  SOFLJQZ12A6D4FADA6          1   \n",
       "3  fd50c4007b68a3737fe052d5a4f78ce8aa117f3d  SOHTKMO12AB01843B0          1   \n",
       "4  fd50c4007b68a3737fe052d5a4f78ce8aa117f3d  SODQZCY12A6D4F9D11          1   \n",
       "\n",
       "                                         Artist Name  \\\n",
       "0                                      Dwight Yoakam   \n",
       "1  Barry Tuckwell/Academy of St Martin-in-the-Fie...   \n",
       "2                                            Cartola   \n",
       "3                                      Lonnie Gordon   \n",
       "4                                        Miguel Calo   \n",
       "\n",
       "                                               Title  \n",
       "0                                     You're The One  \n",
       "1  Horn Concerto No. 4 in E flat K495: II. Romanc...  \n",
       "2                                           Tive Sim  \n",
       "3  Catch You Baby (Steve Pitron & Max Sanna Radio...  \n",
       "4                                        El Cuatrero  "
      ]
     },
     "execution_count": 14,
     "metadata": {},
     "output_type": "execute_result"
    }
   ],
   "source": [
    "song_df.head()"
   ]
  },
  {
   "cell_type": "code",
   "execution_count": 15,
   "id": "48ef5f42",
   "metadata": {},
   "outputs": [
    {
     "data": {
      "text/html": [
       "<div>\n",
       "<style scoped>\n",
       "    .dataframe tbody tr th:only-of-type {\n",
       "        vertical-align: middle;\n",
       "    }\n",
       "\n",
       "    .dataframe tbody tr th {\n",
       "        vertical-align: top;\n",
       "    }\n",
       "\n",
       "    .dataframe thead th {\n",
       "        text-align: right;\n",
       "    }\n",
       "</style>\n",
       "<table border=\"1\" class=\"dataframe\">\n",
       "  <thead>\n",
       "    <tr style=\"text-align: right;\">\n",
       "      <th></th>\n",
       "      <th>PlayCount</th>\n",
       "    </tr>\n",
       "  </thead>\n",
       "  <tbody>\n",
       "    <tr>\n",
       "      <th>count</th>\n",
       "      <td>1.450932e+06</td>\n",
       "    </tr>\n",
       "    <tr>\n",
       "      <th>mean</th>\n",
       "      <td>3.187151e+00</td>\n",
       "    </tr>\n",
       "    <tr>\n",
       "      <th>std</th>\n",
       "      <td>7.051666e+00</td>\n",
       "    </tr>\n",
       "    <tr>\n",
       "      <th>min</th>\n",
       "      <td>1.000000e+00</td>\n",
       "    </tr>\n",
       "    <tr>\n",
       "      <th>25%</th>\n",
       "      <td>1.000000e+00</td>\n",
       "    </tr>\n",
       "    <tr>\n",
       "      <th>50%</th>\n",
       "      <td>1.000000e+00</td>\n",
       "    </tr>\n",
       "    <tr>\n",
       "      <th>75%</th>\n",
       "      <td>3.000000e+00</td>\n",
       "    </tr>\n",
       "    <tr>\n",
       "      <th>max</th>\n",
       "      <td>9.230000e+02</td>\n",
       "    </tr>\n",
       "  </tbody>\n",
       "</table>\n",
       "</div>"
      ],
      "text/plain": [
       "          PlayCount\n",
       "count  1.450932e+06\n",
       "mean   3.187151e+00\n",
       "std    7.051666e+00\n",
       "min    1.000000e+00\n",
       "25%    1.000000e+00\n",
       "50%    1.000000e+00\n",
       "75%    3.000000e+00\n",
       "max    9.230000e+02"
      ]
     },
     "execution_count": 15,
     "metadata": {},
     "output_type": "execute_result"
    }
   ],
   "source": [
    "song_df.describe()"
   ]
  },
  {
   "cell_type": "code",
   "execution_count": 16,
   "id": "badfad5b",
   "metadata": {},
   "outputs": [
    {
     "name": "stdout",
     "output_type": "stream",
     "text": [
      "<class 'pandas.core.frame.DataFrame'>\n",
      "Int64Index: 1450932 entries, 0 to 1450932\n",
      "Data columns (total 5 columns):\n",
      " #   Column       Non-Null Count    Dtype \n",
      "---  ------       --------------    ----- \n",
      " 0   user_id      1450932 non-null  object\n",
      " 1   song_id      1450932 non-null  object\n",
      " 2   PlayCount    1450932 non-null  int64 \n",
      " 3   Artist Name  1450932 non-null  object\n",
      " 4   Title        1450932 non-null  object\n",
      "dtypes: int64(1), object(4)\n",
      "memory usage: 66.4+ MB\n"
     ]
    }
   ],
   "source": [
    "song_df.info()"
   ]
  },
  {
   "cell_type": "code",
   "execution_count": 17,
   "id": "90e74a49",
   "metadata": {},
   "outputs": [
    {
     "data": {
      "text/plain": [
       "(1450932, 5)"
      ]
     },
     "execution_count": 17,
     "metadata": {},
     "output_type": "execute_result"
    }
   ],
   "source": [
    "song_df.shape"
   ]
  },
  {
   "cell_type": "markdown",
   "id": "1ef88e34",
   "metadata": {},
   "source": [
    "# Plot for playcount"
   ]
  },
  {
   "cell_type": "code",
   "execution_count": 18,
   "id": "58381d47",
   "metadata": {},
   "outputs": [
    {
     "data": {
      "text/plain": [
       "<AxesSubplot:xlabel='PlayCount', ylabel='Density'>"
      ]
     },
     "execution_count": 18,
     "metadata": {},
     "output_type": "execute_result"
    },
    {
     "data": {
      "image/png": "[encoded data removed]",
      "text/plain": [
       "<Figure size 720x576 with 1 Axes>"
      ]
     },
     "metadata": {
      "needs_background": "light"
     },
     "output_type": "display_data"
    }
   ],
   "source": [
    "plt.figure(figsize=(10,8))\n",
    "sns.distplot(song_df['PlayCount'])"
   ]
  },
  {
   "cell_type": "markdown",
   "id": "1f963b8b",
   "metadata": {},
   "source": [
    "# Unique users in each attribute"
   ]
  },
  {
   "cell_type": "code",
   "execution_count": 19,
   "id": "3f6c5eba",
   "metadata": {},
   "outputs": [
    {
     "name": "stdout",
     "output_type": "stream",
     "text": [
      "Total number of data: 1450932\n",
      "Total number of unique user: 110000\n",
      "Total number of unique Songs: 163205\n",
      "Total number of unique Artist: 28360\n",
      "Total number of unique Title: 137622\n"
     ]
    }
   ],
   "source": [
    "print(\"Total number of data:\",song_df.shape[0])\n",
    "print(\"Total number of unique user:\",song_df[\"user_id\"].unique().shape[0])\n",
    "print(\"Total number of unique Songs:\",song_df[\"song_id\"].unique().shape[0])\n",
    "print(\"Total number of unique Artist:\",song_df[\"Artist Name\"].unique().shape[0])\n",
    "print(\"Total number of unique Title:\",song_df[\"Title\"].unique().shape[0])"
   ]
  },
  {
   "cell_type": "markdown",
   "id": "dfe956cf",
   "metadata": {},
   "source": [
    "# Most frequent User ID"
   ]
  },
  {
   "cell_type": "code",
   "execution_count": 20,
   "id": "50afe6ec",
   "metadata": {},
   "outputs": [
    {
     "data": {
      "text/plain": [
       "<AxesSubplot:>"
      ]
     },
     "execution_count": 20,
     "metadata": {},
     "output_type": "execute_result"
    },
    {
     "data": {
      "image/png": "[encoded data removed]",
      "text/plain": [
       "<Figure size 1440x720 with 1 Axes>"
      ]
     },
     "metadata": {
      "needs_background": "light"
     },
     "output_type": "display_data"
    }
   ],
   "source": [
    "from itertools import islice,cycle\n",
    "freq1 = song_df.loc[:,'user_id'].value_counts()[:20] \n",
    "my_colors = list(islice(cycle(['b', 'r', 'g', 'y', 'k']), None, len(freq1)))\n",
    "freq1.plot(kind=\"bar\",figsize=(20,10),stacked = True,color = my_colors)"
   ]
  },
  {
   "cell_type": "markdown",
   "id": "8d963225",
   "metadata": {},
   "source": [
    "# Grouping data using User ID"
   ]
  },
  {
   "cell_type": "code",
   "execution_count": 21,
   "id": "37f23d05",
   "metadata": {},
   "outputs": [
    {
     "data": {
      "text/plain": [
       "user_id\n",
       "090b841eaf56d343a26625c2c6d08b823927bc4f    1305\n",
       "938c2632d43eeadb8a83a7cc254d014f9cea6afe    1267\n",
       "1c5aa998482a40abfd020759e7d757eb6c510e72    1200\n",
       "c6150292374fb1dad89982367b3245dd5004c718    1192\n",
       "5a9375e46a7e9b869058c7bc0e820e00d77f3e0b    1184\n",
       "d1d845a92cd34456423e781512bdb502ca385b51    1180\n",
       "957440a77858369fb7a6bcc6fa408fc187d5bd7b    1150\n",
       "315103a41c2ced1143de0c2ba20de224800e6d89    1148\n",
       "22bb29714137fa47083963c30e1a26f1bf517e7d    1141\n",
       "bda891a59a96252cc0f5b1f63f2630692b490e37    1140\n",
       "b51eeda3c09e2426f2e52dca8444a8c0cab6265a    1119\n",
       "b371df81acfde601d157a99c50fa06f7b3f76a84    1038\n",
       "9d12c30de5d9975f621f95f512699989ac544410    1001\n",
       "7bb7949be3d91d27f1c5613bea01644fcad77f43     996\n",
       "a1cc4d088600df2db42e6a305974675ffe8c905d     951\n",
       "77867fcbd93f3bf47f478a797f3bfabb0f561ea8     926\n",
       "a86e68128c6a48d3392db22ce1151a3bdccf5fcf     912\n",
       "08879a07270b36aaa09923890b221fdef1e9849e     884\n",
       "9948794b0687c0b3cd2094845cb7915d55793492     884\n",
       "04383d89810d0113066c28b631097711d2550b04     867\n",
       "Name: PlayCount, dtype: int64"
      ]
     },
     "execution_count": 21,
     "metadata": {},
     "output_type": "execute_result"
    }
   ],
   "source": [
    "user_count = song_df.groupby('user_id')['PlayCount'].sum()\n",
    "user_count1 = user_count.sort_values(ascending = False).head(20)\n",
    "user_count1"
   ]
  },
  {
   "cell_type": "code",
   "execution_count": 22,
   "id": "704ba85f",
   "metadata": {},
   "outputs": [
    {
     "data": {
      "text/plain": [
       "user_id\n",
       "219c456aaa463013ec3e08ed10ab1b5cded1a46e    5\n",
       "13e24d4e0a2565607d5d1c5a734cff9c347044df    5\n",
       "be8429f24fc9d4a9c629d3807948c51e7a0a2f9b    5\n",
       "d431e054366a0fb5a9adf4c15728b8948857eb57    5\n",
       "46081c034ec6f930d5f14c9cae5a9dfbac6ec171    5\n",
       "Name: PlayCount, dtype: int64"
      ]
     },
     "execution_count": 22,
     "metadata": {},
     "output_type": "execute_result"
    }
   ],
   "source": [
    "user_count.sort_values(ascending=True).head()"
   ]
  },
  {
   "cell_type": "code",
   "execution_count": 23,
   "id": "81517091",
   "metadata": {},
   "outputs": [
    {
     "data": {
      "text/plain": [
       "<AxesSubplot:xlabel='user_id'>"
      ]
     },
     "execution_count": 23,
     "metadata": {},
     "output_type": "execute_result"
    },
    {
     "data": {
      "image/png": "[encoded data removed]",
      "text/plain": [
       "<Figure size 1440x720 with 1 Axes>"
      ]
     },
     "metadata": {
      "needs_background": "light"
     },
     "output_type": "display_data"
    }
   ],
   "source": [
    "user_count1.plot(kind=\"bar\",figsize=(20,10))"
   ]
  },
  {
   "cell_type": "markdown",
   "id": "3ab02695",
   "metadata": {},
   "source": [
    "# Most frequent Song ID"
   ]
  },
  {
   "cell_type": "code",
   "execution_count": 24,
   "id": "4010ec3f",
   "metadata": {},
   "outputs": [
    {
     "data": {
      "text/plain": [
       "<AxesSubplot:>"
      ]
     },
     "execution_count": 24,
     "metadata": {},
     "output_type": "execute_result"
    },
    {
     "data": {
      "image/png": "[encoded data removed]",
      "text/plain": [
       "<Figure size 1440x720 with 1 Axes>"
      ]
     },
     "metadata": {
      "needs_background": "light"
     },
     "output_type": "display_data"
    }
   ],
   "source": [
    "freq2 = song_df.loc[:,'song_id'].value_counts()[:20] \n",
    "my_colors = list(islice(cycle(['b', 'r', 'g', 'y', 'k']), None, len(freq2)))\n",
    "freq2.plot(kind=\"bar\",figsize=(20,10),stacked = True,color = my_colors)"
   ]
  },
  {
   "cell_type": "markdown",
   "id": "a102d328",
   "metadata": {},
   "source": [
    "# Grouping data using Song ID"
   ]
  },
  {
   "cell_type": "code",
   "execution_count": 25,
   "id": "46909368",
   "metadata": {},
   "outputs": [
    {
     "data": {
      "text/plain": [
       "song_id\n",
       "SOBONKR12A58A7A7E0    35432\n",
       "SOAUWYT12A81C206F1    33179\n",
       "SOSXLTC12AF72A7F54    24359\n",
       "SOFRQTD12A81C233C0    19454\n",
       "SOEGIYH12A6D4FC0E3    17115\n",
       "SOAXGDH12A8C13F8A1    14279\n",
       "SONYKOW12AB01849C9    12392\n",
       "SOVDSJC12A58A7A271    11610\n",
       "SOUFTBI12AB0183F65    10794\n",
       "SOHTKMO12AB01843B0    10515\n",
       "SOPUCYA12A8C13A694     9921\n",
       "SOOFYTN12A6D4F9B35     9685\n",
       "SOBOUPA12A6D4F81F1     8972\n",
       "SODJWHY12A8C142CCE     8718\n",
       "SOLFXKT12AB017E3E0     8093\n",
       "SOTCMDJ12A6D4F8528     7969\n",
       "SOFLJQZ12A6D4FADA6     7895\n",
       "SOTWNDJ12A8C143984     7331\n",
       "SOUVTSM12AC468F6A7     7210\n",
       "SOUNZHU12A8AE47481     7052\n",
       "Name: PlayCount, dtype: int64"
      ]
     },
     "execution_count": 25,
     "metadata": {},
     "output_type": "execute_result"
    }
   ],
   "source": [
    "song_count = song_df.groupby('song_id')['PlayCount'].sum()\n",
    "song_count1 = song_count.sort_values(ascending = False).head(20)\n",
    "song_count1"
   ]
  },
  {
   "cell_type": "code",
   "execution_count": 26,
   "id": "233150ab",
   "metadata": {},
   "outputs": [
    {
     "data": {
      "text/plain": [
       "song_id\n",
       "SOIDGCM12A81C2233D    1\n",
       "SOQIZHS12A8C13B4E0    1\n",
       "SOEGPVB12AB0188E0A    1\n",
       "SOEGPWH12A6D4F810C    1\n",
       "SOQIYOI12A81C21693    1\n",
       "Name: PlayCount, dtype: int64"
      ]
     },
     "execution_count": 26,
     "metadata": {},
     "output_type": "execute_result"
    }
   ],
   "source": [
    "song_count.sort_values(ascending=True).head()"
   ]
  },
  {
   "cell_type": "code",
   "execution_count": 27,
   "id": "5503e49f",
   "metadata": {},
   "outputs": [
    {
     "data": {
      "text/plain": [
       "<AxesSubplot:xlabel='song_id'>"
      ]
     },
     "execution_count": 27,
     "metadata": {},
     "output_type": "execute_result"
    },
    {
     "data": {
      "image/png": "[encoded data removed]",
      "text/plain": [
       "<Figure size 1440x720 with 1 Axes>"
      ]
     },
     "metadata": {
      "needs_background": "light"
     },
     "output_type": "display_data"
    }
   ],
   "source": [
    "song_count1.plot(kind=\"line\",figsize=(20,10))"
   ]
  },
  {
   "cell_type": "markdown",
   "id": "e63ab94b",
   "metadata": {},
   "source": [
    "# Very popular artist"
   ]
  },
  {
   "cell_type": "code",
   "execution_count": 28,
   "id": "786bef0f",
   "metadata": {},
   "outputs": [
    {
     "data": {
      "text/plain": [
       "<AxesSubplot:ylabel='Artist Name'>"
      ]
     },
     "execution_count": 28,
     "metadata": {},
     "output_type": "execute_result"
    },
    {
     "data": {
      "image/png": "[encoded data removed]",
      "text/plain": [
       "<Figure size 1440x720 with 1 Axes>"
      ]
     },
     "metadata": {},
     "output_type": "display_data"
    }
   ],
   "source": [
    "freq3 = song_df.loc[:,'Artist Name'].value_counts()[:20] \n",
    "freq3.plot(kind=\"pie\",figsize=(20,10),stacked = True)"
   ]
  },
  {
   "cell_type": "markdown",
   "id": "6a40e9d0",
   "metadata": {},
   "source": [
    "# Grouping songs using artist name"
   ]
  },
  {
   "cell_type": "code",
   "execution_count": 29,
   "id": "db7f5e58",
   "metadata": {},
   "outputs": [
    {
     "data": {
      "text/plain": [
       "Artist Name\n",
       "Kings Of Leon                                                             35857\n",
       "Dwight Yoakam                                                             35688\n",
       "Björk                                                                     35210\n",
       "Coldplay                                                                  32135\n",
       "Florence + The Machine                                                    28224\n",
       "Justin Bieber                                                             26133\n",
       "Alliance Ethnik                                                           21603\n",
       "Train                                                                     21356\n",
       "OneRepublic                                                               20802\n",
       "Harmonia                                                                  19461\n",
       "Jack Johnson                                                              18333\n",
       "Linkin Park                                                               18256\n",
       "Eminem                                                                    17681\n",
       "The Black Keys                                                            17366\n",
       "Barry Tuckwell/Academy of St Martin-in-the-Fields/Sir Neville Marriner    17124\n",
       "Muse                                                                      17031\n",
       "Taylor Swift                                                              16547\n",
       "Metallica                                                                 16105\n",
       "John Mayer                                                                14979\n",
       "Radiohead                                                                 14010\n",
       "Name: PlayCount, dtype: int64"
      ]
     },
     "execution_count": 29,
     "metadata": {},
     "output_type": "execute_result"
    }
   ],
   "source": [
    "artist = song_df.groupby('Artist Name')['PlayCount'].sum()\n",
    "artist1 = artist.sort_values(ascending=False).head(20)\n",
    "artist1"
   ]
  },
  {
   "cell_type": "code",
   "execution_count": 30,
   "id": "95fad972",
   "metadata": {},
   "outputs": [
    {
     "data": {
      "text/plain": [
       "Artist Name\n",
       "Özlem Tekin            1\n",
       "Freeway / Rick Ross    1\n",
       "Bjørn Afzelius         1\n",
       "Bjørn Berge            1\n",
       "Scott Reeder           1\n",
       "Name: PlayCount, dtype: int64"
      ]
     },
     "execution_count": 30,
     "metadata": {},
     "output_type": "execute_result"
    }
   ],
   "source": [
    "artist.sort_values(ascending=True).head()"
   ]
  },
  {
   "cell_type": "code",
   "execution_count": 31,
   "id": "1474cd74",
   "metadata": {},
   "outputs": [
    {
     "data": {
      "text/plain": [
       "<AxesSubplot:ylabel='PlayCount'>"
      ]
     },
     "execution_count": 31,
     "metadata": {},
     "output_type": "execute_result"
    },
    {
     "data": {
      "image/png": "[encoded data removed]",
      "text/plain": [
       "<Figure size 1440x720 with 1 Axes>"
      ]
     },
     "metadata": {},
     "output_type": "display_data"
    }
   ],
   "source": [
    "artist1.plot(kind=\"pie\",figsize=(20,10))"
   ]
  },
  {
   "cell_type": "markdown",
   "id": "97df9862",
   "metadata": {},
   "source": [
    "# Most popular relase"
   ]
  },
  {
   "cell_type": "code",
   "execution_count": 32,
   "id": "f7c67918",
   "metadata": {},
   "outputs": [
    {
     "data": {
      "text/plain": [
       "<AxesSubplot:>"
      ]
     },
     "execution_count": 32,
     "metadata": {},
     "output_type": "execute_result"
    },
    {
     "data": {
      "image/png": "[encoded data removed]",
      "text/plain": [
       "<Figure size 1440x720 with 1 Axes>"
      ]
     },
     "metadata": {
      "needs_background": "light"
     },
     "output_type": "display_data"
    }
   ],
   "source": [
    "freq2 = song_df.loc[:,'Title'].value_counts()[:20] \n",
    "my_colors = list(islice(cycle(['b', 'r', 'g', 'y', 'k']), None, len(freq2)))\n",
    "freq2.plot(kind=\"bar\",figsize=(20,10),stacked = True,color = my_colors)"
   ]
  },
  {
   "cell_type": "markdown",
   "id": "85fd7c74",
   "metadata": {},
   "source": [
    "# Grouping songs using title"
   ]
  },
  {
   "cell_type": "code",
   "execution_count": 33,
   "id": "c41923ac",
   "metadata": {},
   "outputs": [
    {
     "data": {
      "text/plain": [
       "Title\n",
       "You're The One                                                         35738\n",
       "Undo                                                                   33179\n",
       "Revelry                                                                24359\n",
       "Sehr kosmisch                                                          19454\n",
       "Horn Concerto No. 4 in E flat K495: II. Romance (Andante cantabile)    17115\n",
       "Dog Days Are Over (Radio Edit)                                         14279\n",
       "Secrets                                                                12492\n",
       "Ain't Misbehavin                                                       11610\n",
       "Invalid                                                                10794\n",
       "Catch You Baby (Steve Pitron & Max Sanna Radio Edit)                   10515\n",
       "Canada                                                                  9927\n",
       "Représente                                                              9685\n",
       "Sincerité Et Jalousie                                                   8972\n",
       "Hey_ Soul Sister                                                        8718\n",
       "Fireflies                                                               8155\n",
       "The Gift                                                                7999\n",
       "Tive Sim                                                                7896\n",
       "Marry Me                                                                7364\n",
       "Drop The World                                                          7210\n",
       "I CAN'T GET STARTED                                                     7052\n",
       "Name: PlayCount, dtype: int64"
      ]
     },
     "execution_count": 33,
     "metadata": {},
     "output_type": "execute_result"
    }
   ],
   "source": [
    "title = song_df.groupby('Title')['PlayCount'].sum()\n",
    "title1 = title.sort_values(ascending = False).head(20)\n",
    "title1"
   ]
  },
  {
   "cell_type": "code",
   "execution_count": 34,
   "id": "189d7db8",
   "metadata": {},
   "outputs": [
    {
     "data": {
      "text/plain": [
       "Title\n",
       "Love Has A Diameter    1\n",
       "Las Dos Nenas          1\n",
       "Las Floried            1\n",
       "Las Guerras            1\n",
       "Las Isabeles           1\n",
       "Name: PlayCount, dtype: int64"
      ]
     },
     "execution_count": 34,
     "metadata": {},
     "output_type": "execute_result"
    }
   ],
   "source": [
    "title.sort_values(ascending = True).head()"
   ]
  },
  {
   "cell_type": "code",
   "execution_count": 35,
   "id": "81412e65",
   "metadata": {},
   "outputs": [
    {
     "data": {
      "image/png": "[encoded data removed]",
      "text/plain": [
       "<Figure size 1440x576 with 1 Axes>"
      ]
     },
     "metadata": {
      "needs_background": "light"
     },
     "output_type": "display_data"
    }
   ],
   "source": [
    "plt.figure(figsize=(20,8))\n",
    "sns.barplot(title1.index,title1.values)\n",
    "plt.xticks(rotation=90)\n",
    "plt.show()"
   ]
  },
  {
   "cell_type": "markdown",
   "id": "4c5ba704",
   "metadata": {},
   "source": [
    "# Popular artist and thier songs\n",
    "**1.King of leon**"
   ]
  },
  {
   "cell_type": "code",
   "execution_count": 36,
   "id": "914f730f",
   "metadata": {},
   "outputs": [
    {
     "name": "stdout",
     "output_type": "stream",
     "text": [
      "['Genius' 'Revelry' 'Use Somebody' 'Knocked Up' 'Closer'\n",
      " \"Molly's Chambers\" 'Ragoo' 'Dusty' 'Manhattan' 'Camaro' 'I Want You'\n",
      " 'Cold Desert' 'Holy Roller Novocaine' 'Arizona' 'McFearless'\n",
      " 'Be Somebody' 'Day Old Blues' 'Rememo' 'Happy Alone' 'King Of The Rodeo'\n",
      " 'Milk' 'Pistol Of Fire' 'The Runner' 'Velvet Snow' \"Joe's Head\" 'Charmer'\n",
      " 'California Waiting' 'Trunk' 'Trani' 'Where Nobody Knows' 'Fans'\n",
      " 'Slow Night_ So Long' 'Soft' 'Razz' 'Taper Jean Girl' 'Black Thumbnail'\n",
      " 'Beneath The Surface' 'Frontier City' 'Four Kicks']\n"
     ]
    }
   ],
   "source": [
    "pop1 = song_df['Artist Name']=='Kings Of Leon'\n",
    "pop_1 = song_df[pop1]\n",
    "a = pop_1['Title'].unique()\n",
    "print(a)"
   ]
  },
  {
   "cell_type": "code",
   "execution_count": 37,
   "id": "5f0c6bc0",
   "metadata": {},
   "outputs": [
    {
     "name": "stdout",
     "output_type": "stream",
     "text": [
      "Number of songs created by King of Leon: 39\n"
     ]
    }
   ],
   "source": [
    "print(\"Number of songs created by King of Leon:\",len(a))"
   ]
  },
  {
   "cell_type": "markdown",
   "id": "ab766e78",
   "metadata": {},
   "source": [
    "**2.Dwight Yoakam**     "
   ]
  },
  {
   "cell_type": "code",
   "execution_count": 38,
   "id": "deaca121",
   "metadata": {},
   "outputs": [
    {
     "name": "stdout",
     "output_type": "stream",
     "text": [
      "[\"You're The One\" 'Long White Cadillac (2006 Remastered LP Version)'\n",
      " 'Rocky Road Blues (Live at the Roxy-1986) (Previously Unissued)'\n",
      " 'One More Night (LP Version)' 'Nothing (LP Version)'\n",
      " 'Pocket Of A Clown (2006 Remastered LP Version)'\n",
      " \"Traveler's Lantern (LP Version)\" \"That's Okay (LP Version)\"\n",
      " 'This Much I Know (LP Version)'\n",
      " \"Readin'_ Rightin'_ Rt. 23 (Acoustic LP Version)\"\n",
      " 'Louisville (2006 Remastered LP Version)'\n",
      " 'Mystery Train (2006 Remastered Live Version)' 'Near You (LP Version)'\n",
      " 'Ring Of Fire (Album Version) (2006 Remastered)' 'Listen (LP Version)'\n",
      " 'Cattle Call' 'Baby Why Not (LP Version)'\n",
      " \"What I Don't Know (LP Version)\"]\n"
     ]
    }
   ],
   "source": [
    "pop2 = song_df['Artist Name']=='Dwight Yoakam'\n",
    "pop_2 = song_df[pop2]\n",
    "b = pop_2['Title'].unique()\n",
    "print(b)"
   ]
  },
  {
   "cell_type": "code",
   "execution_count": 39,
   "id": "dcf5b9a3",
   "metadata": {},
   "outputs": [
    {
     "name": "stdout",
     "output_type": "stream",
     "text": [
      "Number of songs created by Dwight Yoakam: 18\n"
     ]
    }
   ],
   "source": [
    "print(\"Number of songs created by Dwight Yoakam:\",len(b))"
   ]
  },
  {
   "cell_type": "markdown",
   "id": "88b4fbf7",
   "metadata": {},
   "source": [
    "**3.Björk**"
   ]
  },
  {
   "cell_type": "code",
   "execution_count": 40,
   "id": "d5495332",
   "metadata": {},
   "outputs": [
    {
     "name": "stdout",
     "output_type": "stream",
     "text": [
      "['Undo' \"It's Oh So Quiet\" 'Army of Me' 'Cover Me' 'Human Behaviour'\n",
      " 'Come To Me' 'Possibly Maybe' 'Scary' 'Big Time Sensuality'\n",
      " 'The Modern Things' 'Where Is The Line' 'Hidden Place' 'Harm of Will'\n",
      " 'Alarm Call' 'The Anchor Song' 'Unravel' 'Isobel' 'Show Me Forgiveness'\n",
      " 'Cocoon' 'I Remember You' 'Submarine' 'Ancestors' \"Mouth's Cradle\"\n",
      " \"It's Not Up to You\" 'Scatterheart' 'Headphones'\n",
      " 'Dull Flame Of Desire Mark Stent Album Mix' 'Unison'\n",
      " 'Violently Happy (Fluke - Even Tempered)' 'Generous Palmstroke'\n",
      " 'Mother Heroic' 'There Is More to Life Than This' 'Glora'\n",
      " 'In the Musicals' 'Army Of Me (ABA All-Stars Mix)'\n",
      " 'Violently Happy (Massey Mix - Long)' 'Öll Birtan']\n"
     ]
    }
   ],
   "source": [
    "pop3 = song_df['Artist Name']=='Björk'\n",
    "pop_3 = song_df[pop3]\n",
    "c = pop_3['Title'].unique()\n",
    "print(c)"
   ]
  },
  {
   "cell_type": "code",
   "execution_count": 41,
   "id": "5466e51f",
   "metadata": {},
   "outputs": [
    {
     "name": "stdout",
     "output_type": "stream",
     "text": [
      "Number of songs created by Bjork: 37\n"
     ]
    }
   ],
   "source": [
    "print(\"Number of songs created by Bjork:\",len(c))"
   ]
  },
  {
   "cell_type": "markdown",
   "id": "172a3fb8",
   "metadata": {},
   "source": [
    "**4.Coldplay**   "
   ]
  },
  {
   "cell_type": "code",
   "execution_count": 42,
   "id": "0280c372",
   "metadata": {},
   "outputs": [
    {
     "name": "stdout",
     "output_type": "stream",
     "text": [
      "['Yellow' 'The Scientist' 'Fix You' \"Don't Panic\" 'Sparks' 'Clocks'\n",
      " 'Life In Technicolor ii' 'Such A Rush' 'Fix You (Live)' 'Speed Of Sound'\n",
      " 'Lost!' 'God Put A Smile Upon Your Face' 'Brothers & Sisters'\n",
      " 'A Rush Of Blood To The Head' 'Clocks (Live In Sydney)' 'One I Love'\n",
      " 'For You' 'You Only Live Twice (Live From Norway)' 'Shiver'\n",
      " 'Swallowed In The Sea' 'In My Place' 'Postcards From Far Away'\n",
      " 'Glass Of Water' \"Things I Don't Understand\" 'Strawberry Swing' '42'\n",
      " 'Til Kingdom Come' 'The Goldrush' 'X & Y' 'Life In Technicolor'\n",
      " 'We Never Change' 'Bigger Stronger' 'What If' 'Trouble'\n",
      " \"Everything's Not Lost (Includes Hidden Track 'Life Is For Living')\"\n",
      " 'Only Superstition' 'Politik' 'Careful Where You Stand' 'Warning Sign'\n",
      " 'See You Soon' 'Spies' 'Cemeteries Of London' 'A Whisper' 'A Message'\n",
      " 'Square One' 'Low' 'I Bloom Blaum' 'I Ran Away'\n",
      " 'The World Turned Upside Down' 'Talk (Junkie XL Remix)'\n",
      " 'Help Is Round The Corner' 'Daylight' 'Yes' 'High Speed'\n",
      " \"Now My Feet Won't Touch The Ground\" 'Twisted Logic' 'Violet Hill'\n",
      " 'White Shadows' 'See You Soon (Live In Sydney)' 'Proof' 'Amsterdam'\n",
      " '1.36' 'Shiver (Live In Sydney)' \"Everything's Not Lost (Live In Sydney)\"\n",
      " 'A Rush Of Blood To The Head (Live In Sydney)' 'Yellow (Live In Sydney)'\n",
      " 'Talk (Francois K Dub)' 'Sleeping Sun'\n",
      " 'Pour Me (Live At The Hollywood Bowl)' 'Lost?' 'Moses (Live In Sydney)'\n",
      " 'Life In Technicolor ii (Live @ The O2_ London)'\n",
      " 'In My Place (Live In Sydney)' 'Talk (Thin White Duke Mix)'\n",
      " 'Speed Of Sound (Live)' 'Amsterdam (Live In Sydney)']\n"
     ]
    }
   ],
   "source": [
    "pop4 = song_df['Artist Name']=='Coldplay'\n",
    "pop_4 = song_df[pop4]\n",
    "d = pop_4['Title'].unique()\n",
    "print(d)"
   ]
  },
  {
   "cell_type": "code",
   "execution_count": 43,
   "id": "d9f3140e",
   "metadata": {},
   "outputs": [
    {
     "name": "stdout",
     "output_type": "stream",
     "text": [
      "Number of songs created by coldplay: 76\n"
     ]
    }
   ],
   "source": [
    "print(\"Number of songs created by coldplay:\",len(d))"
   ]
  },
  {
   "cell_type": "markdown",
   "id": "442cf5e3",
   "metadata": {},
   "source": [
    "**5.Florence + The Machine** "
   ]
  },
  {
   "cell_type": "code",
   "execution_count": 44,
   "id": "b1ff1d37",
   "metadata": {},
   "outputs": [
    {
     "name": "stdout",
     "output_type": "stream",
     "text": [
      "['Dog Days Are Over (Radio Edit)' 'Cosmic Love'\n",
      " 'Rabbit Heart (Raise It Up)' \"You've Got The Love\" 'Kiss With A Fist'\n",
      " \"I'm Not Calling You A Liar\" 'My Boy Builds Coffins'\n",
      " 'Dog Days Are Over (Demo)' 'Hardest Of Hearts' 'Bird Song'\n",
      " 'Between Two Lungs' 'Are You Hurting The One You Love?' 'Falling'\n",
      " 'Hospital Beds' 'Bird Song Intro' 'Ghosts (Demo)'\n",
      " 'Girl With One Eye (Bayou Percussion Version)']\n"
     ]
    }
   ],
   "source": [
    "pop5 = song_df['Artist Name']=='Florence + The Machine'\n",
    "pop_5 = song_df[pop5]\n",
    "e = pop_5['Title'].unique()\n",
    "print(e)"
   ]
  },
  {
   "cell_type": "code",
   "execution_count": 45,
   "id": "be3bdeb3",
   "metadata": {},
   "outputs": [
    {
     "name": "stdout",
     "output_type": "stream",
     "text": [
      "Number of songs created by Florence +The machine: 17\n"
     ]
    }
   ],
   "source": [
    "print(\"Number of songs created by Florence +The machine:\",len(e))"
   ]
  },
  {
   "cell_type": "markdown",
   "id": "3b0b39e6",
   "metadata": {},
   "source": [
    "# Showing top 10 artists with maximum average per song"
   ]
  },
  {
   "cell_type": "code",
   "execution_count": 46,
   "id": "5eb5b926",
   "metadata": {},
   "outputs": [
    {
     "data": {
      "text/html": [
       "<div>\n",
       "<style scoped>\n",
       "    .dataframe tbody tr th:only-of-type {\n",
       "        vertical-align: middle;\n",
       "    }\n",
       "\n",
       "    .dataframe tbody tr th {\n",
       "        vertical-align: top;\n",
       "    }\n",
       "\n",
       "    .dataframe thead th {\n",
       "        text-align: right;\n",
       "    }\n",
       "</style>\n",
       "<table border=\"1\" class=\"dataframe\">\n",
       "  <thead>\n",
       "    <tr style=\"text-align: right;\">\n",
       "      <th></th>\n",
       "      <th>PlayCount</th>\n",
       "    </tr>\n",
       "    <tr>\n",
       "      <th>Artist Name</th>\n",
       "      <th></th>\n",
       "    </tr>\n",
       "  </thead>\n",
       "  <tbody>\n",
       "    <tr>\n",
       "      <th>Kilgore</th>\n",
       "      <td>462.0</td>\n",
       "    </tr>\n",
       "    <tr>\n",
       "      <th>Merle Travis And Joe Maphis</th>\n",
       "      <td>131.0</td>\n",
       "    </tr>\n",
       "    <tr>\n",
       "      <th>The Family Stand</th>\n",
       "      <td>125.0</td>\n",
       "    </tr>\n",
       "    <tr>\n",
       "      <th>Giuseppe Di Stefano</th>\n",
       "      <td>117.0</td>\n",
       "    </tr>\n",
       "    <tr>\n",
       "      <th>Mousse T.</th>\n",
       "      <td>112.0</td>\n",
       "    </tr>\n",
       "    <tr>\n",
       "      <th>The Gossip / Tracy and the Plastics</th>\n",
       "      <td>105.0</td>\n",
       "    </tr>\n",
       "    <tr>\n",
       "      <th>Ruddy Thomas &amp; Welton Irie</th>\n",
       "      <td>87.0</td>\n",
       "    </tr>\n",
       "    <tr>\n",
       "      <th>Hairy Diamond</th>\n",
       "      <td>85.5</td>\n",
       "    </tr>\n",
       "    <tr>\n",
       "      <th>Electrocute (featuring Paul Pm)</th>\n",
       "      <td>84.0</td>\n",
       "    </tr>\n",
       "    <tr>\n",
       "      <th>Kira Neris</th>\n",
       "      <td>81.0</td>\n",
       "    </tr>\n",
       "  </tbody>\n",
       "</table>\n",
       "</div>"
      ],
      "text/plain": [
       "                                     PlayCount\n",
       "Artist Name                                   \n",
       "Kilgore                                  462.0\n",
       "Merle Travis And Joe Maphis              131.0\n",
       "The Family Stand                         125.0\n",
       "Giuseppe Di Stefano                      117.0\n",
       "Mousse T.                                112.0\n",
       "The Gossip / Tracy and the Plastics      105.0\n",
       "Ruddy Thomas & Welton Irie                87.0\n",
       "Hairy Diamond                             85.5\n",
       "Electrocute (featuring Paul Pm)           84.0\n",
       "Kira Neris                                81.0"
      ]
     },
     "execution_count": 46,
     "metadata": {},
     "output_type": "execute_result"
    }
   ],
   "source": [
    "max_art = song_df[['Artist Name','PlayCount']].groupby('Artist Name').mean().sort_values(by='PlayCount',ascending=False)[:10]\n",
    "max_art"
   ]
  },
  {
   "cell_type": "markdown",
   "id": "0a841a31",
   "metadata": {},
   "source": [
    "# Songs heard by top user"
   ]
  },
  {
   "cell_type": "code",
   "execution_count": 47,
   "id": "b0e9e70e",
   "metadata": {},
   "outputs": [
    {
     "data": {
      "text/html": [
       "<div>\n",
       "<style scoped>\n",
       "    .dataframe tbody tr th:only-of-type {\n",
       "        vertical-align: middle;\n",
       "    }\n",
       "\n",
       "    .dataframe tbody tr th {\n",
       "        vertical-align: top;\n",
       "    }\n",
       "\n",
       "    .dataframe thead th {\n",
       "        text-align: right;\n",
       "    }\n",
       "</style>\n",
       "<table border=\"1\" class=\"dataframe\">\n",
       "  <thead>\n",
       "    <tr style=\"text-align: right;\">\n",
       "      <th></th>\n",
       "      <th>user_id</th>\n",
       "      <th>song_id</th>\n",
       "      <th>PlayCount</th>\n",
       "      <th>Artist Name</th>\n",
       "      <th>Title</th>\n",
       "    </tr>\n",
       "  </thead>\n",
       "  <tbody>\n",
       "    <tr>\n",
       "      <th>259608</th>\n",
       "      <td>7d90be8dfdbde170f036ce8a4b915440137cb11c</td>\n",
       "      <td>SOVFEGN12AF72A3369</td>\n",
       "      <td>1</td>\n",
       "      <td>A.A. Bondy</td>\n",
       "      <td>Killed Myself When I Was Young</td>\n",
       "    </tr>\n",
       "    <tr>\n",
       "      <th>259602</th>\n",
       "      <td>7d90be8dfdbde170f036ce8a4b915440137cb11c</td>\n",
       "      <td>SOQBYQC12A8C143F2A</td>\n",
       "      <td>1</td>\n",
       "      <td>Alceu Valença</td>\n",
       "      <td>No Balanço Da Canoa</td>\n",
       "    </tr>\n",
       "    <tr>\n",
       "      <th>259582</th>\n",
       "      <td>7d90be8dfdbde170f036ce8a4b915440137cb11c</td>\n",
       "      <td>SOKXERP12A6D4F9895</td>\n",
       "      <td>1</td>\n",
       "      <td>Ana Caram</td>\n",
       "      <td>Overjoyed / Ancora</td>\n",
       "    </tr>\n",
       "    <tr>\n",
       "      <th>259621</th>\n",
       "      <td>7d90be8dfdbde170f036ce8a4b915440137cb11c</td>\n",
       "      <td>SODHITM12A58A79070</td>\n",
       "      <td>1</td>\n",
       "      <td>Baby Huey &amp; The Baby Sitters</td>\n",
       "      <td>Listen To Me (LP Version)</td>\n",
       "    </tr>\n",
       "    <tr>\n",
       "      <th>259593</th>\n",
       "      <td>7d90be8dfdbde170f036ce8a4b915440137cb11c</td>\n",
       "      <td>SOPRYVX12AF72A5B7F</td>\n",
       "      <td>1</td>\n",
       "      <td>Bad Manners</td>\n",
       "      <td>Special Brew</td>\n",
       "    </tr>\n",
       "    <tr>\n",
       "      <th>259581</th>\n",
       "      <td>7d90be8dfdbde170f036ce8a4b915440137cb11c</td>\n",
       "      <td>SOECRTE12A8C14296D</td>\n",
       "      <td>1</td>\n",
       "      <td>Blue October</td>\n",
       "      <td>Blue Skies</td>\n",
       "    </tr>\n",
       "    <tr>\n",
       "      <th>259591</th>\n",
       "      <td>7d90be8dfdbde170f036ce8a4b915440137cb11c</td>\n",
       "      <td>SOGYTIV12A6D4FBF10</td>\n",
       "      <td>1</td>\n",
       "      <td>Carla Bruni</td>\n",
       "      <td>Promises Like Pie-Crust (Album)</td>\n",
       "    </tr>\n",
       "    <tr>\n",
       "      <th>259598</th>\n",
       "      <td>7d90be8dfdbde170f036ce8a4b915440137cb11c</td>\n",
       "      <td>SOTGHQR12A8C1406C5</td>\n",
       "      <td>1</td>\n",
       "      <td>Chris Bathgate</td>\n",
       "      <td>Coda</td>\n",
       "    </tr>\n",
       "    <tr>\n",
       "      <th>259579</th>\n",
       "      <td>7d90be8dfdbde170f036ce8a4b915440137cb11c</td>\n",
       "      <td>SOTIFKV12A6D4FAD83</td>\n",
       "      <td>2</td>\n",
       "      <td>D-Flame Feat. Wayne Marshall</td>\n",
       "      <td>Call Me Crazy</td>\n",
       "    </tr>\n",
       "    <tr>\n",
       "      <th>259620</th>\n",
       "      <td>7d90be8dfdbde170f036ce8a4b915440137cb11c</td>\n",
       "      <td>SODZVMN12AC3DF81C6</td>\n",
       "      <td>1</td>\n",
       "      <td>Datarock</td>\n",
       "      <td>Give It Up (Kissy Sell Out's 4x4 Cello Mix)</td>\n",
       "    </tr>\n",
       "    <tr>\n",
       "      <th>259609</th>\n",
       "      <td>7d90be8dfdbde170f036ce8a4b915440137cb11c</td>\n",
       "      <td>SOIIUPO12A6D4F7EA8</td>\n",
       "      <td>2</td>\n",
       "      <td>Dion &amp; The Belmonts</td>\n",
       "      <td>A Teenager In Love</td>\n",
       "    </tr>\n",
       "    <tr>\n",
       "      <th>259583</th>\n",
       "      <td>7d90be8dfdbde170f036ce8a4b915440137cb11c</td>\n",
       "      <td>SOJAMRN12AB018BA2B</td>\n",
       "      <td>5</td>\n",
       "      <td>Eartha Kitt</td>\n",
       "      <td>Let's Do It_ Let's Fall In Love</td>\n",
       "    </tr>\n",
       "    <tr>\n",
       "      <th>259612</th>\n",
       "      <td>7d90be8dfdbde170f036ce8a4b915440137cb11c</td>\n",
       "      <td>SOQBRAQ12A58A7D473</td>\n",
       "      <td>5</td>\n",
       "      <td>Eels</td>\n",
       "      <td>My Beloved Monster</td>\n",
       "    </tr>\n",
       "    <tr>\n",
       "      <th>259605</th>\n",
       "      <td>7d90be8dfdbde170f036ce8a4b915440137cb11c</td>\n",
       "      <td>SOQDYRL12A8C13211D</td>\n",
       "      <td>1</td>\n",
       "      <td>Glenn Lewis</td>\n",
       "      <td>Don't You Forget It</td>\n",
       "    </tr>\n",
       "    <tr>\n",
       "      <th>259601</th>\n",
       "      <td>7d90be8dfdbde170f036ce8a4b915440137cb11c</td>\n",
       "      <td>SOBYWZZ12A58A7B90E</td>\n",
       "      <td>1</td>\n",
       "      <td>Hadag Nachash</td>\n",
       "      <td>Gan Haedden (Edden)</td>\n",
       "    </tr>\n",
       "    <tr>\n",
       "      <th>259618</th>\n",
       "      <td>7d90be8dfdbde170f036ce8a4b915440137cb11c</td>\n",
       "      <td>SOAPEQV12A8C13CD31</td>\n",
       "      <td>1</td>\n",
       "      <td>Hird</td>\n",
       "      <td>Getting Closer</td>\n",
       "    </tr>\n",
       "    <tr>\n",
       "      <th>259607</th>\n",
       "      <td>7d90be8dfdbde170f036ce8a4b915440137cb11c</td>\n",
       "      <td>SOMDZLO12AF729A7C1</td>\n",
       "      <td>2</td>\n",
       "      <td>In Flames</td>\n",
       "      <td>Artifacts of the black rain</td>\n",
       "    </tr>\n",
       "    <tr>\n",
       "      <th>259594</th>\n",
       "      <td>7d90be8dfdbde170f036ce8a4b915440137cb11c</td>\n",
       "      <td>SOWVLZC12AB017F4FB</td>\n",
       "      <td>5</td>\n",
       "      <td>Insane Clown Posse</td>\n",
       "      <td>Out</td>\n",
       "    </tr>\n",
       "    <tr>\n",
       "      <th>259624</th>\n",
       "      <td>7d90be8dfdbde170f036ce8a4b915440137cb11c</td>\n",
       "      <td>SOXHIDK12A58A7CFB3</td>\n",
       "      <td>1</td>\n",
       "      <td>Jadakiss / Swizz Beatz / OJ Da Juiceman</td>\n",
       "      <td>Who's Real</td>\n",
       "    </tr>\n",
       "    <tr>\n",
       "      <th>259622</th>\n",
       "      <td>7d90be8dfdbde170f036ce8a4b915440137cb11c</td>\n",
       "      <td>SOMHUFR12A8C14179D</td>\n",
       "      <td>1</td>\n",
       "      <td>Klaus Lage</td>\n",
       "      <td>Ab Jetzt Nicht Mehr</td>\n",
       "    </tr>\n",
       "    <tr>\n",
       "      <th>259600</th>\n",
       "      <td>7d90be8dfdbde170f036ce8a4b915440137cb11c</td>\n",
       "      <td>SOACEQF12A58A7B70E</td>\n",
       "      <td>1</td>\n",
       "      <td>La Portuaria</td>\n",
       "      <td>Escenas De La Vida(En Vivo)</td>\n",
       "    </tr>\n",
       "    <tr>\n",
       "      <th>259596</th>\n",
       "      <td>7d90be8dfdbde170f036ce8a4b915440137cb11c</td>\n",
       "      <td>SOEXMJG12A8C13EC18</td>\n",
       "      <td>1</td>\n",
       "      <td>Led Zeppelin</td>\n",
       "      <td>Ten Years Gone  (Album Version)</td>\n",
       "    </tr>\n",
       "    <tr>\n",
       "      <th>259592</th>\n",
       "      <td>7d90be8dfdbde170f036ce8a4b915440137cb11c</td>\n",
       "      <td>SOQXDUU12A6310E836</td>\n",
       "      <td>1</td>\n",
       "      <td>Marvin Gaye</td>\n",
       "      <td>I Want You</td>\n",
       "    </tr>\n",
       "    <tr>\n",
       "      <th>259586</th>\n",
       "      <td>7d90be8dfdbde170f036ce8a4b915440137cb11c</td>\n",
       "      <td>SOOEEPE12A8AE459A4</td>\n",
       "      <td>2</td>\n",
       "      <td>Metallica</td>\n",
       "      <td>The Unforgiven III</td>\n",
       "    </tr>\n",
       "    <tr>\n",
       "      <th>259611</th>\n",
       "      <td>7d90be8dfdbde170f036ce8a4b915440137cb11c</td>\n",
       "      <td>SOWZREA12A6701D93D</td>\n",
       "      <td>1</td>\n",
       "      <td>Method Man / Busta Rhymes</td>\n",
       "      <td>What's Happenin'</td>\n",
       "    </tr>\n",
       "    <tr>\n",
       "      <th>259617</th>\n",
       "      <td>7d90be8dfdbde170f036ce8a4b915440137cb11c</td>\n",
       "      <td>SOLZTYD12A8C143215</td>\n",
       "      <td>1</td>\n",
       "      <td>Mischa Daniels</td>\n",
       "      <td>Another Place</td>\n",
       "    </tr>\n",
       "    <tr>\n",
       "      <th>259599</th>\n",
       "      <td>7d90be8dfdbde170f036ce8a4b915440137cb11c</td>\n",
       "      <td>SOOCQDM12A8C140869</td>\n",
       "      <td>1</td>\n",
       "      <td>Mungo Jerry</td>\n",
       "      <td>In The Summertime</td>\n",
       "    </tr>\n",
       "    <tr>\n",
       "      <th>259578</th>\n",
       "      <td>7d90be8dfdbde170f036ce8a4b915440137cb11c</td>\n",
       "      <td>SOSLQGG12A6D4F5045</td>\n",
       "      <td>1</td>\n",
       "      <td>Nevermore</td>\n",
       "      <td>Matricide</td>\n",
       "    </tr>\n",
       "    <tr>\n",
       "      <th>259576</th>\n",
       "      <td>7d90be8dfdbde170f036ce8a4b915440137cb11c</td>\n",
       "      <td>SOMPGPP12A6BD55D5F</td>\n",
       "      <td>5</td>\n",
       "      <td>Nine Inch Nails</td>\n",
       "      <td>Vessel</td>\n",
       "    </tr>\n",
       "    <tr>\n",
       "      <th>259625</th>\n",
       "      <td>7d90be8dfdbde170f036ce8a4b915440137cb11c</td>\n",
       "      <td>SOHKZPT12AB0183E4B</td>\n",
       "      <td>2</td>\n",
       "      <td>Okkervil River</td>\n",
       "      <td>Love To A Monster</td>\n",
       "    </tr>\n",
       "    <tr>\n",
       "      <th>259626</th>\n",
       "      <td>7d90be8dfdbde170f036ce8a4b915440137cb11c</td>\n",
       "      <td>SOJSQYL12A81C23901</td>\n",
       "      <td>4</td>\n",
       "      <td>Onar</td>\n",
       "      <td>Xehasmeni Melodia</td>\n",
       "    </tr>\n",
       "    <tr>\n",
       "      <th>259588</th>\n",
       "      <td>7d90be8dfdbde170f036ce8a4b915440137cb11c</td>\n",
       "      <td>SOYYBHE12A6BD53865</td>\n",
       "      <td>1</td>\n",
       "      <td>Ours</td>\n",
       "      <td>La Maison De Mes Parents (Edit)</td>\n",
       "    </tr>\n",
       "    <tr>\n",
       "      <th>259589</th>\n",
       "      <td>7d90be8dfdbde170f036ce8a4b915440137cb11c</td>\n",
       "      <td>SOVOJVL12A6D4F93C1</td>\n",
       "      <td>2</td>\n",
       "      <td>Paolo Nutini</td>\n",
       "      <td>Rewind [Album Version]</td>\n",
       "    </tr>\n",
       "    <tr>\n",
       "      <th>259585</th>\n",
       "      <td>7d90be8dfdbde170f036ce8a4b915440137cb11c</td>\n",
       "      <td>SOAXJHW12A81C21E1F</td>\n",
       "      <td>2</td>\n",
       "      <td>Paramore</td>\n",
       "      <td>Misery Business (Single Version)</td>\n",
       "    </tr>\n",
       "    <tr>\n",
       "      <th>259575</th>\n",
       "      <td>7d90be8dfdbde170f036ce8a4b915440137cb11c</td>\n",
       "      <td>SOKNWRZ12A8C13BF62</td>\n",
       "      <td>1</td>\n",
       "      <td>Postal Service</td>\n",
       "      <td>Natural Anthem (Album)</td>\n",
       "    </tr>\n",
       "    <tr>\n",
       "      <th>259610</th>\n",
       "      <td>7d90be8dfdbde170f036ce8a4b915440137cb11c</td>\n",
       "      <td>SOCXEKQ12AAF3B5490</td>\n",
       "      <td>1</td>\n",
       "      <td>Rammstein</td>\n",
       "      <td>Stripped</td>\n",
       "    </tr>\n",
       "    <tr>\n",
       "      <th>259580</th>\n",
       "      <td>7d90be8dfdbde170f036ce8a4b915440137cb11c</td>\n",
       "      <td>SOTFCUM12A6D4F7D0B</td>\n",
       "      <td>1</td>\n",
       "      <td>Remy</td>\n",
       "      <td>Intro</td>\n",
       "    </tr>\n",
       "    <tr>\n",
       "      <th>259606</th>\n",
       "      <td>7d90be8dfdbde170f036ce8a4b915440137cb11c</td>\n",
       "      <td>SOZJFDM12AB01807DC</td>\n",
       "      <td>1</td>\n",
       "      <td>Rick Ross</td>\n",
       "      <td>Push It</td>\n",
       "    </tr>\n",
       "    <tr>\n",
       "      <th>259590</th>\n",
       "      <td>7d90be8dfdbde170f036ce8a4b915440137cb11c</td>\n",
       "      <td>SOBHRTW12A8AE48014</td>\n",
       "      <td>5</td>\n",
       "      <td>Rolf Harris</td>\n",
       "      <td>The Court Of King Caractacus</td>\n",
       "    </tr>\n",
       "    <tr>\n",
       "      <th>259613</th>\n",
       "      <td>7d90be8dfdbde170f036ce8a4b915440137cb11c</td>\n",
       "      <td>SOAVGMK12A8C144BDD</td>\n",
       "      <td>1</td>\n",
       "      <td>Ryan Leslie</td>\n",
       "      <td>How It Was Supposed To Be</td>\n",
       "    </tr>\n",
       "    <tr>\n",
       "      <th>259604</th>\n",
       "      <td>7d90be8dfdbde170f036ce8a4b915440137cb11c</td>\n",
       "      <td>SOBABRB12A6701DF4B</td>\n",
       "      <td>6</td>\n",
       "      <td>Shania Twain</td>\n",
       "      <td>Nah!</td>\n",
       "    </tr>\n",
       "    <tr>\n",
       "      <th>259623</th>\n",
       "      <td>7d90be8dfdbde170f036ce8a4b915440137cb11c</td>\n",
       "      <td>SOGMHOJ12A6D2282AA</td>\n",
       "      <td>1</td>\n",
       "      <td>Shearwater</td>\n",
       "      <td>Red Sea_ Black Sea</td>\n",
       "    </tr>\n",
       "    <tr>\n",
       "      <th>259619</th>\n",
       "      <td>7d90be8dfdbde170f036ce8a4b915440137cb11c</td>\n",
       "      <td>SOGGUCU12A6D4F76C2</td>\n",
       "      <td>2</td>\n",
       "      <td>Steve Hackett</td>\n",
       "      <td>Hackett To Pieces</td>\n",
       "    </tr>\n",
       "    <tr>\n",
       "      <th>259587</th>\n",
       "      <td>7d90be8dfdbde170f036ce8a4b915440137cb11c</td>\n",
       "      <td>SOVHIIY12A58A7A606</td>\n",
       "      <td>1</td>\n",
       "      <td>The Bar-Kays</td>\n",
       "      <td>Soul Finger</td>\n",
       "    </tr>\n",
       "    <tr>\n",
       "      <th>259577</th>\n",
       "      <td>7d90be8dfdbde170f036ce8a4b915440137cb11c</td>\n",
       "      <td>SOOVOSX12A81C22771</td>\n",
       "      <td>1</td>\n",
       "      <td>The Beginning Of The End</td>\n",
       "      <td>Funky Nassau_ Part 1 (LP Version)</td>\n",
       "    </tr>\n",
       "    <tr>\n",
       "      <th>259595</th>\n",
       "      <td>7d90be8dfdbde170f036ce8a4b915440137cb11c</td>\n",
       "      <td>SOBATYS12A58A76C6E</td>\n",
       "      <td>5</td>\n",
       "      <td>The Kingston Trio</td>\n",
       "      <td>Greenback Dollar</td>\n",
       "    </tr>\n",
       "    <tr>\n",
       "      <th>259627</th>\n",
       "      <td>7d90be8dfdbde170f036ce8a4b915440137cb11c</td>\n",
       "      <td>SOHTWGE12AB0188968</td>\n",
       "      <td>5</td>\n",
       "      <td>Triple Darkness</td>\n",
       "      <td>Represent</td>\n",
       "    </tr>\n",
       "    <tr>\n",
       "      <th>259616</th>\n",
       "      <td>7d90be8dfdbde170f036ce8a4b915440137cb11c</td>\n",
       "      <td>SOZQOLR12A8C136B84</td>\n",
       "      <td>2</td>\n",
       "      <td>Yeasayer</td>\n",
       "      <td>Sunrise</td>\n",
       "    </tr>\n",
       "    <tr>\n",
       "      <th>259584</th>\n",
       "      <td>7d90be8dfdbde170f036ce8a4b915440137cb11c</td>\n",
       "      <td>SOYSSSK12A8C13BC34</td>\n",
       "      <td>2</td>\n",
       "      <td>Yeasayer</td>\n",
       "      <td>Wait For The Wintertime</td>\n",
       "    </tr>\n",
       "    <tr>\n",
       "      <th>259614</th>\n",
       "      <td>7d90be8dfdbde170f036ce8a4b915440137cb11c</td>\n",
       "      <td>SOXGIHJ12A8C13B367</td>\n",
       "      <td>4</td>\n",
       "      <td>Yeasayer</td>\n",
       "      <td>Final Path</td>\n",
       "    </tr>\n",
       "    <tr>\n",
       "      <th>259603</th>\n",
       "      <td>7d90be8dfdbde170f036ce8a4b915440137cb11c</td>\n",
       "      <td>SOATPFD12A8C136B88</td>\n",
       "      <td>2</td>\n",
       "      <td>Yeasayer</td>\n",
       "      <td>Wait For The Summer</td>\n",
       "    </tr>\n",
       "    <tr>\n",
       "      <th>259597</th>\n",
       "      <td>7d90be8dfdbde170f036ce8a4b915440137cb11c</td>\n",
       "      <td>SONZTEN12A8C136B8C</td>\n",
       "      <td>1</td>\n",
       "      <td>Yeasayer</td>\n",
       "      <td>2080</td>\n",
       "    </tr>\n",
       "    <tr>\n",
       "      <th>259615</th>\n",
       "      <td>7d90be8dfdbde170f036ce8a4b915440137cb11c</td>\n",
       "      <td>SOZJJCY12A8C13C917</td>\n",
       "      <td>1</td>\n",
       "      <td>Yo La Tengo</td>\n",
       "      <td>Out The Window</td>\n",
       "    </tr>\n",
       "  </tbody>\n",
       "</table>\n",
       "</div>"
      ],
      "text/plain": [
       "                                         user_id             song_id  \\\n",
       "259608  7d90be8dfdbde170f036ce8a4b915440137cb11c  SOVFEGN12AF72A3369   \n",
       "259602  7d90be8dfdbde170f036ce8a4b915440137cb11c  SOQBYQC12A8C143F2A   \n",
       "259582  7d90be8dfdbde170f036ce8a4b915440137cb11c  SOKXERP12A6D4F9895   \n",
       "259621  7d90be8dfdbde170f036ce8a4b915440137cb11c  SODHITM12A58A79070   \n",
       "259593  7d90be8dfdbde170f036ce8a4b915440137cb11c  SOPRYVX12AF72A5B7F   \n",
       "259581  7d90be8dfdbde170f036ce8a4b915440137cb11c  SOECRTE12A8C14296D   \n",
       "259591  7d90be8dfdbde170f036ce8a4b915440137cb11c  SOGYTIV12A6D4FBF10   \n",
       "259598  7d90be8dfdbde170f036ce8a4b915440137cb11c  SOTGHQR12A8C1406C5   \n",
       "259579  7d90be8dfdbde170f036ce8a4b915440137cb11c  SOTIFKV12A6D4FAD83   \n",
       "259620  7d90be8dfdbde170f036ce8a4b915440137cb11c  SODZVMN12AC3DF81C6   \n",
       "259609  7d90be8dfdbde170f036ce8a4b915440137cb11c  SOIIUPO12A6D4F7EA8   \n",
       "259583  7d90be8dfdbde170f036ce8a4b915440137cb11c  SOJAMRN12AB018BA2B   \n",
       "259612  7d90be8dfdbde170f036ce8a4b915440137cb11c  SOQBRAQ12A58A7D473   \n",
       "259605  7d90be8dfdbde170f036ce8a4b915440137cb11c  SOQDYRL12A8C13211D   \n",
       "259601  7d90be8dfdbde170f036ce8a4b915440137cb11c  SOBYWZZ12A58A7B90E   \n",
       "259618  7d90be8dfdbde170f036ce8a4b915440137cb11c  SOAPEQV12A8C13CD31   \n",
       "259607  7d90be8dfdbde170f036ce8a4b915440137cb11c  SOMDZLO12AF729A7C1   \n",
       "259594  7d90be8dfdbde170f036ce8a4b915440137cb11c  SOWVLZC12AB017F4FB   \n",
       "259624  7d90be8dfdbde170f036ce8a4b915440137cb11c  SOXHIDK12A58A7CFB3   \n",
       "259622  7d90be8dfdbde170f036ce8a4b915440137cb11c  SOMHUFR12A8C14179D   \n",
       "259600  7d90be8dfdbde170f036ce8a4b915440137cb11c  SOACEQF12A58A7B70E   \n",
       "259596  7d90be8dfdbde170f036ce8a4b915440137cb11c  SOEXMJG12A8C13EC18   \n",
       "259592  7d90be8dfdbde170f036ce8a4b915440137cb11c  SOQXDUU12A6310E836   \n",
       "259586  7d90be8dfdbde170f036ce8a4b915440137cb11c  SOOEEPE12A8AE459A4   \n",
       "259611  7d90be8dfdbde170f036ce8a4b915440137cb11c  SOWZREA12A6701D93D   \n",
       "259617  7d90be8dfdbde170f036ce8a4b915440137cb11c  SOLZTYD12A8C143215   \n",
       "259599  7d90be8dfdbde170f036ce8a4b915440137cb11c  SOOCQDM12A8C140869   \n",
       "259578  7d90be8dfdbde170f036ce8a4b915440137cb11c  SOSLQGG12A6D4F5045   \n",
       "259576  7d90be8dfdbde170f036ce8a4b915440137cb11c  SOMPGPP12A6BD55D5F   \n",
       "259625  7d90be8dfdbde170f036ce8a4b915440137cb11c  SOHKZPT12AB0183E4B   \n",
       "259626  7d90be8dfdbde170f036ce8a4b915440137cb11c  SOJSQYL12A81C23901   \n",
       "259588  7d90be8dfdbde170f036ce8a4b915440137cb11c  SOYYBHE12A6BD53865   \n",
       "259589  7d90be8dfdbde170f036ce8a4b915440137cb11c  SOVOJVL12A6D4F93C1   \n",
       "259585  7d90be8dfdbde170f036ce8a4b915440137cb11c  SOAXJHW12A81C21E1F   \n",
       "259575  7d90be8dfdbde170f036ce8a4b915440137cb11c  SOKNWRZ12A8C13BF62   \n",
       "259610  7d90be8dfdbde170f036ce8a4b915440137cb11c  SOCXEKQ12AAF3B5490   \n",
       "259580  7d90be8dfdbde170f036ce8a4b915440137cb11c  SOTFCUM12A6D4F7D0B   \n",
       "259606  7d90be8dfdbde170f036ce8a4b915440137cb11c  SOZJFDM12AB01807DC   \n",
       "259590  7d90be8dfdbde170f036ce8a4b915440137cb11c  SOBHRTW12A8AE48014   \n",
       "259613  7d90be8dfdbde170f036ce8a4b915440137cb11c  SOAVGMK12A8C144BDD   \n",
       "259604  7d90be8dfdbde170f036ce8a4b915440137cb11c  SOBABRB12A6701DF4B   \n",
       "259623  7d90be8dfdbde170f036ce8a4b915440137cb11c  SOGMHOJ12A6D2282AA   \n",
       "259619  7d90be8dfdbde170f036ce8a4b915440137cb11c  SOGGUCU12A6D4F76C2   \n",
       "259587  7d90be8dfdbde170f036ce8a4b915440137cb11c  SOVHIIY12A58A7A606   \n",
       "259577  7d90be8dfdbde170f036ce8a4b915440137cb11c  SOOVOSX12A81C22771   \n",
       "259595  7d90be8dfdbde170f036ce8a4b915440137cb11c  SOBATYS12A58A76C6E   \n",
       "259627  7d90be8dfdbde170f036ce8a4b915440137cb11c  SOHTWGE12AB0188968   \n",
       "259616  7d90be8dfdbde170f036ce8a4b915440137cb11c  SOZQOLR12A8C136B84   \n",
       "259584  7d90be8dfdbde170f036ce8a4b915440137cb11c  SOYSSSK12A8C13BC34   \n",
       "259614  7d90be8dfdbde170f036ce8a4b915440137cb11c  SOXGIHJ12A8C13B367   \n",
       "259603  7d90be8dfdbde170f036ce8a4b915440137cb11c  SOATPFD12A8C136B88   \n",
       "259597  7d90be8dfdbde170f036ce8a4b915440137cb11c  SONZTEN12A8C136B8C   \n",
       "259615  7d90be8dfdbde170f036ce8a4b915440137cb11c  SOZJJCY12A8C13C917   \n",
       "\n",
       "        PlayCount                              Artist Name  \\\n",
       "259608          1                               A.A. Bondy   \n",
       "259602          1                            Alceu Valença   \n",
       "259582          1                                Ana Caram   \n",
       "259621          1             Baby Huey & The Baby Sitters   \n",
       "259593          1                              Bad Manners   \n",
       "259581          1                             Blue October   \n",
       "259591          1                              Carla Bruni   \n",
       "259598          1                           Chris Bathgate   \n",
       "259579          2             D-Flame Feat. Wayne Marshall   \n",
       "259620          1                                 Datarock   \n",
       "259609          2                      Dion & The Belmonts   \n",
       "259583          5                              Eartha Kitt   \n",
       "259612          5                                     Eels   \n",
       "259605          1                              Glenn Lewis   \n",
       "259601          1                            Hadag Nachash   \n",
       "259618          1                                     Hird   \n",
       "259607          2                                In Flames   \n",
       "259594          5                       Insane Clown Posse   \n",
       "259624          1  Jadakiss / Swizz Beatz / OJ Da Juiceman   \n",
       "259622          1                               Klaus Lage   \n",
       "259600          1                             La Portuaria   \n",
       "259596          1                             Led Zeppelin   \n",
       "259592          1                              Marvin Gaye   \n",
       "259586          2                                Metallica   \n",
       "259611          1                Method Man / Busta Rhymes   \n",
       "259617          1                           Mischa Daniels   \n",
       "259599          1                              Mungo Jerry   \n",
       "259578          1                                Nevermore   \n",
       "259576          5                          Nine Inch Nails   \n",
       "259625          2                           Okkervil River   \n",
       "259626          4                                     Onar   \n",
       "259588          1                                     Ours   \n",
       "259589          2                             Paolo Nutini   \n",
       "259585          2                                 Paramore   \n",
       "259575          1                           Postal Service   \n",
       "259610          1                                Rammstein   \n",
       "259580          1                                     Remy   \n",
       "259606          1                                Rick Ross   \n",
       "259590          5                              Rolf Harris   \n",
       "259613          1                              Ryan Leslie   \n",
       "259604          6                             Shania Twain   \n",
       "259623          1                               Shearwater   \n",
       "259619          2                            Steve Hackett   \n",
       "259587          1                             The Bar-Kays   \n",
       "259577          1                 The Beginning Of The End   \n",
       "259595          5                        The Kingston Trio   \n",
       "259627          5                          Triple Darkness   \n",
       "259616          2                                 Yeasayer   \n",
       "259584          2                                 Yeasayer   \n",
       "259614          4                                 Yeasayer   \n",
       "259603          2                                 Yeasayer   \n",
       "259597          1                                 Yeasayer   \n",
       "259615          1                              Yo La Tengo   \n",
       "\n",
       "                                              Title  \n",
       "259608               Killed Myself When I Was Young  \n",
       "259602                          No Balanço Da Canoa  \n",
       "259582                           Overjoyed / Ancora  \n",
       "259621                    Listen To Me (LP Version)  \n",
       "259593                                 Special Brew  \n",
       "259581                                   Blue Skies  \n",
       "259591              Promises Like Pie-Crust (Album)  \n",
       "259598                                         Coda  \n",
       "259579                                Call Me Crazy  \n",
       "259620  Give It Up (Kissy Sell Out's 4x4 Cello Mix)  \n",
       "259609                           A Teenager In Love  \n",
       "259583              Let's Do It_ Let's Fall In Love  \n",
       "259612                           My Beloved Monster  \n",
       "259605                          Don't You Forget It  \n",
       "259601                          Gan Haedden (Edden)  \n",
       "259618                               Getting Closer  \n",
       "259607                  Artifacts of the black rain  \n",
       "259594                                          Out  \n",
       "259624                                   Who's Real  \n",
       "259622                          Ab Jetzt Nicht Mehr  \n",
       "259600                  Escenas De La Vida(En Vivo)  \n",
       "259596              Ten Years Gone  (Album Version)  \n",
       "259592                                   I Want You  \n",
       "259586                           The Unforgiven III  \n",
       "259611                             What's Happenin'  \n",
       "259617                                Another Place  \n",
       "259599                            In The Summertime  \n",
       "259578                                    Matricide  \n",
       "259576                                       Vessel  \n",
       "259625                            Love To A Monster  \n",
       "259626                            Xehasmeni Melodia  \n",
       "259588              La Maison De Mes Parents (Edit)  \n",
       "259589                       Rewind [Album Version]  \n",
       "259585             Misery Business (Single Version)  \n",
       "259575                       Natural Anthem (Album)  \n",
       "259610                                     Stripped  \n",
       "259580                                        Intro  \n",
       "259606                                      Push It  \n",
       "259590                 The Court Of King Caractacus  \n",
       "259613                    How It Was Supposed To Be  \n",
       "259604                                         Nah!  \n",
       "259623                           Red Sea_ Black Sea  \n",
       "259619                            Hackett To Pieces  \n",
       "259587                                  Soul Finger  \n",
       "259577            Funky Nassau_ Part 1 (LP Version)  \n",
       "259595                             Greenback Dollar  \n",
       "259627                                    Represent  \n",
       "259616                                      Sunrise  \n",
       "259584                      Wait For The Wintertime  \n",
       "259614                                   Final Path  \n",
       "259603                          Wait For The Summer  \n",
       "259597                                         2080  \n",
       "259615                               Out The Window  "
      ]
     },
     "execution_count": 47,
     "metadata": {},
     "output_type": "execute_result"
    }
   ],
   "source": [
    "top_user = song_df[song_df['user_id']== '7d90be8dfdbde170f036ce8a4b915440137cb11c']\n",
    "top_user.sort_values(by='Artist Name')"
   ]
  },
  {
   "cell_type": "markdown",
   "id": "35c64655",
   "metadata": {},
   "source": [
    "# Popularity based recommender system"
   ]
  },
  {
   "cell_type": "code",
   "execution_count": 48,
   "id": "074a3cd5",
   "metadata": {},
   "outputs": [],
   "source": [
    "song_df = song_df.head(10000)"
   ]
  },
  {
   "cell_type": "code",
   "execution_count": 49,
   "id": "6ddd24f2",
   "metadata": {},
   "outputs": [],
   "source": [
    "#Class for Popularity based Recommender System model\n",
    "class popularity_recommender_py():\n",
    "    def __init__(self):\n",
    "        self.train_data = None\n",
    "        self.user_id = None\n",
    "        self.song = None\n",
    "        self.popularity_recommendations = None\n",
    "        \n",
    "    #Create the popularity based recommender system model\n",
    "    def create(self, train_data, user_id, song):\n",
    "        self.train_data = train_data\n",
    "        self.user_id = user_id\n",
    "        self.song = song\n",
    "\n",
    "        #Get a count of user_ids for each unique song as recommendation score\n",
    "        train_data_grouped = train_data.groupby([self.song]).agg({self.user_id: 'count'}).reset_index()\n",
    "        train_data_grouped.rename(columns = {'user_id': 'score'},inplace=True)\n",
    "        print(train_data_grouped)\n",
    "    \n",
    "        #Sort the songs based upon recommendation score\n",
    "        train_data_sort = train_data_grouped.sort_values(['score', self.song], ascending = [0,1])\n",
    "    \n",
    "        #Generate a recommendation rank based upon score\n",
    "        train_data_sort['Rank'] = train_data_sort['score'].rank(ascending=0, method='first')\n",
    "        \n",
    "        #Get the top 10 recommendations\n",
    "        self.popularity_recommendations = train_data_sort.head(10)\n",
    "        print(self.popularity_recommendations)\n",
    "    #Use the popularity based recommender system model to\n",
    "    #make recommendations\n",
    "    def recommend(self, user_id):    \n",
    "        print(\"Generating recommendation for the user id:{a}\".format(a=user_id))\n",
    "        user_recommendations = self.popularity_recommendations\n",
    "        \n",
    "        #Add user_id column for which the recommendations are being generated\n",
    "        user_recommendations['user_id'] = user_id\n",
    "    \n",
    "        #Bring user_id column to the front\n",
    "        cols = user_recommendations.columns.tolist()\n",
    "        cols = cols[-1:] + cols[:-1]\n",
    "        user_recommendations = user_recommendations[cols]\n",
    "        \n",
    "        return user_recommendations"
   ]
  },
  {
   "cell_type": "code",
   "execution_count": 50,
   "id": "711bf7dc",
   "metadata": {},
   "outputs": [
    {
     "name": "stdout",
     "output_type": "stream",
     "text": [
      "                                       user_id             song_id  PlayCount  \\\n",
      "7389  d3c75a5a579f29a3a853b3a4ba76d3a2e5243655  SOQTHZW12A8C1400F8          2   \n",
      "9275  3071be7411e636fcda6c99277a5b51c45a7c4866  SODQPTQ12AF72A64BC          6   \n",
      "2995  1fa6a4add6eacc3ce1aec44fc37037db2b09bf82  SOUCBEB12A6310E1F9          3   \n",
      "5316  c8db3788ca8f60d92abf827ad59f424f05897cfc  SOBWFXM12AB0182808         14   \n",
      "356   6530c4fc41b9110de5d39fe0355fa103c66385f0  SOSIZFO12A58A79934          2   \n",
      "49    841b2394ae3a9febbd6b06497b4a8ee8eb24b7f8  SORUMPR12AC468D4F7          3   \n",
      "7931  1872ae2c007395eefa382423672afb0c7b227920  SOOGWNV12AF72A91E3          1   \n",
      "1523  97c875a4bdd4142b8b025e95974ed3f390a36f53  SOSJAMD12AB017E3A6          2   \n",
      "7552  f70a3e53b17d9c293afc8b8e3e72bd19abb9ed0b  SOCEWVG12A8C13DCC2          1   \n",
      "496   42a9daa28f605e4f269711946cdbe0498a172706  SOPPROJ12AB0184E18          1   \n",
      "\n",
      "                                                   song  \n",
      "7389  Aghia Sophia (2008 Digital Remaster)-CCCP - Fe...  \n",
      "9275                            Scorpion-The Budos Band  \n",
      "2995                             Jesus Walks-Kanye West  \n",
      "5316                           Orange Sky-Alexi Murdoch  \n",
      "356                                In Da Gutter-Vicious  \n",
      "49                    Sound The Alarm-A Day To Remember  \n",
      "7931                           Djel & Pone-Fonky Family  \n",
      "1523           Rumours-Carlton Livingston_ Shabba Ranks  \n",
      "7552                                    Newjack-Justice  \n",
      "496   Pursuit Of Happiness (nightmare)-Kid Cudi / MG...  \n"
     ]
    }
   ],
   "source": [
    "pr = popularity_recommender_py()\n",
    "song_df['song'] = song_df['Title']+ '-' +song_df['Artist Name']\n",
    "song_df.drop([\"Artist Name\",\"Title\"],axis=1,inplace=True)\n",
    "from sklearn.model_selection import train_test_split\n",
    "train_data , test_data = train_test_split(song_df,test_size=0.2,random_state=0)\n",
    "print(train_data.head(10))"
   ]
  },
  {
   "cell_type": "markdown",
   "id": "546c309a",
   "metadata": {},
   "source": [
    "# Creating model for popularity based recommender system"
   ]
  },
  {
   "cell_type": "code",
   "execution_count": 51,
   "id": "db1a23d8",
   "metadata": {},
   "outputs": [
    {
     "name": "stdout",
     "output_type": "stream",
     "text": [
      "                                             song  score\n",
      "0                          #40-DAVE MATTHEWS BAND      1\n",
      "1                             $in$-Male Or Female      1\n",
      "2                               & Down-Boys Noize      1\n",
      "3     &And The World Will Cease To Be-Amon Amarth      1\n",
      "4                      'A Cimma-Fabrizio De Andrè      1\n",
      "...                                           ...    ...\n",
      "6102               Ángel De Amor-Sergio Contreras      1\n",
      "6103         Árboles de la barranca-Carlos Y Jose      1\n",
      "6104                     Ça Marche-Christophe Maé      1\n",
      "6105                       Örökké Tart-Tankcsapda      1\n",
      "6106            ça Me Fait Du Bien-Emmanuel Moire      1\n",
      "\n",
      "[6107 rows x 2 columns]\n",
      "                                                   song  score  Rank\n",
      "6049                       You're The One-Dwight Yoakam     34   1.0\n",
      "5552                                         Undo-Björk     31   2.0\n",
      "4343                             Sehr kosmisch-Harmonia     30   3.0\n",
      "1259  Dog Days Are Over (Radio Edit)-Florence + The ...     24   4.0\n",
      "4118                              Revelry-Kings Of Leon     23   5.0\n",
      "1662                       Fireflies-Charttraxx Karaoke     19   6.0\n",
      "1359                  Drop The World-Lil Wayne / Eminem     18   7.0\n",
      "2206  Horn Concerto No. 4 in E flat K495: II. Romanc...     17   8.0\n",
      "4108                         Représente-Alliance Ethnik     17   9.0\n",
      "4335                                Secrets-OneRepublic     16  10.0\n"
     ]
    }
   ],
   "source": [
    "pr.create(train_data,'user_id','song')"
   ]
  },
  {
   "cell_type": "markdown",
   "id": "adcfc3e5",
   "metadata": {},
   "source": [
    "# Recommending songs for individual users"
   ]
  },
  {
   "cell_type": "code",
   "execution_count": 52,
   "id": "0577df10",
   "metadata": {},
   "outputs": [
    {
     "name": "stdout",
     "output_type": "stream",
     "text": [
      "Generating recommendation for the user id:58e850b81533418bc6a1aaaf300c3f284fd85bac\n"
     ]
    },
    {
     "data": {
      "text/html": [
       "<div>\n",
       "<style scoped>\n",
       "    .dataframe tbody tr th:only-of-type {\n",
       "        vertical-align: middle;\n",
       "    }\n",
       "\n",
       "    .dataframe tbody tr th {\n",
       "        vertical-align: top;\n",
       "    }\n",
       "\n",
       "    .dataframe thead th {\n",
       "        text-align: right;\n",
       "    }\n",
       "</style>\n",
       "<table border=\"1\" class=\"dataframe\">\n",
       "  <thead>\n",
       "    <tr style=\"text-align: right;\">\n",
       "      <th></th>\n",
       "      <th>user_id</th>\n",
       "      <th>song</th>\n",
       "      <th>score</th>\n",
       "      <th>Rank</th>\n",
       "    </tr>\n",
       "  </thead>\n",
       "  <tbody>\n",
       "    <tr>\n",
       "      <th>6049</th>\n",
       "      <td>58e850b81533418bc6a1aaaf300c3f284fd85bac</td>\n",
       "      <td>You're The One-Dwight Yoakam</td>\n",
       "      <td>34</td>\n",
       "      <td>1.0</td>\n",
       "    </tr>\n",
       "    <tr>\n",
       "      <th>5552</th>\n",
       "      <td>58e850b81533418bc6a1aaaf300c3f284fd85bac</td>\n",
       "      <td>Undo-Björk</td>\n",
       "      <td>31</td>\n",
       "      <td>2.0</td>\n",
       "    </tr>\n",
       "    <tr>\n",
       "      <th>4343</th>\n",
       "      <td>58e850b81533418bc6a1aaaf300c3f284fd85bac</td>\n",
       "      <td>Sehr kosmisch-Harmonia</td>\n",
       "      <td>30</td>\n",
       "      <td>3.0</td>\n",
       "    </tr>\n",
       "    <tr>\n",
       "      <th>1259</th>\n",
       "      <td>58e850b81533418bc6a1aaaf300c3f284fd85bac</td>\n",
       "      <td>Dog Days Are Over (Radio Edit)-Florence + The ...</td>\n",
       "      <td>24</td>\n",
       "      <td>4.0</td>\n",
       "    </tr>\n",
       "    <tr>\n",
       "      <th>4118</th>\n",
       "      <td>58e850b81533418bc6a1aaaf300c3f284fd85bac</td>\n",
       "      <td>Revelry-Kings Of Leon</td>\n",
       "      <td>23</td>\n",
       "      <td>5.0</td>\n",
       "    </tr>\n",
       "    <tr>\n",
       "      <th>1662</th>\n",
       "      <td>58e850b81533418bc6a1aaaf300c3f284fd85bac</td>\n",
       "      <td>Fireflies-Charttraxx Karaoke</td>\n",
       "      <td>19</td>\n",
       "      <td>6.0</td>\n",
       "    </tr>\n",
       "    <tr>\n",
       "      <th>1359</th>\n",
       "      <td>58e850b81533418bc6a1aaaf300c3f284fd85bac</td>\n",
       "      <td>Drop The World-Lil Wayne / Eminem</td>\n",
       "      <td>18</td>\n",
       "      <td>7.0</td>\n",
       "    </tr>\n",
       "    <tr>\n",
       "      <th>2206</th>\n",
       "      <td>58e850b81533418bc6a1aaaf300c3f284fd85bac</td>\n",
       "      <td>Horn Concerto No. 4 in E flat K495: II. Romanc...</td>\n",
       "      <td>17</td>\n",
       "      <td>8.0</td>\n",
       "    </tr>\n",
       "    <tr>\n",
       "      <th>4108</th>\n",
       "      <td>58e850b81533418bc6a1aaaf300c3f284fd85bac</td>\n",
       "      <td>Représente-Alliance Ethnik</td>\n",
       "      <td>17</td>\n",
       "      <td>9.0</td>\n",
       "    </tr>\n",
       "    <tr>\n",
       "      <th>4335</th>\n",
       "      <td>58e850b81533418bc6a1aaaf300c3f284fd85bac</td>\n",
       "      <td>Secrets-OneRepublic</td>\n",
       "      <td>16</td>\n",
       "      <td>10.0</td>\n",
       "    </tr>\n",
       "  </tbody>\n",
       "</table>\n",
       "</div>"
      ],
      "text/plain": [
       "                                       user_id  \\\n",
       "6049  58e850b81533418bc6a1aaaf300c3f284fd85bac   \n",
       "5552  58e850b81533418bc6a1aaaf300c3f284fd85bac   \n",
       "4343  58e850b81533418bc6a1aaaf300c3f284fd85bac   \n",
       "1259  58e850b81533418bc6a1aaaf300c3f284fd85bac   \n",
       "4118  58e850b81533418bc6a1aaaf300c3f284fd85bac   \n",
       "1662  58e850b81533418bc6a1aaaf300c3f284fd85bac   \n",
       "1359  58e850b81533418bc6a1aaaf300c3f284fd85bac   \n",
       "2206  58e850b81533418bc6a1aaaf300c3f284fd85bac   \n",
       "4108  58e850b81533418bc6a1aaaf300c3f284fd85bac   \n",
       "4335  58e850b81533418bc6a1aaaf300c3f284fd85bac   \n",
       "\n",
       "                                                   song  score  Rank  \n",
       "6049                       You're The One-Dwight Yoakam     34   1.0  \n",
       "5552                                         Undo-Björk     31   2.0  \n",
       "4343                             Sehr kosmisch-Harmonia     30   3.0  \n",
       "1259  Dog Days Are Over (Radio Edit)-Florence + The ...     24   4.0  \n",
       "4118                              Revelry-Kings Of Leon     23   5.0  \n",
       "1662                       Fireflies-Charttraxx Karaoke     19   6.0  \n",
       "1359                  Drop The World-Lil Wayne / Eminem     18   7.0  \n",
       "2206  Horn Concerto No. 4 in E flat K495: II. Romanc...     17   8.0  \n",
       "4108                         Représente-Alliance Ethnik     17   9.0  \n",
       "4335                                Secrets-OneRepublic     16  10.0  "
      ]
     },
     "execution_count": 52,
     "metadata": {},
     "output_type": "execute_result"
    }
   ],
   "source": [
    "users = train_data['user_id'].unique()\n",
    "user_id = users[21]\n",
    "pr.recommend(user_id)"
   ]
  },
  {
   "cell_type": "code",
   "execution_count": 53,
   "id": "2f68eafd",
   "metadata": {},
   "outputs": [
    {
     "name": "stdout",
     "output_type": "stream",
     "text": [
      "Generating recommendation for the user id:227b8aaae5fb6705e212bb07deef79b262ffe54b\n"
     ]
    },
    {
     "data": {
      "text/html": [
       "<div>\n",
       "<style scoped>\n",
       "    .dataframe tbody tr th:only-of-type {\n",
       "        vertical-align: middle;\n",
       "    }\n",
       "\n",
       "    .dataframe tbody tr th {\n",
       "        vertical-align: top;\n",
       "    }\n",
       "\n",
       "    .dataframe thead th {\n",
       "        text-align: right;\n",
       "    }\n",
       "</style>\n",
       "<table border=\"1\" class=\"dataframe\">\n",
       "  <thead>\n",
       "    <tr style=\"text-align: right;\">\n",
       "      <th></th>\n",
       "      <th>user_id</th>\n",
       "      <th>song</th>\n",
       "      <th>score</th>\n",
       "      <th>Rank</th>\n",
       "    </tr>\n",
       "  </thead>\n",
       "  <tbody>\n",
       "    <tr>\n",
       "      <th>6049</th>\n",
       "      <td>227b8aaae5fb6705e212bb07deef79b262ffe54b</td>\n",
       "      <td>You're The One-Dwight Yoakam</td>\n",
       "      <td>34</td>\n",
       "      <td>1.0</td>\n",
       "    </tr>\n",
       "    <tr>\n",
       "      <th>5552</th>\n",
       "      <td>227b8aaae5fb6705e212bb07deef79b262ffe54b</td>\n",
       "      <td>Undo-Björk</td>\n",
       "      <td>31</td>\n",
       "      <td>2.0</td>\n",
       "    </tr>\n",
       "    <tr>\n",
       "      <th>4343</th>\n",
       "      <td>227b8aaae5fb6705e212bb07deef79b262ffe54b</td>\n",
       "      <td>Sehr kosmisch-Harmonia</td>\n",
       "      <td>30</td>\n",
       "      <td>3.0</td>\n",
       "    </tr>\n",
       "    <tr>\n",
       "      <th>1259</th>\n",
       "      <td>227b8aaae5fb6705e212bb07deef79b262ffe54b</td>\n",
       "      <td>Dog Days Are Over (Radio Edit)-Florence + The ...</td>\n",
       "      <td>24</td>\n",
       "      <td>4.0</td>\n",
       "    </tr>\n",
       "    <tr>\n",
       "      <th>4118</th>\n",
       "      <td>227b8aaae5fb6705e212bb07deef79b262ffe54b</td>\n",
       "      <td>Revelry-Kings Of Leon</td>\n",
       "      <td>23</td>\n",
       "      <td>5.0</td>\n",
       "    </tr>\n",
       "    <tr>\n",
       "      <th>1662</th>\n",
       "      <td>227b8aaae5fb6705e212bb07deef79b262ffe54b</td>\n",
       "      <td>Fireflies-Charttraxx Karaoke</td>\n",
       "      <td>19</td>\n",
       "      <td>6.0</td>\n",
       "    </tr>\n",
       "    <tr>\n",
       "      <th>1359</th>\n",
       "      <td>227b8aaae5fb6705e212bb07deef79b262ffe54b</td>\n",
       "      <td>Drop The World-Lil Wayne / Eminem</td>\n",
       "      <td>18</td>\n",
       "      <td>7.0</td>\n",
       "    </tr>\n",
       "    <tr>\n",
       "      <th>2206</th>\n",
       "      <td>227b8aaae5fb6705e212bb07deef79b262ffe54b</td>\n",
       "      <td>Horn Concerto No. 4 in E flat K495: II. Romanc...</td>\n",
       "      <td>17</td>\n",
       "      <td>8.0</td>\n",
       "    </tr>\n",
       "    <tr>\n",
       "      <th>4108</th>\n",
       "      <td>227b8aaae5fb6705e212bb07deef79b262ffe54b</td>\n",
       "      <td>Représente-Alliance Ethnik</td>\n",
       "      <td>17</td>\n",
       "      <td>9.0</td>\n",
       "    </tr>\n",
       "    <tr>\n",
       "      <th>4335</th>\n",
       "      <td>227b8aaae5fb6705e212bb07deef79b262ffe54b</td>\n",
       "      <td>Secrets-OneRepublic</td>\n",
       "      <td>16</td>\n",
       "      <td>10.0</td>\n",
       "    </tr>\n",
       "  </tbody>\n",
       "</table>\n",
       "</div>"
      ],
      "text/plain": [
       "                                       user_id  \\\n",
       "6049  227b8aaae5fb6705e212bb07deef79b262ffe54b   \n",
       "5552  227b8aaae5fb6705e212bb07deef79b262ffe54b   \n",
       "4343  227b8aaae5fb6705e212bb07deef79b262ffe54b   \n",
       "1259  227b8aaae5fb6705e212bb07deef79b262ffe54b   \n",
       "4118  227b8aaae5fb6705e212bb07deef79b262ffe54b   \n",
       "1662  227b8aaae5fb6705e212bb07deef79b262ffe54b   \n",
       "1359  227b8aaae5fb6705e212bb07deef79b262ffe54b   \n",
       "2206  227b8aaae5fb6705e212bb07deef79b262ffe54b   \n",
       "4108  227b8aaae5fb6705e212bb07deef79b262ffe54b   \n",
       "4335  227b8aaae5fb6705e212bb07deef79b262ffe54b   \n",
       "\n",
       "                                                   song  score  Rank  \n",
       "6049                       You're The One-Dwight Yoakam     34   1.0  \n",
       "5552                                         Undo-Björk     31   2.0  \n",
       "4343                             Sehr kosmisch-Harmonia     30   3.0  \n",
       "1259  Dog Days Are Over (Radio Edit)-Florence + The ...     24   4.0  \n",
       "4118                              Revelry-Kings Of Leon     23   5.0  \n",
       "1662                       Fireflies-Charttraxx Karaoke     19   6.0  \n",
       "1359                  Drop The World-Lil Wayne / Eminem     18   7.0  \n",
       "2206  Horn Concerto No. 4 in E flat K495: II. Romanc...     17   8.0  \n",
       "4108                         Représente-Alliance Ethnik     17   9.0  \n",
       "4335                                Secrets-OneRepublic     16  10.0  "
      ]
     },
     "execution_count": 53,
     "metadata": {},
     "output_type": "execute_result"
    }
   ],
   "source": [
    "user_id = users[190]\n",
    "pr.recommend(user_id)"
   ]
  },
  {
   "cell_type": "code",
   "execution_count": 54,
   "id": "1e53cca4",
   "metadata": {},
   "outputs": [
    {
     "name": "stdout",
     "output_type": "stream",
     "text": [
      "Generating recommendation for the user id:180dc8828a427884829e8f47f38bf67b8d5c32e0\n"
     ]
    },
    {
     "data": {
      "text/html": [
       "<div>\n",
       "<style scoped>\n",
       "    .dataframe tbody tr th:only-of-type {\n",
       "        vertical-align: middle;\n",
       "    }\n",
       "\n",
       "    .dataframe tbody tr th {\n",
       "        vertical-align: top;\n",
       "    }\n",
       "\n",
       "    .dataframe thead th {\n",
       "        text-align: right;\n",
       "    }\n",
       "</style>\n",
       "<table border=\"1\" class=\"dataframe\">\n",
       "  <thead>\n",
       "    <tr style=\"text-align: right;\">\n",
       "      <th></th>\n",
       "      <th>user_id</th>\n",
       "      <th>song</th>\n",
       "      <th>score</th>\n",
       "      <th>Rank</th>\n",
       "    </tr>\n",
       "  </thead>\n",
       "  <tbody>\n",
       "    <tr>\n",
       "      <th>6049</th>\n",
       "      <td>180dc8828a427884829e8f47f38bf67b8d5c32e0</td>\n",
       "      <td>You're The One-Dwight Yoakam</td>\n",
       "      <td>34</td>\n",
       "      <td>1.0</td>\n",
       "    </tr>\n",
       "    <tr>\n",
       "      <th>5552</th>\n",
       "      <td>180dc8828a427884829e8f47f38bf67b8d5c32e0</td>\n",
       "      <td>Undo-Björk</td>\n",
       "      <td>31</td>\n",
       "      <td>2.0</td>\n",
       "    </tr>\n",
       "    <tr>\n",
       "      <th>4343</th>\n",
       "      <td>180dc8828a427884829e8f47f38bf67b8d5c32e0</td>\n",
       "      <td>Sehr kosmisch-Harmonia</td>\n",
       "      <td>30</td>\n",
       "      <td>3.0</td>\n",
       "    </tr>\n",
       "    <tr>\n",
       "      <th>1259</th>\n",
       "      <td>180dc8828a427884829e8f47f38bf67b8d5c32e0</td>\n",
       "      <td>Dog Days Are Over (Radio Edit)-Florence + The ...</td>\n",
       "      <td>24</td>\n",
       "      <td>4.0</td>\n",
       "    </tr>\n",
       "    <tr>\n",
       "      <th>4118</th>\n",
       "      <td>180dc8828a427884829e8f47f38bf67b8d5c32e0</td>\n",
       "      <td>Revelry-Kings Of Leon</td>\n",
       "      <td>23</td>\n",
       "      <td>5.0</td>\n",
       "    </tr>\n",
       "    <tr>\n",
       "      <th>1662</th>\n",
       "      <td>180dc8828a427884829e8f47f38bf67b8d5c32e0</td>\n",
       "      <td>Fireflies-Charttraxx Karaoke</td>\n",
       "      <td>19</td>\n",
       "      <td>6.0</td>\n",
       "    </tr>\n",
       "    <tr>\n",
       "      <th>1359</th>\n",
       "      <td>180dc8828a427884829e8f47f38bf67b8d5c32e0</td>\n",
       "      <td>Drop The World-Lil Wayne / Eminem</td>\n",
       "      <td>18</td>\n",
       "      <td>7.0</td>\n",
       "    </tr>\n",
       "    <tr>\n",
       "      <th>2206</th>\n",
       "      <td>180dc8828a427884829e8f47f38bf67b8d5c32e0</td>\n",
       "      <td>Horn Concerto No. 4 in E flat K495: II. Romanc...</td>\n",
       "      <td>17</td>\n",
       "      <td>8.0</td>\n",
       "    </tr>\n",
       "    <tr>\n",
       "      <th>4108</th>\n",
       "      <td>180dc8828a427884829e8f47f38bf67b8d5c32e0</td>\n",
       "      <td>Représente-Alliance Ethnik</td>\n",
       "      <td>17</td>\n",
       "      <td>9.0</td>\n",
       "    </tr>\n",
       "    <tr>\n",
       "      <th>4335</th>\n",
       "      <td>180dc8828a427884829e8f47f38bf67b8d5c32e0</td>\n",
       "      <td>Secrets-OneRepublic</td>\n",
       "      <td>16</td>\n",
       "      <td>10.0</td>\n",
       "    </tr>\n",
       "  </tbody>\n",
       "</table>\n",
       "</div>"
      ],
      "text/plain": [
       "                                       user_id  \\\n",
       "6049  180dc8828a427884829e8f47f38bf67b8d5c32e0   \n",
       "5552  180dc8828a427884829e8f47f38bf67b8d5c32e0   \n",
       "4343  180dc8828a427884829e8f47f38bf67b8d5c32e0   \n",
       "1259  180dc8828a427884829e8f47f38bf67b8d5c32e0   \n",
       "4118  180dc8828a427884829e8f47f38bf67b8d5c32e0   \n",
       "1662  180dc8828a427884829e8f47f38bf67b8d5c32e0   \n",
       "1359  180dc8828a427884829e8f47f38bf67b8d5c32e0   \n",
       "2206  180dc8828a427884829e8f47f38bf67b8d5c32e0   \n",
       "4108  180dc8828a427884829e8f47f38bf67b8d5c32e0   \n",
       "4335  180dc8828a427884829e8f47f38bf67b8d5c32e0   \n",
       "\n",
       "                                                   song  score  Rank  \n",
       "6049                       You're The One-Dwight Yoakam     34   1.0  \n",
       "5552                                         Undo-Björk     31   2.0  \n",
       "4343                             Sehr kosmisch-Harmonia     30   3.0  \n",
       "1259  Dog Days Are Over (Radio Edit)-Florence + The ...     24   4.0  \n",
       "4118                              Revelry-Kings Of Leon     23   5.0  \n",
       "1662                       Fireflies-Charttraxx Karaoke     19   6.0  \n",
       "1359                  Drop The World-Lil Wayne / Eminem     18   7.0  \n",
       "2206  Horn Concerto No. 4 in E flat K495: II. Romanc...     17   8.0  \n",
       "4108                         Représente-Alliance Ethnik     17   9.0  \n",
       "4335                                Secrets-OneRepublic     16  10.0  "
      ]
     },
     "execution_count": 54,
     "metadata": {},
     "output_type": "execute_result"
    }
   ],
   "source": [
    "user_id = users[651]\n",
    "pr.recommend(user_id)"
   ]
  },
  {
   "cell_type": "markdown",
   "id": "5d8405e2",
   "metadata": {},
   "source": [
    "# Content based recommender system"
   ]
  },
  {
   "cell_type": "code",
   "execution_count": 55,
   "id": "c927716d",
   "metadata": {},
   "outputs": [],
   "source": [
    "#Class for Item similarity based Recommender System model\n",
    "class item_similarity_recommender_py():\n",
    "    def __init__(self):\n",
    "        self.train_data = None\n",
    "        self.user_id = None\n",
    "        self.item_id = None\n",
    "        self.cooccurence_matrix = None\n",
    "        self.songs_dict = None\n",
    "        self.rev_songs_dict = None\n",
    "        self.item_similarity_recommendations = None\n",
    "        \n",
    "    #Get unique items (songs) corresponding to a given user\n",
    "    def get_user_items(self, user):\n",
    "        user_data = self.train_data[self.train_data[self.user_id] == user]\n",
    "        user_items = list(user_data[self.item_id].unique())\n",
    "        \n",
    "        return user_items\n",
    "        \n",
    "    #Get unique users for a given item (song)\n",
    "    def get_item_users(self, item):\n",
    "        item_data = self.train_data[self.train_data[self.item_id] == item]\n",
    "        item_users = set(item_data[self.user_id].unique())\n",
    "            \n",
    "        return item_users\n",
    "        \n",
    "    #Get unique items (songs) in the training data\n",
    "    def get_all_items_train_data(self):\n",
    "        all_items = list(self.train_data[self.item_id].unique())\n",
    "            \n",
    "        return all_items\n",
    "        \n",
    "    #Construct cooccurence matrix\n",
    "    def construct_cooccurence_matrix(self, user_songs, all_songs):\n",
    "            \n",
    "        ####################################\n",
    "        #Get users for all songs in user_songs.\n",
    "        ####################################\n",
    "        user_songs_users = []        \n",
    "        for i in range(0, len(user_songs)):\n",
    "            user_songs_users.append(self.get_item_users(user_songs[i]))\n",
    "            \n",
    "        ###############################################\n",
    "        #Initialize the item cooccurence matrix of size \n",
    "        #len(user_songs) X len(songs)\n",
    "        ###############################################\n",
    "        cooccurence_matrix = np.matrix(np.zeros(shape=(len(user_songs), len(all_songs))), float)\n",
    "           \n",
    "        #############################################################\n",
    "        #Calculate similarity between user songs and all unique songs\n",
    "        #in the training data\n",
    "        #############################################################\n",
    "        for i in range(0,len(all_songs)):\n",
    "            #Calculate unique listeners (users) of song (item) i\n",
    "            songs_i_data = self.train_data[self.train_data[self.item_id] == all_songs[i]]\n",
    "            users_i = set(songs_i_data[self.user_id].unique())\n",
    "            \n",
    "            for j in range(0,len(user_songs)):       \n",
    "                    \n",
    "                #Get unique listeners (users) of song (item) j\n",
    "                users_j = user_songs_users[j]\n",
    "                    \n",
    "                #Calculate intersection of listeners of songs i and j\n",
    "                users_intersection = users_i.intersection(users_j)\n",
    "                \n",
    "                #Calculate cooccurence_matrix[i,j] as Jaccard Index\n",
    "                if len(users_intersection) != 0:\n",
    "                    #Calculate union of listeners of songs i and j\n",
    "                    users_union = users_i.union(users_j)\n",
    "                    \n",
    "                    cooccurence_matrix[j,i] = float(len(users_intersection))/float(len(users_union))\n",
    "                else:\n",
    "                    cooccurence_matrix[j,i] = 0\n",
    "                    \n",
    "        \n",
    "        return cooccurence_matrix\n",
    "\n",
    "    \n",
    "    #Use the cooccurence matrix to make top recommendations\n",
    "    def generate_top_recommendations(self, user, cooccurence_matrix, all_songs, user_songs):\n",
    "        print(\"Non zero values in cooccurence_matrix :%d\" % np.count_nonzero(cooccurence_matrix))\n",
    "        \n",
    "        #Calculate a weighted average of the scores in cooccurence matrix for all user songs.\n",
    "        user_sim_scores = cooccurence_matrix.sum(axis=0)/float(cooccurence_matrix.shape[0])\n",
    "        user_sim_scores = np.array(user_sim_scores)[0].tolist()\n",
    " \n",
    "        #Sort the indices of user_sim_scores based upon their value\n",
    "        #Also maintain the corresponding score\n",
    "        sort_index = sorted(((e,i) for i,e in enumerate(list(user_sim_scores))), reverse=True)\n",
    "    \n",
    "        #Create a dataframe from the following\n",
    "        columns = ['user_id', 'song', 'score', 'rank']\n",
    "        #index = np.arange(1) # array of numbers for the number of samples\n",
    "        df = pd.DataFrame(columns=columns)\n",
    "         \n",
    "        #Fill the dataframe with top 10 item based recommendations\n",
    "        rank = 1 \n",
    "        for i in range(0,len(sort_index)):\n",
    "            if ~np.isnan(sort_index[i][0]) and all_songs[sort_index[i][1]] not in user_songs and rank <= 10:\n",
    "                df.loc[len(df)]=[user,all_songs[sort_index[i][1]],sort_index[i][0],rank]\n",
    "                rank = rank+1\n",
    "        \n",
    "        #Handle the case where there are no recommendations\n",
    "        if df.shape[0] == 0:\n",
    "            print(\"The current user has no songs for training the item similarity based recommendation model.\")\n",
    "            return -1\n",
    "        else:\n",
    "            return df\n",
    " \n",
    "    #Create the item similarity based recommender system model\n",
    "    def create(self, train_data, user_id, item_id):\n",
    "        self.train_data = train_data\n",
    "        self.user_id = user_id\n",
    "        self.item_id = item_id\n",
    "\n",
    "    #Use the item similarity based recommender system model to\n",
    "    #make recommendations\n",
    "    def recommend(self, user):\n",
    "        \n",
    "        ########################################\n",
    "        #A. Get all unique songs for this user\n",
    "        ########################################\n",
    "        user_songs = self.get_user_items(user)    \n",
    "            \n",
    "        print(\"No. of unique songs for the user: %d\" % len(user_songs))\n",
    "        \n",
    "        ######################################################\n",
    "        #B. Get all unique items (songs) in the training data\n",
    "        ######################################################\n",
    "        all_songs = self.get_all_items_train_data()\n",
    "        \n",
    "        print(\"no. of unique songs in the training set: %d\" % len(all_songs))\n",
    "         \n",
    "        ###############################################\n",
    "        #C. Construct item cooccurence matrix of size \n",
    "        #len(user_songs) X len(songs)\n",
    "        ###############################################\n",
    "        cooccurence_matrix = self.construct_cooccurence_matrix(user_songs, all_songs)\n",
    "        \n",
    "        #######################################################\n",
    "        #D. Use the cooccurence matrix to make recommendations\n",
    "        #######################################################\n",
    "        df_recommendations = self.generate_top_recommendations(user, cooccurence_matrix, all_songs, user_songs)\n",
    "                \n",
    "        return df_recommendations\n",
    "    \n",
    "    #Get similar items to given items\n",
    "    def get_similar_items(self, item_list):\n",
    "        \n",
    "        user_songs = item_list\n",
    "        \n",
    "        ######################################################\n",
    "        #B. Get all unique items (songs) in the training data\n",
    "        ######################################################\n",
    "        all_songs = self.get_all_items_train_data()\n",
    "        \n",
    "        print(\"no. of unique songs in the training set: %d\" % len(all_songs))\n",
    "         \n",
    "        ###############################################\n",
    "        #C. Construct item cooccurence matrix of size \n",
    "        #len(user_songs) X len(songs)\n",
    "        ###############################################\n",
    "        cooccurence_matrix = self.construct_cooccurence_matrix(user_songs, all_songs)\n",
    "        \n",
    "        #######################################################\n",
    "        #D. Use the cooccurence matrix to make recommendations\n",
    "        #######################################################\n",
    "        user = \"\"\n",
    "        df_recommendations = self.generate_top_recommendations(user, cooccurence_matrix, all_songs, user_songs)\n",
    "         \n",
    "        return df_recommendations"
   ]
  },
  {
   "cell_type": "code",
   "execution_count": 56,
   "id": "b5f685d5",
   "metadata": {},
   "outputs": [],
   "source": [
    "pk = item_similarity_recommender_py()\n",
    "pk.create(train_data,'user_id','song')"
   ]
  },
  {
   "cell_type": "code",
   "execution_count": 57,
   "id": "078f40e2",
   "metadata": {},
   "outputs": [
    {
     "name": "stdout",
     "output_type": "stream",
     "text": [
      "Songs heared by the user : 58e850b81533418bc6a1aaaf300c3f284fd85bac\n",
      "Hey_ Soul Sister-Train\n",
      "Broken Lady-The Gatlin Brothers\n",
      "Marry Me-Train\n",
      "Black-Pearl Jam\n",
      "Better Man-Pearl Jam\n",
      "Let's Get It On-Marvin Gaye\n",
      "Oceans-Pearl Jam\n",
      "Even Flow-Pearl Jam\n",
      "Revelry-Kings Of Leon\n",
      "Lost Cause-Beck\n",
      "The Last Thing I Needed First Thing This Morning-Willie Nelson\n",
      "Walking In Memphis-Lonestar\n",
      "Long Black Veil-DAVE MATTHEWS BAND\n",
      "Elevator [Feat. Timbaland] (Album Version)-Flo Rida\n",
      "Keep On The Sunny Side-The Whites\n"
     ]
    }
   ],
   "source": [
    "user = users[21]\n",
    "user_songs = pk.get_user_items(user)\n",
    "print(\"Songs heared by the user : {a}\".format(a=user))\n",
    "for i in user_songs:\n",
    "    print(i)"
   ]
  },
  {
   "cell_type": "code",
   "execution_count": 58,
   "id": "be84b1f8",
   "metadata": {},
   "outputs": [
    {
     "name": "stdout",
     "output_type": "stream",
     "text": [
      "No. of unique songs for the user: 15\n",
      "no. of unique songs in the training set: 6107\n",
      "Non zero values in cooccurence_matrix :809\n"
     ]
    },
    {
     "data": {
      "text/html": [
       "<div>\n",
       "<style scoped>\n",
       "    .dataframe tbody tr th:only-of-type {\n",
       "        vertical-align: middle;\n",
       "    }\n",
       "\n",
       "    .dataframe tbody tr th {\n",
       "        vertical-align: top;\n",
       "    }\n",
       "\n",
       "    .dataframe thead th {\n",
       "        text-align: right;\n",
       "    }\n",
       "</style>\n",
       "<table border=\"1\" class=\"dataframe\">\n",
       "  <thead>\n",
       "    <tr style=\"text-align: right;\">\n",
       "      <th></th>\n",
       "      <th>user_id</th>\n",
       "      <th>song</th>\n",
       "      <th>score</th>\n",
       "      <th>rank</th>\n",
       "    </tr>\n",
       "  </thead>\n",
       "  <tbody>\n",
       "    <tr>\n",
       "      <th>0</th>\n",
       "      <td>58e850b81533418bc6a1aaaf300c3f284fd85bac</td>\n",
       "      <td>Who'd You Kill Now?-Frightened Rabbit</td>\n",
       "      <td>0.033333</td>\n",
       "      <td>1</td>\n",
       "    </tr>\n",
       "    <tr>\n",
       "      <th>1</th>\n",
       "      <td>58e850b81533418bc6a1aaaf300c3f284fd85bac</td>\n",
       "      <td>The Modern Leper-Frightened Rabbit</td>\n",
       "      <td>0.033333</td>\n",
       "      <td>2</td>\n",
       "    </tr>\n",
       "    <tr>\n",
       "      <th>2</th>\n",
       "      <td>58e850b81533418bc6a1aaaf300c3f284fd85bac</td>\n",
       "      <td>Don't Think I Don't Think About It-Darius Rucker</td>\n",
       "      <td>0.033333</td>\n",
       "      <td>3</td>\n",
       "    </tr>\n",
       "    <tr>\n",
       "      <th>3</th>\n",
       "      <td>58e850b81533418bc6a1aaaf300c3f284fd85bac</td>\n",
       "      <td>First Few Desperate Hours-Mountain Goats</td>\n",
       "      <td>0.033333</td>\n",
       "      <td>4</td>\n",
       "    </tr>\n",
       "    <tr>\n",
       "      <th>4</th>\n",
       "      <td>58e850b81533418bc6a1aaaf300c3f284fd85bac</td>\n",
       "      <td>Yes_ I Would-Frightened Rabbit</td>\n",
       "      <td>0.033333</td>\n",
       "      <td>5</td>\n",
       "    </tr>\n",
       "    <tr>\n",
       "      <th>5</th>\n",
       "      <td>58e850b81533418bc6a1aaaf300c3f284fd85bac</td>\n",
       "      <td>Good Arms vs Bad Arms-Frightened Rabbit</td>\n",
       "      <td>0.033333</td>\n",
       "      <td>6</td>\n",
       "    </tr>\n",
       "    <tr>\n",
       "      <th>6</th>\n",
       "      <td>58e850b81533418bc6a1aaaf300c3f284fd85bac</td>\n",
       "      <td>FootShooter-Frightened Rabbit</td>\n",
       "      <td>0.033333</td>\n",
       "      <td>7</td>\n",
       "    </tr>\n",
       "    <tr>\n",
       "      <th>7</th>\n",
       "      <td>58e850b81533418bc6a1aaaf300c3f284fd85bac</td>\n",
       "      <td>Taking Chances-Céline Dion</td>\n",
       "      <td>0.033333</td>\n",
       "      <td>8</td>\n",
       "    </tr>\n",
       "    <tr>\n",
       "      <th>8</th>\n",
       "      <td>58e850b81533418bc6a1aaaf300c3f284fd85bac</td>\n",
       "      <td>Popular-Kristin Chenoweth</td>\n",
       "      <td>0.033333</td>\n",
       "      <td>9</td>\n",
       "    </tr>\n",
       "    <tr>\n",
       "      <th>9</th>\n",
       "      <td>58e850b81533418bc6a1aaaf300c3f284fd85bac</td>\n",
       "      <td>Learned Your Name-Frightened Rabbit</td>\n",
       "      <td>0.033333</td>\n",
       "      <td>10</td>\n",
       "    </tr>\n",
       "  </tbody>\n",
       "</table>\n",
       "</div>"
      ],
      "text/plain": [
       "                                    user_id  \\\n",
       "0  58e850b81533418bc6a1aaaf300c3f284fd85bac   \n",
       "1  58e850b81533418bc6a1aaaf300c3f284fd85bac   \n",
       "2  58e850b81533418bc6a1aaaf300c3f284fd85bac   \n",
       "3  58e850b81533418bc6a1aaaf300c3f284fd85bac   \n",
       "4  58e850b81533418bc6a1aaaf300c3f284fd85bac   \n",
       "5  58e850b81533418bc6a1aaaf300c3f284fd85bac   \n",
       "6  58e850b81533418bc6a1aaaf300c3f284fd85bac   \n",
       "7  58e850b81533418bc6a1aaaf300c3f284fd85bac   \n",
       "8  58e850b81533418bc6a1aaaf300c3f284fd85bac   \n",
       "9  58e850b81533418bc6a1aaaf300c3f284fd85bac   \n",
       "\n",
       "                                               song     score rank  \n",
       "0             Who'd You Kill Now?-Frightened Rabbit  0.033333    1  \n",
       "1                The Modern Leper-Frightened Rabbit  0.033333    2  \n",
       "2  Don't Think I Don't Think About It-Darius Rucker  0.033333    3  \n",
       "3          First Few Desperate Hours-Mountain Goats  0.033333    4  \n",
       "4                    Yes_ I Would-Frightened Rabbit  0.033333    5  \n",
       "5           Good Arms vs Bad Arms-Frightened Rabbit  0.033333    6  \n",
       "6                     FootShooter-Frightened Rabbit  0.033333    7  \n",
       "7                        Taking Chances-Céline Dion  0.033333    8  \n",
       "8                         Popular-Kristin Chenoweth  0.033333    9  \n",
       "9               Learned Your Name-Frightened Rabbit  0.033333   10  "
      ]
     },
     "execution_count": 58,
     "metadata": {},
     "output_type": "execute_result"
    }
   ],
   "source": [
    "pk.recommend(user)"
   ]
  },
  {
   "cell_type": "code",
   "execution_count": 60,
   "id": "35937a3f",
   "metadata": {},
   "outputs": [
    {
     "name": "stdout",
     "output_type": "stream",
     "text": [
      "no. of unique songs in the training set: 6107\n",
      "Non zero values in cooccurence_matrix :142\n"
     ]
    },
    {
     "data": {
      "text/html": [
       "<div>\n",
       "<style scoped>\n",
       "    .dataframe tbody tr th:only-of-type {\n",
       "        vertical-align: middle;\n",
       "    }\n",
       "\n",
       "    .dataframe tbody tr th {\n",
       "        vertical-align: top;\n",
       "    }\n",
       "\n",
       "    .dataframe thead th {\n",
       "        text-align: right;\n",
       "    }\n",
       "</style>\n",
       "<table border=\"1\" class=\"dataframe\">\n",
       "  <thead>\n",
       "    <tr style=\"text-align: right;\">\n",
       "      <th></th>\n",
       "      <th>user_id</th>\n",
       "      <th>song</th>\n",
       "      <th>score</th>\n",
       "      <th>rank</th>\n",
       "    </tr>\n",
       "  </thead>\n",
       "  <tbody>\n",
       "    <tr>\n",
       "      <th>0</th>\n",
       "      <td></td>\n",
       "      <td>Stuck In The Moment-Justin Bieber</td>\n",
       "      <td>0.200000</td>\n",
       "      <td>1</td>\n",
       "    </tr>\n",
       "    <tr>\n",
       "      <th>1</th>\n",
       "      <td></td>\n",
       "      <td>EMOTIONS-Mariah Carey</td>\n",
       "      <td>0.155556</td>\n",
       "      <td>2</td>\n",
       "    </tr>\n",
       "    <tr>\n",
       "      <th>2</th>\n",
       "      <td></td>\n",
       "      <td>Fix You-Coldplay</td>\n",
       "      <td>0.148810</td>\n",
       "      <td>3</td>\n",
       "    </tr>\n",
       "    <tr>\n",
       "      <th>3</th>\n",
       "      <td></td>\n",
       "      <td>Supermassive Black Hole (Twilight Soundtrack V...</td>\n",
       "      <td>0.116883</td>\n",
       "      <td>4</td>\n",
       "    </tr>\n",
       "    <tr>\n",
       "      <th>4</th>\n",
       "      <td></td>\n",
       "      <td>Hero/Heroine-Boys Like Girls</td>\n",
       "      <td>0.111111</td>\n",
       "      <td>5</td>\n",
       "    </tr>\n",
       "    <tr>\n",
       "      <th>5</th>\n",
       "      <td></td>\n",
       "      <td>Creep (Explicit)-Radiohead</td>\n",
       "      <td>0.100962</td>\n",
       "      <td>6</td>\n",
       "    </tr>\n",
       "    <tr>\n",
       "      <th>6</th>\n",
       "      <td></td>\n",
       "      <td>Rang De Basanti-Daler Mehndi;Chitra</td>\n",
       "      <td>0.100000</td>\n",
       "      <td>7</td>\n",
       "    </tr>\n",
       "    <tr>\n",
       "      <th>7</th>\n",
       "      <td></td>\n",
       "      <td>Praise You In This Storm (Medium w/o backgroun...</td>\n",
       "      <td>0.100000</td>\n",
       "      <td>8</td>\n",
       "    </tr>\n",
       "    <tr>\n",
       "      <th>8</th>\n",
       "      <td></td>\n",
       "      <td>Grace Kelly-MIKA</td>\n",
       "      <td>0.100000</td>\n",
       "      <td>9</td>\n",
       "    </tr>\n",
       "    <tr>\n",
       "      <th>9</th>\n",
       "      <td></td>\n",
       "      <td>Try Sleeping With A Broken Heart-Alicia Keys</td>\n",
       "      <td>0.100000</td>\n",
       "      <td>10</td>\n",
       "    </tr>\n",
       "  </tbody>\n",
       "</table>\n",
       "</div>"
      ],
      "text/plain": [
       "  user_id                                               song     score rank\n",
       "0                          Stuck In The Moment-Justin Bieber  0.200000    1\n",
       "1                                      EMOTIONS-Mariah Carey  0.155556    2\n",
       "2                                           Fix You-Coldplay  0.148810    3\n",
       "3          Supermassive Black Hole (Twilight Soundtrack V...  0.116883    4\n",
       "4                               Hero/Heroine-Boys Like Girls  0.111111    5\n",
       "5                                 Creep (Explicit)-Radiohead  0.100962    6\n",
       "6                        Rang De Basanti-Daler Mehndi;Chitra  0.100000    7\n",
       "7          Praise You In This Storm (Medium w/o backgroun...  0.100000    8\n",
       "8                                           Grace Kelly-MIKA  0.100000    9\n",
       "9               Try Sleeping With A Broken Heart-Alicia Keys  0.100000   10"
      ]
     },
     "execution_count": 60,
     "metadata": {},
     "output_type": "execute_result"
    }
   ],
   "source": [
    "pk.get_similar_items(['U Smile-Justin Bieber','Yellow-Coldplay'])"
   ]
  },
  {
   "cell_type": "code",
   "execution_count": null,
   "id": "cf5f1c0e",
   "metadata": {},
   "outputs": [],
   "source": []
  }
 ],
 "metadata": {
  "kernelspec": {
   "display_name": "Python 3",
   "language": "python",
   "name": "python3"
  },
  "language_info": {
   "codemirror_mode": {
    "name": "ipython",
    "version": 3
   },
   "file_extension": ".py",
   "mimetype": "text/x-python",
   "name": "python",
   "nbconvert_exporter": "python",
   "pygments_lexer": "ipython3",
   "version": "3.8.8"
  }
 },
 "nbformat": 4,
 "nbformat_minor": 5
}
