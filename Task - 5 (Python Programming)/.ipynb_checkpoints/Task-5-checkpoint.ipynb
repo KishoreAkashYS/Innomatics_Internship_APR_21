{
 "cells": [
  {
   "cell_type": "code",
   "execution_count": 14,
   "metadata": {},
   "outputs": [
    {
     "name": "stdout",
     "output_type": "stream",
     "text": [
      "456,369.525,896,236\n",
      "456\n",
      "369\n",
      "525\n",
      "896\n",
      "236\n"
     ]
    }
   ],
   "source": [
    "#Ques-1 RegEx split function\n",
    "import re\n",
    "s = input()\n",
    "reg = re.split(r\"[.,]\",s)\n",
    "print('\\n'.join(reg))"
   ]
  },
  {
   "cell_type": "code",
   "execution_count": 1,
   "metadata": {},
   "outputs": [
    {
     "name": "stdout",
     "output_type": "stream",
     "text": [
      "4\n",
      "+4.25\n",
      "True\n",
      "5.00\n",
      "True\n",
      "Hi hello\n",
      "False\n",
      ".90\n",
      "True\n"
     ]
    }
   ],
   "source": [
    "#Ques-2 Detect floating point \n",
    "import re\n",
    "for i in range(int(input())):\n",
    "    print(bool(re.match(r'^[+-]?[0-9]*\\.[0-9]+$',input())))"
   ]
  },
  {
   "cell_type": "code",
   "execution_count": 6,
   "metadata": {},
   "outputs": [
    {
     "name": "stdout",
     "output_type": "stream",
     "text": [
      "1222233344411166\n",
      "2\n"
     ]
    }
   ],
   "source": [
    "#Ques-3 Group,Groupdict\n",
    "import re\n",
    "n=input()\n",
    "reg=re.search(r'([\\w])\\1+',n)\n",
    "print(reg.group(1))"
   ]
  },
  {
   "cell_type": "code",
   "execution_count": 8,
   "metadata": {},
   "outputs": [
    {
     "name": "stdout",
     "output_type": "stream",
     "text": [
      "abcdeeeefgghiiiiiklllnooooukuul\n",
      "eeee\n",
      "iiiii\n",
      "oooou\n",
      "uu\n"
     ]
    }
   ],
   "source": [
    "#Ques-4 findall,finditer\n",
    "import re\n",
    "const = 'QWRTYPSDFGHJKLZXCVBNMqwrtypsdfghjklzxcvbnm'\n",
    "vowl = 'AEIOUaeiou'\n",
    "reg = re.findall(r'(?<=[%s])([%s]{2,})[%s]'%(const,vowl,const),input())\n",
    "print('\\n'.join(reg or ['-1'])) "
   ]
  },
  {
   "cell_type": "code",
   "execution_count": 1,
   "metadata": {},
   "outputs": [
    {
     "name": "stdout",
     "output_type": "stream",
     "text": [
      "aaaadaa\n",
      "aa\n",
      "(0, 1)\n",
      "(1, 2)\n",
      "(2, 3)\n",
      "(5, 6)\n"
     ]
    }
   ],
   "source": [
    "#Ques-5 Start,End\n",
    "import re\n",
    "strg = input()\n",
    "sub = input()\n",
    "reg = re.finditer(r'(?=(' + sub + '))', strg)\n",
    "for i in reg:\n",
    "    if i:\n",
    "        print((i.start(1), i.end(1) - 1))\n",
    "    else:\n",
    "        print(\"(-1, -1)\")"
   ]
  },
  {
   "cell_type": "code",
   "execution_count": 2,
   "metadata": {},
   "outputs": [
    {
     "name": "stdout",
     "output_type": "stream",
     "text": [
      "MMMMC\n",
      "False\n"
     ]
    }
   ],
   "source": [
    "#Ques-6 Validating Roman numerals\n",
    "regex_pattern = r\"^M{0,3}(CM|CD|D?C{0,3})(XC|XL|L?X{0,3})(IX|IV|V?I{0,3})$\"\n",
    "import re\n",
    "print(str(bool(re.match(regex_pattern, input()))))"
   ]
  },
  {
   "cell_type": "code",
   "execution_count": 11,
   "metadata": {},
   "outputs": [
    {
     "name": "stdout",
     "output_type": "stream",
     "text": [
      "2\n",
      "9442681331\n",
      "YES\n",
      "1235869794\n",
      "NO\n"
     ]
    }
   ],
   "source": [
    "#Ques-7 Validating Phone number\n",
    "import re\n",
    "for i in range(int(input())):\n",
    "    print('YES' if re.match(r'[789]\\d{9}$',input()) else 'NO')"
   ]
  },
  {
   "cell_type": "code",
   "execution_count": 14,
   "metadata": {},
   "outputs": [
    {
     "name": "stdout",
     "output_type": "stream",
     "text": [
      "2\n",
      "KISHORE <kishore12akash@gmail.com>\n",
      "KISHORE <kishore12akash@gmail.com>\n",
      "AKASH <avesh@kalas>\n"
     ]
    }
   ],
   "source": [
    "#QUes-8 Validating Email address\n",
    "import re\n",
    "for i in range(int(input())):\n",
    "    a,b = input().split(' ')\n",
    "    reg = re.match(r'<[A-Za-z](\\w|-|\\.|_)+@[A-Za-z]+\\.[A-Za-z]{1,3}>',b)\n",
    "    if reg:\n",
    "        print(a,b)"
   ]
  },
  {
   "cell_type": "code",
   "execution_count": 15,
   "metadata": {},
   "outputs": [
    {
     "name": "stdout",
     "output_type": "stream",
     "text": [
      "2\n",
      "#FFF\n",
      "#123FFF\n"
     ]
    }
   ],
   "source": [
    "#Ques-9 Hex colour code\n",
    "import re\n",
    "for i in range(int(input())):\n",
    "    reg = re.findall(r':?.(#[\\w+]{6}|#[\\w+]{3})',input())\n",
    "    if reg:\n",
    "        print('\\n'.join(reg))"
   ]
  },
  {
   "cell_type": "code",
   "execution_count": 16,
   "metadata": {},
   "outputs": [
    {
     "name": "stdout",
     "output_type": "stream",
     "text": [
      "2\n",
      "<html><head><title>HTML Parser - I</title></head>\n",
      "<body data-modal-target class='1'><h1>HackerRank</h1><br /></body></html>\n",
      "Start : html\n",
      "Start : head\n",
      "Start : title\n",
      "End   : title\n",
      "End   : head\n",
      "Start : body\n",
      "-> data-modal-target > None\n",
      "-> class > 1\n",
      "Start : h1\n",
      "End   : h1\n",
      "Empty : br\n",
      "End   : body\n",
      "End   : html\n"
     ]
    }
   ],
   "source": [
    "#Ques-10 HTML Parser 1\n",
    "from html.parser import HTMLParser\n",
    "class MyHTMLParser(HTMLParser):\n",
    "    def handle_starttag(self, tag, attrs):\n",
    "        print (\"Start :\", tag)\n",
    "        for i in attrs:\n",
    "            print('->',i[0],'>',i[1])\n",
    "    def handle_endtag(self, tag):\n",
    "        print (\"End   :\", tag)\n",
    "    def handle_startendtag(self, tag, attrs):\n",
    "        print (\"Empty :\", tag)\n",
    "        for i in attrs:\n",
    "            print('->',i[0],'>',i[1])\n",
    "parser = MyHTMLParser()\n",
    "parser.feed(''.join(input().strip() for i in range(int(input()))))"
   ]
  },
  {
   "cell_type": "code",
   "execution_count": 17,
   "metadata": {},
   "outputs": [
    {
     "name": "stdout",
     "output_type": "stream",
     "text": [
      "4\n",
      "<!--[if IE 9]>IE9-specific content\n",
      "<![endif]-->\n",
      "<div> Welcome to HackerRank</div>\n",
      "<!--[if IE 9]>IE9-specific content<![endif]-->\n",
      ">>> Multi-line Comment  \n",
      "[if IE 9]>IE9-specific content\n",
      "<![endif]\n",
      ">>> Data\n",
      " Welcome to HackerRank\n",
      ">>> Single-line Comment  \n",
      "[if IE 9]>IE9-specific content<![endif]\n"
     ]
    }
   ],
   "source": [
    "#Ques-11 HTML Parser 2\n",
    "from html.parser import HTMLParser\n",
    "\n",
    "class MyHTMLParser(HTMLParser):\n",
    "    def handle_comment(self, data):\n",
    "        if \"\\n\" in data:\n",
    "            print(\">>> Multi-line Comment  \", data, sep=\"\\n\")\n",
    "        else:\n",
    "            print(\">>> Single-line Comment  \", data, sep=\"\\n\")\n",
    "    def handle_data(self, data):\n",
    "        if data != \"\\n\":\n",
    "            print(\">>> Data\", data, sep=\"\\n\")\n",
    "html = \"\"       \n",
    "for i in range(int(input())):\n",
    "    html += input().rstrip()\n",
    "    html += '\\n'\n",
    "    \n",
    "parser = MyHTMLParser()\n",
    "parser.feed(html)\n",
    "parser.close()"
   ]
  },
  {
   "cell_type": "code",
   "execution_count": 19,
   "metadata": {},
   "outputs": [
    {
     "name": "stdout",
     "output_type": "stream",
     "text": [
      "5\n",
      "<script type=\"text/javascript\" src=\"js/cufon-yui.js\"></script>\n",
      "script\n",
      "-> type > text/javascript\n",
      "-> src > js/cufon-yui.js\n",
      "<script type=\"text/javascript\" src=\"js/TitilliumMaps.font.js\"></script><h1>Business Solutions</h1>\n",
      "script\n",
      "-> type > text/javascript\n",
      "-> src > js/TitilliumMaps.font.js\n",
      "h1\n",
      "<h2>Business Insurance</h2><script type=\"text/javascript\">\n",
      "h2\n",
      "script\n",
      "-> type > text/javascript\n",
      "Cufon.replace('h1, h2', { fontFamily: \"TitilliumMaps26L\", hover: true });\n",
      "</script>\n"
     ]
    }
   ],
   "source": [
    "#Ques-12 Detect HTML tags\n",
    "from html.parser import HTMLParser\n",
    "class MyHTMLParser(HTMLParser):\n",
    "    def handle_starttag(self,tag,attrbs):\n",
    "        print(tag)\n",
    "        for i in attrbs:\n",
    "            print(\"->\",i[0],\">\",i[1])\n",
    "parser = MyHTMLParser()\n",
    "for i in range(int(input())):\n",
    "    parser.feed(input())"
   ]
  },
  {
   "cell_type": "code",
   "execution_count": 20,
   "metadata": {},
   "outputs": [
    {
     "name": "stdout",
     "output_type": "stream",
     "text": [
      "2\n",
      "B1CD102354\n",
      "Invalid\n",
      "B1CDEF2354\n",
      "Valid\n"
     ]
    }
   ],
   "source": [
    "#Ques-13 Validating UID\n",
    "import re\n",
    "for i in range(int(input())):\n",
    "    print('Valid' if re.match(r'^(?!.*(.).*\\1)(?=(?:.*[A-Z]){2,})(?=(?:.*\\d){3,})[a-zA-Z0-9]{10}$',input()) else 'Invalid')"
   ]
  },
  {
   "cell_type": "code",
   "execution_count": 21,
   "metadata": {},
   "outputs": [
    {
     "name": "stdout",
     "output_type": "stream",
     "text": [
      "2\n",
      "5123-4567-8912-3456\n",
      "Valid\n",
      "61234-567-8912-3456\n",
      "Invalid\n"
     ]
    }
   ],
   "source": [
    "#Ques-14 Validating credit card numbers\n",
    "import re\n",
    "for i in range(int(input())):\n",
    "    print(\"Valid\" if re.match(r'^[456]([\\d]{15}|[\\d]{3}(-[\\d]{4}){3})$',input()) else 'Invalid')"
   ]
  },
  {
   "cell_type": "code",
   "execution_count": 23,
   "metadata": {},
   "outputs": [
    {
     "name": "stdout",
     "output_type": "stream",
     "text": [
      "638115\n",
      "True\n"
     ]
    }
   ],
   "source": [
    "#Ques-15 Validating postal codes\n",
    "import re\n",
    "P = input()\n",
    "regex_integer_in_range = r\"[1-9][0-9]{5}$\"\n",
    "regex_alternating_repetitive_digit_pair = r\"(\\d)(?=.\\1)\"\n",
    "print (bool(re.match(regex_integer_in_range, P)) \n",
    "and len(re.findall(regex_alternating_repetitive_digit_pair, P)) < 2)"
   ]
  },
  {
   "cell_type": "code",
   "execution_count": 24,
   "metadata": {},
   "outputs": [
    {
     "name": "stdout",
     "output_type": "stream",
     "text": [
      "7 3\n",
      "Tsi\n",
      "h%x\n",
      "i #\n",
      "sM\n",
      "$a \n",
      "#t%\n",
      "ir!\n",
      "This is Matr\n"
     ]
    }
   ],
   "source": [
    "#Ques-16 Matrix Script\n",
    "import re\n",
    "n,m = map(int,input().split())\n",
    "matrix,space = [],\"\"\n",
    "for i in range(n):\n",
    "    matrix.append(input())\n",
    "for j in zip(*matrix):\n",
    "    space +=\"\".join(j)\n",
    "print(re.sub(r\"(?<=\\w)([^\\w]+)(?=\\w)\", \" \",space))"
   ]
  },
  {
   "cell_type": "code",
   "execution_count": 26,
   "metadata": {},
   "outputs": [
    {
     "name": "stdout",
     "output_type": "stream",
     "text": [
      "6\n",
      "a = 1;\n",
      "b = input();\n",
      "if a + b > 0 && a - b < 0:\n",
      "start()\n",
      "elif a*b > 10 || a/b < 1:\n",
      "stop()\n",
      "a = 1;\n",
      "b = input();\n",
      "if a + b > 0 and a - b < 0:\n",
      "start()\n",
      "elif a*b > 10 or a/b < 1:\n",
      "stop()\n"
     ]
    }
   ],
   "source": [
    "#Ques-17 Regex Substitution\n",
    "import re\n",
    "print('\\n'.join(re.sub(R'(?<= )(&&|\\|\\|)(?= )', lambda x: 'and' if x.group()=='&&' else 'or', input()) for _ in range(int(input().strip()))))"
   ]
  }
 ],
 "metadata": {
  "kernelspec": {
   "display_name": "Python 3",
   "language": "python",
   "name": "python3"
  },
  "language_info": {
   "codemirror_mode": {
    "name": "ipython",
    "version": 3
   },
   "file_extension": ".py",
   "mimetype": "text/x-python",
   "name": "python",
   "nbconvert_exporter": "python",
   "pygments_lexer": "ipython3",
   "version": "3.8.3"
  }
 },
 "nbformat": 4,
 "nbformat_minor": 4
}
